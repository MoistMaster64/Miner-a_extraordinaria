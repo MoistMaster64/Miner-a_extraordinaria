{
 "cells": [
  {
   "cell_type": "markdown",
   "metadata": {},
   "source": [
    "# Consumo de alcohol y tabaco y su relación con el coeficiente de felicidad de distintos paises.\n",
    "\n"
   ]
  },
  {
   "cell_type": "markdown",
   "metadata": {},
   "source": [
    "En este estudio investigaremos la relación entre el consumo de tabaco y alcohol con el coeficiente de felicidad de distintos paises. "
   ]
  },
  {
   "cell_type": "code",
   "execution_count": 91,
   "metadata": {},
   "outputs": [],
   "source": [
    "#Cargamos librerías\n",
    "import pandas as pd\n",
    "from sklearn.decomposition import PCA\n",
    "from sklearn.preprocessing import StandardScaler\n",
    "import matplotlib.pyplot as plt"
   ]
  },
  {
   "cell_type": "markdown",
   "metadata": {},
   "source": [
    "## Selección de los datos"
   ]
  },
  {
   "cell_type": "markdown",
   "metadata": {},
   "source": [
    "### Coeficiente de Felicidad (2005-2023)\n"
   ]
  },
  {
   "cell_type": "code",
   "execution_count": 92,
   "metadata": {},
   "outputs": [],
   "source": [
    "# Cargar los datos especificando la codificación 'latin1'\n",
    "df = pd.read_csv(\"World-happiness-report-updated_2024.csv\", encoding='latin1', sep=',')"
   ]
  },
  {
   "cell_type": "code",
   "execution_count": 93,
   "metadata": {},
   "outputs": [
    {
     "data": {
      "text/html": [
       "<div>\n",
       "<style scoped>\n",
       "    .dataframe tbody tr th:only-of-type {\n",
       "        vertical-align: middle;\n",
       "    }\n",
       "\n",
       "    .dataframe tbody tr th {\n",
       "        vertical-align: top;\n",
       "    }\n",
       "\n",
       "    .dataframe thead th {\n",
       "        text-align: right;\n",
       "    }\n",
       "</style>\n",
       "<table border=\"1\" class=\"dataframe\">\n",
       "  <thead>\n",
       "    <tr style=\"text-align: right;\">\n",
       "      <th></th>\n",
       "      <th>Country name</th>\n",
       "      <th>year</th>\n",
       "      <th>Life Ladder</th>\n",
       "      <th>Log GDP per capita</th>\n",
       "      <th>Social support</th>\n",
       "      <th>Healthy life expectancy at birth</th>\n",
       "      <th>Freedom to make life choices</th>\n",
       "      <th>Generosity</th>\n",
       "      <th>Perceptions of corruption</th>\n",
       "      <th>Positive affect</th>\n",
       "      <th>Negative affect</th>\n",
       "    </tr>\n",
       "  </thead>\n",
       "  <tbody>\n",
       "    <tr>\n",
       "      <th>0</th>\n",
       "      <td>Afghanistan</td>\n",
       "      <td>2008</td>\n",
       "      <td>3.724</td>\n",
       "      <td>7.350</td>\n",
       "      <td>0.451</td>\n",
       "      <td>50.5</td>\n",
       "      <td>0.718</td>\n",
       "      <td>0.164</td>\n",
       "      <td>0.882</td>\n",
       "      <td>0.414</td>\n",
       "      <td>0.258</td>\n",
       "    </tr>\n",
       "    <tr>\n",
       "      <th>1</th>\n",
       "      <td>Afghanistan</td>\n",
       "      <td>2009</td>\n",
       "      <td>4.402</td>\n",
       "      <td>7.509</td>\n",
       "      <td>0.552</td>\n",
       "      <td>50.8</td>\n",
       "      <td>0.679</td>\n",
       "      <td>0.187</td>\n",
       "      <td>0.850</td>\n",
       "      <td>0.481</td>\n",
       "      <td>0.237</td>\n",
       "    </tr>\n",
       "    <tr>\n",
       "      <th>2</th>\n",
       "      <td>Afghanistan</td>\n",
       "      <td>2010</td>\n",
       "      <td>4.758</td>\n",
       "      <td>7.614</td>\n",
       "      <td>0.539</td>\n",
       "      <td>51.1</td>\n",
       "      <td>0.600</td>\n",
       "      <td>0.118</td>\n",
       "      <td>0.707</td>\n",
       "      <td>0.517</td>\n",
       "      <td>0.275</td>\n",
       "    </tr>\n",
       "    <tr>\n",
       "      <th>3</th>\n",
       "      <td>Afghanistan</td>\n",
       "      <td>2011</td>\n",
       "      <td>3.832</td>\n",
       "      <td>7.581</td>\n",
       "      <td>0.521</td>\n",
       "      <td>51.4</td>\n",
       "      <td>0.496</td>\n",
       "      <td>0.160</td>\n",
       "      <td>0.731</td>\n",
       "      <td>0.480</td>\n",
       "      <td>0.267</td>\n",
       "    </tr>\n",
       "    <tr>\n",
       "      <th>4</th>\n",
       "      <td>Afghanistan</td>\n",
       "      <td>2012</td>\n",
       "      <td>3.783</td>\n",
       "      <td>7.661</td>\n",
       "      <td>0.521</td>\n",
       "      <td>51.7</td>\n",
       "      <td>0.531</td>\n",
       "      <td>0.234</td>\n",
       "      <td>0.776</td>\n",
       "      <td>0.614</td>\n",
       "      <td>0.268</td>\n",
       "    </tr>\n",
       "  </tbody>\n",
       "</table>\n",
       "</div>"
      ],
      "text/plain": [
       "  Country name  year  Life Ladder  Log GDP per capita  Social support  \\\n",
       "0  Afghanistan  2008        3.724               7.350           0.451   \n",
       "1  Afghanistan  2009        4.402               7.509           0.552   \n",
       "2  Afghanistan  2010        4.758               7.614           0.539   \n",
       "3  Afghanistan  2011        3.832               7.581           0.521   \n",
       "4  Afghanistan  2012        3.783               7.661           0.521   \n",
       "\n",
       "   Healthy life expectancy at birth  Freedom to make life choices  Generosity  \\\n",
       "0                              50.5                         0.718       0.164   \n",
       "1                              50.8                         0.679       0.187   \n",
       "2                              51.1                         0.600       0.118   \n",
       "3                              51.4                         0.496       0.160   \n",
       "4                              51.7                         0.531       0.234   \n",
       "\n",
       "   Perceptions of corruption  Positive affect  Negative affect  \n",
       "0                      0.882            0.414            0.258  \n",
       "1                      0.850            0.481            0.237  \n",
       "2                      0.707            0.517            0.275  \n",
       "3                      0.731            0.480            0.267  \n",
       "4                      0.776            0.614            0.268  "
      ]
     },
     "execution_count": 93,
     "metadata": {},
     "output_type": "execute_result"
    }
   ],
   "source": [
    "df.head(5)"
   ]
  },
  {
   "cell_type": "markdown",
   "metadata": {},
   "source": [
    "Podemos Observar las siguientes variables:\n",
    "1. Country name: nombre del país\n",
    "2. Life Ladder: Coeficiente de felicidad\n",
    "3. Log GDP per capita: El logaritmo natural del PIB per cápita del país, ajustado por la paridad del poder adquisitivo (PPA) para tener en cuenta las diferencias en el coste de vida entre países.\n",
    "4. El promedio nacional de respuestas binarias (0 o 1 que representan No/Sí) a la pregunta sobre tener familiares o amigos con quienes contar en tiempos de problemas.\n",
    "5. Healthy life expectancy at birth: Esperanza de vida sana al nacer.\n",
    "6. Freedom to make life choices: Media nacional de respuestas sobre la libertad dentro del país (coeficiente de libertad).\n",
    "7. Generosidad: Coeficiente de generosidad\n",
    "8. Perceptions of corruption: Coeficiente de percepción de corrupción.\n",
    "9. Positive effect: El promedio nacional de respuestas a preguntas sobre las emociones positivas vividas ayer.\n",
    "10. Negative effect: El promedio nacional de respuestas a preguntas sobre las emociones negativas vividas ayer.\n",
    "\n",
    "La base de datos ha sido obtenida a traves de: https://www.kaggle.com/datasets/jainaru/world-happiness-report-2024-yearly-updated"
   ]
  },
  {
   "cell_type": "markdown",
   "metadata": {},
   "source": [
    "### Consumo de Tabaco (2008-2018)"
   ]
  },
  {
   "cell_type": "code",
   "execution_count": 94,
   "metadata": {},
   "outputs": [],
   "source": [
    "#cargamos los datos del uso de tabaco global:\n",
    "df_smoking1 =  pd.read_csv(\"SmokingAndTobaccoData2008.csv\", sep=',')\n",
    "df_smoking2 =  pd.read_csv(\"SmokingAndTobaccoData2010.csv\", sep=',')\n",
    "df_smoking3 =  pd.read_csv(\"SmokingAndTobaccoData2012.csv\", sep=',')\n",
    "df_smoking4 =  pd.read_csv(\"SmokingAndTobaccoData2014.csv\", sep=',')\n",
    "df_smoking5 =  pd.read_csv(\"SmokingAndTobaccoData2016.csv\", sep=',')\n",
    "df_smoking6 =  pd.read_csv(\"SmokingAndTobaccoData2018.csv\", sep=',')"
   ]
  },
  {
   "cell_type": "code",
   "execution_count": 95,
   "metadata": {},
   "outputs": [
    {
     "data": {
      "text/html": [
       "<div>\n",
       "<style scoped>\n",
       "    .dataframe tbody tr th:only-of-type {\n",
       "        vertical-align: middle;\n",
       "    }\n",
       "\n",
       "    .dataframe tbody tr th {\n",
       "        vertical-align: top;\n",
       "    }\n",
       "\n",
       "    .dataframe thead th {\n",
       "        text-align: right;\n",
       "    }\n",
       "</style>\n",
       "<table border=\"1\" class=\"dataframe\">\n",
       "  <thead>\n",
       "    <tr style=\"text-align: right;\">\n",
       "      <th></th>\n",
       "      <th>Location</th>\n",
       "      <th>CigaretteSmokingPrevalence</th>\n",
       "      <th>TobaccoSmokingPrevalence</th>\n",
       "      <th>TobaccoUsePrevalance</th>\n",
       "      <th>HealyWarningsOnSmoking</th>\n",
       "      <th>MostSoldBrandCigaretteCurrency</th>\n",
       "      <th>MostSoldBrandCigarettePrice</th>\n",
       "      <th>TreatmentInHealthFacilities</th>\n",
       "      <th>BanOnEducationalFacilites</th>\n",
       "      <th>BanOnGovernmentFacilites</th>\n",
       "      <th>BanOnHealthcareFacilites</th>\n",
       "      <th>BanOnIndoorOffices</th>\n",
       "      <th>BanOnPublicTransport</th>\n",
       "      <th>BanOnPubsAndBars</th>\n",
       "      <th>BanOnRestaurants</th>\n",
       "      <th>BanOnUniversities</th>\n",
       "      <th>RegulationsOnSmokeFreeEnvironments</th>\n",
       "    </tr>\n",
       "  </thead>\n",
       "  <tbody>\n",
       "    <tr>\n",
       "      <th>0</th>\n",
       "      <td>Albania</td>\n",
       "      <td>46.8 [35.3 – 56.3]</td>\n",
       "      <td>54.4 [45 – 66.6]</td>\n",
       "      <td>54.4 [45 – 66.6]</td>\n",
       "      <td>No</td>\n",
       "      <td>All</td>\n",
       "      <td>130</td>\n",
       "      <td>Data not available</td>\n",
       "      <td>Not available</td>\n",
       "      <td>Not available</td>\n",
       "      <td>Not available</td>\n",
       "      <td>Not available</td>\n",
       "      <td>Not available</td>\n",
       "      <td>Not available</td>\n",
       "      <td>Not available</td>\n",
       "      <td>Not available</td>\n",
       "      <td>Not available</td>\n",
       "    </tr>\n",
       "    <tr>\n",
       "      <th>1</th>\n",
       "      <td>Algeria</td>\n",
       "      <td>12.1 [6.7 – 17.6]</td>\n",
       "      <td>15.9 [11.2 – 21.1]</td>\n",
       "      <td>20.8 [11.3 – 30.3]</td>\n",
       "      <td>No</td>\n",
       "      <td>DZD</td>\n",
       "      <td>70</td>\n",
       "      <td>No</td>\n",
       "      <td>Not available</td>\n",
       "      <td>Not available</td>\n",
       "      <td>Not available</td>\n",
       "      <td>Not available</td>\n",
       "      <td>Not available</td>\n",
       "      <td>Not available</td>\n",
       "      <td>Not available</td>\n",
       "      <td>Not available</td>\n",
       "      <td>3</td>\n",
       "    </tr>\n",
       "    <tr>\n",
       "      <th>2</th>\n",
       "      <td>Andorra</td>\n",
       "      <td>28.9 [19 – 41.1]</td>\n",
       "      <td>35.1 [26.3 – 44.9]</td>\n",
       "      <td>35.1 [26.3 – 44.9]</td>\n",
       "      <td>Not applicable</td>\n",
       "      <td>Not applicable</td>\n",
       "      <td>Data not available</td>\n",
       "      <td>No</td>\n",
       "      <td>Not available</td>\n",
       "      <td>Not available</td>\n",
       "      <td>Not available</td>\n",
       "      <td>Not available</td>\n",
       "      <td>Not available</td>\n",
       "      <td>Not available</td>\n",
       "      <td>Not available</td>\n",
       "      <td>Not available</td>\n",
       "      <td>Not applicable</td>\n",
       "    </tr>\n",
       "    <tr>\n",
       "      <th>3</th>\n",
       "      <td>Argentina</td>\n",
       "      <td>28.3 [23 – 33.6]</td>\n",
       "      <td>31.2 [25.5 – 37.1]</td>\n",
       "      <td>34.1 [27.2 – 42.8]</td>\n",
       "      <td>Not applicable</td>\n",
       "      <td>ARS</td>\n",
       "      <td>3.8</td>\n",
       "      <td>Yes in some</td>\n",
       "      <td>Not available</td>\n",
       "      <td>Not available</td>\n",
       "      <td>Not available</td>\n",
       "      <td>Not available</td>\n",
       "      <td>Not available</td>\n",
       "      <td>Not available</td>\n",
       "      <td>Not available</td>\n",
       "      <td>Not available</td>\n",
       "      <td>Not applicable</td>\n",
       "    </tr>\n",
       "    <tr>\n",
       "      <th>4</th>\n",
       "      <td>Armenia</td>\n",
       "      <td>29.2 [24.3 – 34.1]</td>\n",
       "      <td>31.3 [26.4 – 36.6]</td>\n",
       "      <td>31.3 [26.4 – 36.6]</td>\n",
       "      <td>Not applicable</td>\n",
       "      <td>AMD</td>\n",
       "      <td>500</td>\n",
       "      <td>Yes in some</td>\n",
       "      <td>Not available</td>\n",
       "      <td>Not available</td>\n",
       "      <td>Not available</td>\n",
       "      <td>Not available</td>\n",
       "      <td>Not available</td>\n",
       "      <td>Not available</td>\n",
       "      <td>Not available</td>\n",
       "      <td>Not available</td>\n",
       "      <td>Not available</td>\n",
       "    </tr>\n",
       "  </tbody>\n",
       "</table>\n",
       "</div>"
      ],
      "text/plain": [
       "    Location CigaretteSmokingPrevalence TobaccoSmokingPrevalence  \\\n",
       "0    Albania         46.8 [35.3 – 56.3]         54.4 [45 – 66.6]   \n",
       "1    Algeria          12.1 [6.7 – 17.6]       15.9 [11.2 – 21.1]   \n",
       "2    Andorra           28.9 [19 – 41.1]       35.1 [26.3 – 44.9]   \n",
       "3  Argentina           28.3 [23 – 33.6]       31.2 [25.5 – 37.1]   \n",
       "4    Armenia         29.2 [24.3 – 34.1]       31.3 [26.4 – 36.6]   \n",
       "\n",
       "  TobaccoUsePrevalance HealyWarningsOnSmoking MostSoldBrandCigaretteCurrency  \\\n",
       "0     54.4 [45 – 66.6]                     No                            All   \n",
       "1   20.8 [11.3 – 30.3]                     No                            DZD   \n",
       "2   35.1 [26.3 – 44.9]         Not applicable                 Not applicable   \n",
       "3   34.1 [27.2 – 42.8]         Not applicable                            ARS   \n",
       "4   31.3 [26.4 – 36.6]         Not applicable                            AMD   \n",
       "\n",
       "  MostSoldBrandCigarettePrice TreatmentInHealthFacilities  \\\n",
       "0                         130          Data not available   \n",
       "1                          70                          No   \n",
       "2          Data not available                          No   \n",
       "3                         3.8                 Yes in some   \n",
       "4                         500                 Yes in some   \n",
       "\n",
       "  BanOnEducationalFacilites BanOnGovernmentFacilites BanOnHealthcareFacilites  \\\n",
       "0             Not available            Not available            Not available   \n",
       "1             Not available            Not available            Not available   \n",
       "2             Not available            Not available            Not available   \n",
       "3             Not available            Not available            Not available   \n",
       "4             Not available            Not available            Not available   \n",
       "\n",
       "  BanOnIndoorOffices BanOnPublicTransport BanOnPubsAndBars BanOnRestaurants  \\\n",
       "0      Not available        Not available    Not available    Not available   \n",
       "1      Not available        Not available    Not available    Not available   \n",
       "2      Not available        Not available    Not available    Not available   \n",
       "3      Not available        Not available    Not available    Not available   \n",
       "4      Not available        Not available    Not available    Not available   \n",
       "\n",
       "  BanOnUniversities RegulationsOnSmokeFreeEnvironments  \n",
       "0     Not available                      Not available  \n",
       "1     Not available                                  3  \n",
       "2     Not available                     Not applicable  \n",
       "3     Not available                     Not applicable  \n",
       "4     Not available                      Not available  "
      ]
     },
     "execution_count": 95,
     "metadata": {},
     "output_type": "execute_result"
    }
   ],
   "source": [
    "df_smoking1.head(5)"
   ]
  },
  {
   "cell_type": "markdown",
   "metadata": {},
   "source": [
    "La base de datos ha sido obtenida a traves de: kaggle.com/datasets/ozgurdogan646/who-tobacco-and-smoking-data-20082018?select=SmokingAndTobaccoData2008.csv"
   ]
  },
  {
   "cell_type": "markdown",
   "metadata": {},
   "source": [
    "### Consumo de Alcohol (2000-2018)"
   ]
  },
  {
   "cell_type": "code",
   "execution_count": 96,
   "metadata": {},
   "outputs": [],
   "source": [
    "df_alcohol1 = pd.read_csv(\"alcohol-consumption-vs-gdp-per-capita.csv\", sep=',')"
   ]
  },
  {
   "cell_type": "code",
   "execution_count": 97,
   "metadata": {},
   "outputs": [
    {
     "data": {
      "text/html": [
       "<div>\n",
       "<style scoped>\n",
       "    .dataframe tbody tr th:only-of-type {\n",
       "        vertical-align: middle;\n",
       "    }\n",
       "\n",
       "    .dataframe tbody tr th {\n",
       "        vertical-align: top;\n",
       "    }\n",
       "\n",
       "    .dataframe thead th {\n",
       "        text-align: right;\n",
       "    }\n",
       "</style>\n",
       "<table border=\"1\" class=\"dataframe\">\n",
       "  <thead>\n",
       "    <tr style=\"text-align: right;\">\n",
       "      <th></th>\n",
       "      <th>Entity</th>\n",
       "      <th>Code</th>\n",
       "      <th>Year</th>\n",
       "      <th>Total alcohol consumption per capita (liters of pure alcohol, projected estimates, 15+ years of age)</th>\n",
       "      <th>GDP per capita, PPP (constant 2017 international $)</th>\n",
       "      <th>Population (historical estimates)</th>\n",
       "      <th>Continent</th>\n",
       "    </tr>\n",
       "  </thead>\n",
       "  <tbody>\n",
       "    <tr>\n",
       "      <th>0</th>\n",
       "      <td>Abkhazia</td>\n",
       "      <td>OWID_ABK</td>\n",
       "      <td>2015</td>\n",
       "      <td>NaN</td>\n",
       "      <td>NaN</td>\n",
       "      <td>NaN</td>\n",
       "      <td>Asia</td>\n",
       "    </tr>\n",
       "    <tr>\n",
       "      <th>1</th>\n",
       "      <td>Afghanistan</td>\n",
       "      <td>AFG</td>\n",
       "      <td>2010</td>\n",
       "      <td>0.21</td>\n",
       "      <td>1957.029070</td>\n",
       "      <td>29185511.0</td>\n",
       "      <td>NaN</td>\n",
       "    </tr>\n",
       "    <tr>\n",
       "      <th>2</th>\n",
       "      <td>Afghanistan</td>\n",
       "      <td>AFG</td>\n",
       "      <td>2015</td>\n",
       "      <td>0.21</td>\n",
       "      <td>2068.265904</td>\n",
       "      <td>34413603.0</td>\n",
       "      <td>Asia</td>\n",
       "    </tr>\n",
       "    <tr>\n",
       "      <th>3</th>\n",
       "      <td>Afghanistan</td>\n",
       "      <td>AFG</td>\n",
       "      <td>2018</td>\n",
       "      <td>0.21</td>\n",
       "      <td>2033.804389</td>\n",
       "      <td>37171922.0</td>\n",
       "      <td>NaN</td>\n",
       "    </tr>\n",
       "    <tr>\n",
       "      <th>4</th>\n",
       "      <td>Afghanistan</td>\n",
       "      <td>AFG</td>\n",
       "      <td>2002</td>\n",
       "      <td>NaN</td>\n",
       "      <td>1189.784668</td>\n",
       "      <td>22600774.0</td>\n",
       "      <td>NaN</td>\n",
       "    </tr>\n",
       "  </tbody>\n",
       "</table>\n",
       "</div>"
      ],
      "text/plain": [
       "        Entity      Code  Year  \\\n",
       "0     Abkhazia  OWID_ABK  2015   \n",
       "1  Afghanistan       AFG  2010   \n",
       "2  Afghanistan       AFG  2015   \n",
       "3  Afghanistan       AFG  2018   \n",
       "4  Afghanistan       AFG  2002   \n",
       "\n",
       "   Total alcohol consumption per capita (liters of pure alcohol, projected estimates, 15+ years of age)  \\\n",
       "0                                                NaN                                                      \n",
       "1                                               0.21                                                      \n",
       "2                                               0.21                                                      \n",
       "3                                               0.21                                                      \n",
       "4                                                NaN                                                      \n",
       "\n",
       "   GDP per capita, PPP (constant 2017 international $)  \\\n",
       "0                                                NaN     \n",
       "1                                        1957.029070     \n",
       "2                                        2068.265904     \n",
       "3                                        2033.804389     \n",
       "4                                        1189.784668     \n",
       "\n",
       "   Population (historical estimates) Continent  \n",
       "0                                NaN      Asia  \n",
       "1                         29185511.0       NaN  \n",
       "2                         34413603.0      Asia  \n",
       "3                         37171922.0       NaN  \n",
       "4                         22600774.0       NaN  "
      ]
     },
     "execution_count": 97,
     "metadata": {},
     "output_type": "execute_result"
    }
   ],
   "source": [
    "df_alcohol1.head(5)"
   ]
  },
  {
   "cell_type": "markdown",
   "metadata": {},
   "source": [
    "La base de datos ha sido obtenida a traves de:https://www.kaggle.com/code/mattop/worldwide-alcohol-consumption-eda"
   ]
  },
  {
   "cell_type": "markdown",
   "metadata": {},
   "source": [
    "## Preprocesamiento de Datos"
   ]
  },
  {
   "cell_type": "markdown",
   "metadata": {},
   "source": [
    "### Consumo Tabaco"
   ]
  },
  {
   "cell_type": "code",
   "execution_count": 98,
   "metadata": {},
   "outputs": [],
   "source": [
    "dfs = [df_smoking1, df_smoking2, df_smoking3, df_smoking4, df_smoking5, df_smoking6]\n",
    "\n",
    "# Seleccionamos las columnas de los dfs que nos interesan y las concatenamos\n",
    "df_combined = pd.concat([df[['Location', 'TobaccoSmokingPrevalence']] for df in dfs], ignore_index=True)"
   ]
  },
  {
   "cell_type": "code",
   "execution_count": 99,
   "metadata": {},
   "outputs": [
    {
     "data": {
      "text/html": [
       "<div>\n",
       "<style scoped>\n",
       "    .dataframe tbody tr th:only-of-type {\n",
       "        vertical-align: middle;\n",
       "    }\n",
       "\n",
       "    .dataframe tbody tr th {\n",
       "        vertical-align: top;\n",
       "    }\n",
       "\n",
       "    .dataframe thead th {\n",
       "        text-align: right;\n",
       "    }\n",
       "</style>\n",
       "<table border=\"1\" class=\"dataframe\">\n",
       "  <thead>\n",
       "    <tr style=\"text-align: right;\">\n",
       "      <th></th>\n",
       "      <th>Location</th>\n",
       "      <th>TobaccoSmokingPrevalence</th>\n",
       "    </tr>\n",
       "  </thead>\n",
       "  <tbody>\n",
       "    <tr>\n",
       "      <th>0</th>\n",
       "      <td>Albania</td>\n",
       "      <td>54.4 [45 – 66.6]</td>\n",
       "    </tr>\n",
       "    <tr>\n",
       "      <th>1</th>\n",
       "      <td>Algeria</td>\n",
       "      <td>15.9 [11.2 – 21.1]</td>\n",
       "    </tr>\n",
       "    <tr>\n",
       "      <th>2</th>\n",
       "      <td>Andorra</td>\n",
       "      <td>35.1 [26.3 – 44.9]</td>\n",
       "    </tr>\n",
       "    <tr>\n",
       "      <th>3</th>\n",
       "      <td>Argentina</td>\n",
       "      <td>31.2 [25.5 – 37.1]</td>\n",
       "    </tr>\n",
       "    <tr>\n",
       "      <th>4</th>\n",
       "      <td>Armenia</td>\n",
       "      <td>31.3 [26.4 – 36.6]</td>\n",
       "    </tr>\n",
       "  </tbody>\n",
       "</table>\n",
       "</div>"
      ],
      "text/plain": [
       "    Location TobaccoSmokingPrevalence\n",
       "0    Albania         54.4 [45 – 66.6]\n",
       "1    Algeria       15.9 [11.2 – 21.1]\n",
       "2    Andorra       35.1 [26.3 – 44.9]\n",
       "3  Argentina       31.2 [25.5 – 37.1]\n",
       "4    Armenia       31.3 [26.4 – 36.6]"
      ]
     },
     "execution_count": 99,
     "metadata": {},
     "output_type": "execute_result"
    }
   ],
   "source": [
    "df_combined.head()"
   ]
  },
  {
   "cell_type": "code",
   "execution_count": 100,
   "metadata": {},
   "outputs": [],
   "source": [
    "#Quitamos Nans\n",
    "df_combined.dropna(inplace=True)\n",
    "\n",
    "# Función para quitar los [] en la columna TobaccoSmokingPrevalence\n",
    "def clean_prevalence(value):\n",
    "    cleaned_value = str(value).split('[')[0].strip()\n",
    "    try:\n",
    "        #convertimos a float\n",
    "        return float(cleaned_value)\n",
    "    except ValueError:\n",
    "        return None\n",
    "    \n",
    "\n",
    "# Limpiamos la columna TobaccoSmokingPrevalence\n",
    "df_combined['TobaccoSmokingPrevalence'] = df_combined['TobaccoSmokingPrevalence'].apply(clean_prevalence)\n",
    "\n",
    "# Quitamos posibles Nans nuevos\n",
    "df_combined.dropna(subset=['Location', 'TobaccoSmokingPrevalence'], inplace=True)\n"
   ]
  },
  {
   "cell_type": "code",
   "execution_count": 101,
   "metadata": {},
   "outputs": [
    {
     "data": {
      "text/html": [
       "<div>\n",
       "<style scoped>\n",
       "    .dataframe tbody tr th:only-of-type {\n",
       "        vertical-align: middle;\n",
       "    }\n",
       "\n",
       "    .dataframe tbody tr th {\n",
       "        vertical-align: top;\n",
       "    }\n",
       "\n",
       "    .dataframe thead th {\n",
       "        text-align: right;\n",
       "    }\n",
       "</style>\n",
       "<table border=\"1\" class=\"dataframe\">\n",
       "  <thead>\n",
       "    <tr style=\"text-align: right;\">\n",
       "      <th></th>\n",
       "      <th>Country name</th>\n",
       "      <th>Average Tobacco Prevalence</th>\n",
       "    </tr>\n",
       "  </thead>\n",
       "  <tbody>\n",
       "    <tr>\n",
       "      <th>0</th>\n",
       "      <td>Albania</td>\n",
       "      <td>52.200000</td>\n",
       "    </tr>\n",
       "    <tr>\n",
       "      <th>1</th>\n",
       "      <td>Algeria</td>\n",
       "      <td>15.116667</td>\n",
       "    </tr>\n",
       "    <tr>\n",
       "      <th>2</th>\n",
       "      <td>Andorra</td>\n",
       "      <td>34.350000</td>\n",
       "    </tr>\n",
       "    <tr>\n",
       "      <th>3</th>\n",
       "      <td>Argentina</td>\n",
       "      <td>25.533333</td>\n",
       "    </tr>\n",
       "    <tr>\n",
       "      <th>4</th>\n",
       "      <td>Armenia</td>\n",
       "      <td>28.816667</td>\n",
       "    </tr>\n",
       "  </tbody>\n",
       "</table>\n",
       "</div>"
      ],
      "text/plain": [
       "  Country name  Average Tobacco Prevalence\n",
       "0      Albania                   52.200000\n",
       "1      Algeria                   15.116667\n",
       "2      Andorra                   34.350000\n",
       "3    Argentina                   25.533333\n",
       "4      Armenia                   28.816667"
      ]
     },
     "execution_count": 101,
     "metadata": {},
     "output_type": "execute_result"
    }
   ],
   "source": [
    "# Calculate the average Tobacco Smoking Prevalence for each country\n",
    "df_smoking = df_combined.groupby('Location')['TobaccoSmokingPrevalence'].mean().reset_index()\n",
    "\n",
    "# Rename columns for clarity\n",
    "df_smoking.columns = ['Country name', 'Average Tobacco Prevalence']\n",
    "\n",
    "df_smoking.head(5)"
   ]
  },
  {
   "cell_type": "code",
   "execution_count": 102,
   "metadata": {},
   "outputs": [
    {
     "data": {
      "text/html": [
       "<div>\n",
       "<style scoped>\n",
       "    .dataframe tbody tr th:only-of-type {\n",
       "        vertical-align: middle;\n",
       "    }\n",
       "\n",
       "    .dataframe tbody tr th {\n",
       "        vertical-align: top;\n",
       "    }\n",
       "\n",
       "    .dataframe thead th {\n",
       "        text-align: right;\n",
       "    }\n",
       "</style>\n",
       "<table border=\"1\" class=\"dataframe\">\n",
       "  <thead>\n",
       "    <tr style=\"text-align: right;\">\n",
       "      <th></th>\n",
       "      <th>Average Tobacco Prevalence</th>\n",
       "    </tr>\n",
       "  </thead>\n",
       "  <tbody>\n",
       "    <tr>\n",
       "      <th>count</th>\n",
       "      <td>149.000000</td>\n",
       "    </tr>\n",
       "    <tr>\n",
       "      <th>mean</th>\n",
       "      <td>23.558949</td>\n",
       "    </tr>\n",
       "    <tr>\n",
       "      <th>std</th>\n",
       "      <td>11.789620</td>\n",
       "    </tr>\n",
       "    <tr>\n",
       "      <th>min</th>\n",
       "      <td>2.266667</td>\n",
       "    </tr>\n",
       "    <tr>\n",
       "      <th>25%</th>\n",
       "      <td>14.483333</td>\n",
       "    </tr>\n",
       "    <tr>\n",
       "      <th>50%</th>\n",
       "      <td>23.766667</td>\n",
       "    </tr>\n",
       "    <tr>\n",
       "      <th>75%</th>\n",
       "      <td>30.800000</td>\n",
       "    </tr>\n",
       "    <tr>\n",
       "      <th>max</th>\n",
       "      <td>56.116667</td>\n",
       "    </tr>\n",
       "  </tbody>\n",
       "</table>\n",
       "</div>"
      ],
      "text/plain": [
       "       Average Tobacco Prevalence\n",
       "count                  149.000000\n",
       "mean                    23.558949\n",
       "std                     11.789620\n",
       "min                      2.266667\n",
       "25%                     14.483333\n",
       "50%                     23.766667\n",
       "75%                     30.800000\n",
       "max                     56.116667"
      ]
     },
     "execution_count": 102,
     "metadata": {},
     "output_type": "execute_result"
    }
   ],
   "source": [
    "df_smoking.describe()"
   ]
  },
  {
   "cell_type": "markdown",
   "metadata": {},
   "source": [
    "### Consumo Alcohol"
   ]
  },
  {
   "cell_type": "code",
   "execution_count": 103,
   "metadata": {},
   "outputs": [
    {
     "data": {
      "text/html": [
       "<div>\n",
       "<style scoped>\n",
       "    .dataframe tbody tr th:only-of-type {\n",
       "        vertical-align: middle;\n",
       "    }\n",
       "\n",
       "    .dataframe tbody tr th {\n",
       "        vertical-align: top;\n",
       "    }\n",
       "\n",
       "    .dataframe thead th {\n",
       "        text-align: right;\n",
       "    }\n",
       "</style>\n",
       "<table border=\"1\" class=\"dataframe\">\n",
       "  <thead>\n",
       "    <tr style=\"text-align: right;\">\n",
       "      <th></th>\n",
       "      <th>Country name</th>\n",
       "      <th>Average alcohol consumption per capita (2000 - 2018)</th>\n",
       "    </tr>\n",
       "  </thead>\n",
       "  <tbody>\n",
       "    <tr>\n",
       "      <th>0</th>\n",
       "      <td>Afghanistan</td>\n",
       "      <td>0.210000</td>\n",
       "    </tr>\n",
       "    <tr>\n",
       "      <th>1</th>\n",
       "      <td>Africa Eastern and Southern</td>\n",
       "      <td>5.131846</td>\n",
       "    </tr>\n",
       "    <tr>\n",
       "      <th>2</th>\n",
       "      <td>Africa Western and Central</td>\n",
       "      <td>7.421209</td>\n",
       "    </tr>\n",
       "    <tr>\n",
       "      <th>3</th>\n",
       "      <td>Albania</td>\n",
       "      <td>7.164000</td>\n",
       "    </tr>\n",
       "    <tr>\n",
       "      <th>4</th>\n",
       "      <td>Algeria</td>\n",
       "      <td>0.784000</td>\n",
       "    </tr>\n",
       "  </tbody>\n",
       "</table>\n",
       "</div>"
      ],
      "text/plain": [
       "                  Country name  \\\n",
       "0                  Afghanistan   \n",
       "1  Africa Eastern and Southern   \n",
       "2   Africa Western and Central   \n",
       "3                      Albania   \n",
       "4                      Algeria   \n",
       "\n",
       "   Average alcohol consumption per capita (2000 - 2018)  \n",
       "0                                           0.210000     \n",
       "1                                           5.131846     \n",
       "2                                           7.421209     \n",
       "3                                           7.164000     \n",
       "4                                           0.784000     "
      ]
     },
     "execution_count": 103,
     "metadata": {},
     "output_type": "execute_result"
    }
   ],
   "source": [
    "# Solo nos interesan los paises y la variable de consumo de tabaco.\n",
    "df_alcohol_selected = df_alcohol1[['Entity', 'Total alcohol consumption per capita (liters of pure alcohol, projected estimates, 15+ years of age)']].copy()\n",
    "\n",
    "# Quitamos Nans\n",
    "df_alcohol_selected.dropna(subset=['Entity', 'Total alcohol consumption per capita (liters of pure alcohol, projected estimates, 15+ years of age)'], inplace=True)\n",
    "\n",
    "# Calculamos la media de consumo de alcohol por pais\n",
    "df_alcohol = df_alcohol_selected.groupby('Entity')['Total alcohol consumption per capita (liters of pure alcohol, projected estimates, 15+ years of age)'].mean().reset_index()\n",
    "\n",
    "# Rename columns for clarity\n",
    "df_alcohol.columns = ['Country name', 'Average alcohol consumption per capita (2000 - 2018)']\n",
    "df_alcohol.head(5)"
   ]
  },
  {
   "cell_type": "markdown",
   "metadata": {},
   "source": [
    "### Coeficiente Felicidad"
   ]
  },
  {
   "cell_type": "code",
   "execution_count": 104,
   "metadata": {},
   "outputs": [
    {
     "data": {
      "text/plain": [
       "Country name                          0\n",
       "year                                  0\n",
       "Life Ladder                           0\n",
       "Log GDP per capita                   28\n",
       "Social support                       13\n",
       "Healthy life expectancy at birth     63\n",
       "Freedom to make life choices         36\n",
       "Generosity                           81\n",
       "Perceptions of corruption           125\n",
       "Positive affect                      24\n",
       "Negative affect                      16\n",
       "dtype: int64"
      ]
     },
     "execution_count": 104,
     "metadata": {},
     "output_type": "execute_result"
    }
   ],
   "source": [
    "#Buscamos valores faltantes\n",
    "df.isnull().sum()"
   ]
  },
  {
   "cell_type": "code",
   "execution_count": 105,
   "metadata": {},
   "outputs": [],
   "source": [
    "#Quitamos las filas que tengan datos faltantes y guardamos el df original.\n",
    "df_original = df\n",
    "df = df.dropna()"
   ]
  },
  {
   "cell_type": "code",
   "execution_count": 106,
   "metadata": {},
   "outputs": [
    {
     "data": {
      "text/html": [
       "<div>\n",
       "<style scoped>\n",
       "    .dataframe tbody tr th:only-of-type {\n",
       "        vertical-align: middle;\n",
       "    }\n",
       "\n",
       "    .dataframe tbody tr th {\n",
       "        vertical-align: top;\n",
       "    }\n",
       "\n",
       "    .dataframe thead th {\n",
       "        text-align: right;\n",
       "    }\n",
       "</style>\n",
       "<table border=\"1\" class=\"dataframe\">\n",
       "  <thead>\n",
       "    <tr style=\"text-align: right;\">\n",
       "      <th></th>\n",
       "      <th>year</th>\n",
       "      <th>Life Ladder</th>\n",
       "      <th>Log GDP per capita</th>\n",
       "      <th>Social support</th>\n",
       "      <th>Healthy life expectancy at birth</th>\n",
       "      <th>Freedom to make life choices</th>\n",
       "      <th>Generosity</th>\n",
       "      <th>Perceptions of corruption</th>\n",
       "      <th>Positive affect</th>\n",
       "      <th>Negative affect</th>\n",
       "    </tr>\n",
       "  </thead>\n",
       "  <tbody>\n",
       "    <tr>\n",
       "      <th>count</th>\n",
       "      <td>2097.000000</td>\n",
       "      <td>2097.000000</td>\n",
       "      <td>2097.000000</td>\n",
       "      <td>2097.000000</td>\n",
       "      <td>2097.000000</td>\n",
       "      <td>2097.000000</td>\n",
       "      <td>2097.000000</td>\n",
       "      <td>2097.000000</td>\n",
       "      <td>2097.000000</td>\n",
       "      <td>2097.000000</td>\n",
       "    </tr>\n",
       "    <tr>\n",
       "      <th>mean</th>\n",
       "      <td>2014.901288</td>\n",
       "      <td>5.466519</td>\n",
       "      <td>9.356038</td>\n",
       "      <td>0.807031</td>\n",
       "      <td>63.271555</td>\n",
       "      <td>0.748854</td>\n",
       "      <td>0.000247</td>\n",
       "      <td>0.747093</td>\n",
       "      <td>0.653721</td>\n",
       "      <td>0.274795</td>\n",
       "    </tr>\n",
       "    <tr>\n",
       "      <th>std</th>\n",
       "      <td>4.965942</td>\n",
       "      <td>1.136940</td>\n",
       "      <td>1.154684</td>\n",
       "      <td>0.123678</td>\n",
       "      <td>7.003554</td>\n",
       "      <td>0.138791</td>\n",
       "      <td>0.162192</td>\n",
       "      <td>0.183878</td>\n",
       "      <td>0.107392</td>\n",
       "      <td>0.085464</td>\n",
       "    </tr>\n",
       "    <tr>\n",
       "      <th>min</th>\n",
       "      <td>2005.000000</td>\n",
       "      <td>2.179000</td>\n",
       "      <td>5.527000</td>\n",
       "      <td>0.290000</td>\n",
       "      <td>6.720000</td>\n",
       "      <td>0.258000</td>\n",
       "      <td>-0.340000</td>\n",
       "      <td>0.035000</td>\n",
       "      <td>0.179000</td>\n",
       "      <td>0.094000</td>\n",
       "    </tr>\n",
       "    <tr>\n",
       "      <th>25%</th>\n",
       "      <td>2011.000000</td>\n",
       "      <td>4.612000</td>\n",
       "      <td>8.465000</td>\n",
       "      <td>0.736000</td>\n",
       "      <td>58.660000</td>\n",
       "      <td>0.659000</td>\n",
       "      <td>-0.109000</td>\n",
       "      <td>0.691000</td>\n",
       "      <td>0.572000</td>\n",
       "      <td>0.211000</td>\n",
       "    </tr>\n",
       "    <tr>\n",
       "      <th>50%</th>\n",
       "      <td>2015.000000</td>\n",
       "      <td>5.433000</td>\n",
       "      <td>9.497000</td>\n",
       "      <td>0.834000</td>\n",
       "      <td>65.100000</td>\n",
       "      <td>0.769000</td>\n",
       "      <td>-0.021000</td>\n",
       "      <td>0.801000</td>\n",
       "      <td>0.665000</td>\n",
       "      <td>0.264000</td>\n",
       "    </tr>\n",
       "    <tr>\n",
       "      <th>75%</th>\n",
       "      <td>2019.000000</td>\n",
       "      <td>6.291000</td>\n",
       "      <td>10.320000</td>\n",
       "      <td>0.905000</td>\n",
       "      <td>68.680000</td>\n",
       "      <td>0.860000</td>\n",
       "      <td>0.093000</td>\n",
       "      <td>0.868000</td>\n",
       "      <td>0.740000</td>\n",
       "      <td>0.326000</td>\n",
       "    </tr>\n",
       "    <tr>\n",
       "      <th>max</th>\n",
       "      <td>2023.000000</td>\n",
       "      <td>7.971000</td>\n",
       "      <td>11.676000</td>\n",
       "      <td>0.987000</td>\n",
       "      <td>74.600000</td>\n",
       "      <td>0.985000</td>\n",
       "      <td>0.700000</td>\n",
       "      <td>0.983000</td>\n",
       "      <td>0.884000</td>\n",
       "      <td>0.705000</td>\n",
       "    </tr>\n",
       "  </tbody>\n",
       "</table>\n",
       "</div>"
      ],
      "text/plain": [
       "              year  Life Ladder  Log GDP per capita  Social support  \\\n",
       "count  2097.000000  2097.000000         2097.000000     2097.000000   \n",
       "mean   2014.901288     5.466519            9.356038        0.807031   \n",
       "std       4.965942     1.136940            1.154684        0.123678   \n",
       "min    2005.000000     2.179000            5.527000        0.290000   \n",
       "25%    2011.000000     4.612000            8.465000        0.736000   \n",
       "50%    2015.000000     5.433000            9.497000        0.834000   \n",
       "75%    2019.000000     6.291000           10.320000        0.905000   \n",
       "max    2023.000000     7.971000           11.676000        0.987000   \n",
       "\n",
       "       Healthy life expectancy at birth  Freedom to make life choices  \\\n",
       "count                       2097.000000                   2097.000000   \n",
       "mean                          63.271555                      0.748854   \n",
       "std                            7.003554                      0.138791   \n",
       "min                            6.720000                      0.258000   \n",
       "25%                           58.660000                      0.659000   \n",
       "50%                           65.100000                      0.769000   \n",
       "75%                           68.680000                      0.860000   \n",
       "max                           74.600000                      0.985000   \n",
       "\n",
       "        Generosity  Perceptions of corruption  Positive affect  \\\n",
       "count  2097.000000                2097.000000      2097.000000   \n",
       "mean      0.000247                   0.747093         0.653721   \n",
       "std       0.162192                   0.183878         0.107392   \n",
       "min      -0.340000                   0.035000         0.179000   \n",
       "25%      -0.109000                   0.691000         0.572000   \n",
       "50%      -0.021000                   0.801000         0.665000   \n",
       "75%       0.093000                   0.868000         0.740000   \n",
       "max       0.700000                   0.983000         0.884000   \n",
       "\n",
       "       Negative affect  \n",
       "count      2097.000000  \n",
       "mean          0.274795  \n",
       "std           0.085464  \n",
       "min           0.094000  \n",
       "25%           0.211000  \n",
       "50%           0.264000  \n",
       "75%           0.326000  \n",
       "max           0.705000  "
      ]
     },
     "execution_count": 106,
     "metadata": {},
     "output_type": "execute_result"
    }
   ],
   "source": [
    "#Buscamos outliers\n",
    "df.describe()"
   ]
  },
  {
   "cell_type": "code",
   "execution_count": 107,
   "metadata": {},
   "outputs": [],
   "source": [
    "#Eliminamos outliers usando el método intercuartílico\n",
    "Q1 = df.quantile(.25)\n",
    "Q3 = df.quantile(.75)\n",
    "IQR = Q3-Q1\n",
    "df = df[~((df < (Q1 - 1.5 * IQR)) |(df > (Q3 + 1.5 * IQR))).any(axis=1)]"
   ]
  },
  {
   "cell_type": "code",
   "execution_count": 108,
   "metadata": {},
   "outputs": [
    {
     "data": {
      "text/html": [
       "<div>\n",
       "<style scoped>\n",
       "    .dataframe tbody tr th:only-of-type {\n",
       "        vertical-align: middle;\n",
       "    }\n",
       "\n",
       "    .dataframe tbody tr th {\n",
       "        vertical-align: top;\n",
       "    }\n",
       "\n",
       "    .dataframe thead th {\n",
       "        text-align: right;\n",
       "    }\n",
       "</style>\n",
       "<table border=\"1\" class=\"dataframe\">\n",
       "  <thead>\n",
       "    <tr style=\"text-align: right;\">\n",
       "      <th></th>\n",
       "      <th>year</th>\n",
       "      <th>Life Ladder</th>\n",
       "      <th>Log GDP per capita</th>\n",
       "      <th>Social support</th>\n",
       "      <th>Healthy life expectancy at birth</th>\n",
       "      <th>Freedom to make life choices</th>\n",
       "      <th>Generosity</th>\n",
       "      <th>Perceptions of corruption</th>\n",
       "      <th>Positive affect</th>\n",
       "      <th>Negative affect</th>\n",
       "    </tr>\n",
       "  </thead>\n",
       "  <tbody>\n",
       "    <tr>\n",
       "      <th>count</th>\n",
       "      <td>1792.000000</td>\n",
       "      <td>1792.000000</td>\n",
       "      <td>1792.000000</td>\n",
       "      <td>1792.000000</td>\n",
       "      <td>1792.000000</td>\n",
       "      <td>1792.000000</td>\n",
       "      <td>1792.000000</td>\n",
       "      <td>1792.000000</td>\n",
       "      <td>1792.000000</td>\n",
       "      <td>1792.000000</td>\n",
       "    </tr>\n",
       "    <tr>\n",
       "      <th>mean</th>\n",
       "      <td>2014.875558</td>\n",
       "      <td>5.385794</td>\n",
       "      <td>9.282461</td>\n",
       "      <td>0.807488</td>\n",
       "      <td>63.053817</td>\n",
       "      <td>0.739060</td>\n",
       "      <td>-0.023578</td>\n",
       "      <td>0.791834</td>\n",
       "      <td>0.649458</td>\n",
       "      <td>0.276574</td>\n",
       "    </tr>\n",
       "    <tr>\n",
       "      <th>std</th>\n",
       "      <td>4.959988</td>\n",
       "      <td>1.014540</td>\n",
       "      <td>1.069170</td>\n",
       "      <td>0.110385</td>\n",
       "      <td>6.438764</td>\n",
       "      <td>0.128966</td>\n",
       "      <td>0.143574</td>\n",
       "      <td>0.116739</td>\n",
       "      <td>0.103921</td>\n",
       "      <td>0.078478</td>\n",
       "    </tr>\n",
       "    <tr>\n",
       "      <th>min</th>\n",
       "      <td>2005.000000</td>\n",
       "      <td>2.634000</td>\n",
       "      <td>5.935000</td>\n",
       "      <td>0.483000</td>\n",
       "      <td>43.960000</td>\n",
       "      <td>0.364000</td>\n",
       "      <td>-0.340000</td>\n",
       "      <td>0.426000</td>\n",
       "      <td>0.332000</td>\n",
       "      <td>0.094000</td>\n",
       "    </tr>\n",
       "    <tr>\n",
       "      <th>25%</th>\n",
       "      <td>2011.000000</td>\n",
       "      <td>4.621250</td>\n",
       "      <td>8.476250</td>\n",
       "      <td>0.739000</td>\n",
       "      <td>58.500000</td>\n",
       "      <td>0.652000</td>\n",
       "      <td>-0.128000</td>\n",
       "      <td>0.730750</td>\n",
       "      <td>0.567000</td>\n",
       "      <td>0.221000</td>\n",
       "    </tr>\n",
       "    <tr>\n",
       "      <th>50%</th>\n",
       "      <td>2015.000000</td>\n",
       "      <td>5.379500</td>\n",
       "      <td>9.456500</td>\n",
       "      <td>0.830000</td>\n",
       "      <td>64.810000</td>\n",
       "      <td>0.755000</td>\n",
       "      <td>-0.040000</td>\n",
       "      <td>0.814000</td>\n",
       "      <td>0.657500</td>\n",
       "      <td>0.269000</td>\n",
       "    </tr>\n",
       "    <tr>\n",
       "      <th>75%</th>\n",
       "      <td>2019.000000</td>\n",
       "      <td>6.115250</td>\n",
       "      <td>10.146250</td>\n",
       "      <td>0.897000</td>\n",
       "      <td>67.600000</td>\n",
       "      <td>0.838000</td>\n",
       "      <td>0.067000</td>\n",
       "      <td>0.877000</td>\n",
       "      <td>0.730000</td>\n",
       "      <td>0.328250</td>\n",
       "    </tr>\n",
       "    <tr>\n",
       "      <th>max</th>\n",
       "      <td>2023.000000</td>\n",
       "      <td>7.662000</td>\n",
       "      <td>11.628000</td>\n",
       "      <td>0.985000</td>\n",
       "      <td>74.600000</td>\n",
       "      <td>0.985000</td>\n",
       "      <td>0.396000</td>\n",
       "      <td>0.983000</td>\n",
       "      <td>0.884000</td>\n",
       "      <td>0.497000</td>\n",
       "    </tr>\n",
       "  </tbody>\n",
       "</table>\n",
       "</div>"
      ],
      "text/plain": [
       "              year  Life Ladder  Log GDP per capita  Social support  \\\n",
       "count  1792.000000  1792.000000         1792.000000     1792.000000   \n",
       "mean   2014.875558     5.385794            9.282461        0.807488   \n",
       "std       4.959988     1.014540            1.069170        0.110385   \n",
       "min    2005.000000     2.634000            5.935000        0.483000   \n",
       "25%    2011.000000     4.621250            8.476250        0.739000   \n",
       "50%    2015.000000     5.379500            9.456500        0.830000   \n",
       "75%    2019.000000     6.115250           10.146250        0.897000   \n",
       "max    2023.000000     7.662000           11.628000        0.985000   \n",
       "\n",
       "       Healthy life expectancy at birth  Freedom to make life choices  \\\n",
       "count                       1792.000000                   1792.000000   \n",
       "mean                          63.053817                      0.739060   \n",
       "std                            6.438764                      0.128966   \n",
       "min                           43.960000                      0.364000   \n",
       "25%                           58.500000                      0.652000   \n",
       "50%                           64.810000                      0.755000   \n",
       "75%                           67.600000                      0.838000   \n",
       "max                           74.600000                      0.985000   \n",
       "\n",
       "        Generosity  Perceptions of corruption  Positive affect  \\\n",
       "count  1792.000000                1792.000000      1792.000000   \n",
       "mean     -0.023578                   0.791834         0.649458   \n",
       "std       0.143574                   0.116739         0.103921   \n",
       "min      -0.340000                   0.426000         0.332000   \n",
       "25%      -0.128000                   0.730750         0.567000   \n",
       "50%      -0.040000                   0.814000         0.657500   \n",
       "75%       0.067000                   0.877000         0.730000   \n",
       "max       0.396000                   0.983000         0.884000   \n",
       "\n",
       "       Negative affect  \n",
       "count      1792.000000  \n",
       "mean          0.276574  \n",
       "std           0.078478  \n",
       "min           0.094000  \n",
       "25%           0.221000  \n",
       "50%           0.269000  \n",
       "75%           0.328250  \n",
       "max           0.497000  "
      ]
     },
     "execution_count": 108,
     "metadata": {},
     "output_type": "execute_result"
    }
   ],
   "source": [
    "df.describe()"
   ]
  },
  {
   "cell_type": "markdown",
   "metadata": {},
   "source": [
    "Antes de comenzar nuestro análisis de PCA, encontraremos las medias para cada país. De esta forma tendremos una fila por país. "
   ]
  },
  {
   "cell_type": "code",
   "execution_count": 109,
   "metadata": {},
   "outputs": [],
   "source": [
    "#Guardamos las medias en un df \n",
    "df_avg = df.groupby('Country name').mean().reset_index()"
   ]
  },
  {
   "cell_type": "code",
   "execution_count": 110,
   "metadata": {},
   "outputs": [
    {
     "data": {
      "text/html": [
       "<div>\n",
       "<style scoped>\n",
       "    .dataframe tbody tr th:only-of-type {\n",
       "        vertical-align: middle;\n",
       "    }\n",
       "\n",
       "    .dataframe tbody tr th {\n",
       "        vertical-align: top;\n",
       "    }\n",
       "\n",
       "    .dataframe thead th {\n",
       "        text-align: right;\n",
       "    }\n",
       "</style>\n",
       "<table border=\"1\" class=\"dataframe\">\n",
       "  <thead>\n",
       "    <tr style=\"text-align: right;\">\n",
       "      <th></th>\n",
       "      <th>Country name</th>\n",
       "      <th>Life Ladder</th>\n",
       "      <th>Log GDP per capita</th>\n",
       "      <th>Social support</th>\n",
       "      <th>Healthy life expectancy at birth</th>\n",
       "      <th>Freedom to make life choices</th>\n",
       "      <th>Generosity</th>\n",
       "      <th>Perceptions of corruption</th>\n",
       "      <th>Positive affect</th>\n",
       "      <th>Negative affect</th>\n",
       "    </tr>\n",
       "  </thead>\n",
       "  <tbody>\n",
       "    <tr>\n",
       "      <th>0</th>\n",
       "      <td>Afghanistan</td>\n",
       "      <td>3.703700</td>\n",
       "      <td>7.629900</td>\n",
       "      <td>0.523000</td>\n",
       "      <td>52.16500</td>\n",
       "      <td>0.510600</td>\n",
       "      <td>0.076000</td>\n",
       "      <td>0.831400</td>\n",
       "      <td>0.494300</td>\n",
       "      <td>0.315800</td>\n",
       "    </tr>\n",
       "    <tr>\n",
       "      <th>1</th>\n",
       "      <td>Albania</td>\n",
       "      <td>5.072750</td>\n",
       "      <td>9.416938</td>\n",
       "      <td>0.714250</td>\n",
       "      <td>68.54875</td>\n",
       "      <td>0.694937</td>\n",
       "      <td>-0.068188</td>\n",
       "      <td>0.868688</td>\n",
       "      <td>0.559750</td>\n",
       "      <td>0.294563</td>\n",
       "    </tr>\n",
       "    <tr>\n",
       "      <th>2</th>\n",
       "      <td>Algeria</td>\n",
       "      <td>5.269000</td>\n",
       "      <td>9.334500</td>\n",
       "      <td>0.818750</td>\n",
       "      <td>66.25000</td>\n",
       "      <td>0.511750</td>\n",
       "      <td>-0.122625</td>\n",
       "      <td>0.696875</td>\n",
       "      <td>0.535125</td>\n",
       "      <td>0.263750</td>\n",
       "    </tr>\n",
       "    <tr>\n",
       "      <th>3</th>\n",
       "      <td>Angola</td>\n",
       "      <td>4.420250</td>\n",
       "      <td>8.985750</td>\n",
       "      <td>0.738250</td>\n",
       "      <td>52.15000</td>\n",
       "      <td>0.456250</td>\n",
       "      <td>-0.093250</td>\n",
       "      <td>0.866750</td>\n",
       "      <td>0.625750</td>\n",
       "      <td>0.351250</td>\n",
       "    </tr>\n",
       "    <tr>\n",
       "      <th>4</th>\n",
       "      <td>Argentina</td>\n",
       "      <td>6.289667</td>\n",
       "      <td>10.028833</td>\n",
       "      <td>0.901833</td>\n",
       "      <td>66.70000</td>\n",
       "      <td>0.777722</td>\n",
       "      <td>-0.153222</td>\n",
       "      <td>0.839056</td>\n",
       "      <td>0.737944</td>\n",
       "      <td>0.288333</td>\n",
       "    </tr>\n",
       "  </tbody>\n",
       "</table>\n",
       "</div>"
      ],
      "text/plain": [
       "  Country name  Life Ladder  Log GDP per capita  Social support  \\\n",
       "0  Afghanistan     3.703700            7.629900        0.523000   \n",
       "1      Albania     5.072750            9.416938        0.714250   \n",
       "2      Algeria     5.269000            9.334500        0.818750   \n",
       "3       Angola     4.420250            8.985750        0.738250   \n",
       "4    Argentina     6.289667           10.028833        0.901833   \n",
       "\n",
       "   Healthy life expectancy at birth  Freedom to make life choices  Generosity  \\\n",
       "0                          52.16500                      0.510600    0.076000   \n",
       "1                          68.54875                      0.694937   -0.068188   \n",
       "2                          66.25000                      0.511750   -0.122625   \n",
       "3                          52.15000                      0.456250   -0.093250   \n",
       "4                          66.70000                      0.777722   -0.153222   \n",
       "\n",
       "   Perceptions of corruption  Positive affect  Negative affect  \n",
       "0                   0.831400         0.494300         0.315800  \n",
       "1                   0.868688         0.559750         0.294563  \n",
       "2                   0.696875         0.535125         0.263750  \n",
       "3                   0.866750         0.625750         0.351250  \n",
       "4                   0.839056         0.737944         0.288333  "
      ]
     },
     "execution_count": 110,
     "metadata": {},
     "output_type": "execute_result"
    }
   ],
   "source": [
    "#No nos importa la media del año\n",
    "df_avg.drop(['year'], axis = 1, inplace=True)\n",
    "df_avg.head()"
   ]
  },
  {
   "cell_type": "markdown",
   "metadata": {},
   "source": [
    "*Nota*: No hace falta quitar variables correlacionadas en PCA"
   ]
  },
  {
   "cell_type": "markdown",
   "metadata": {},
   "source": [
    "### Union de BBDD"
   ]
  },
  {
   "cell_type": "code",
   "execution_count": 111,
   "metadata": {},
   "outputs": [
    {
     "data": {
      "text/html": [
       "<div>\n",
       "<style scoped>\n",
       "    .dataframe tbody tr th:only-of-type {\n",
       "        vertical-align: middle;\n",
       "    }\n",
       "\n",
       "    .dataframe tbody tr th {\n",
       "        vertical-align: top;\n",
       "    }\n",
       "\n",
       "    .dataframe thead th {\n",
       "        text-align: right;\n",
       "    }\n",
       "</style>\n",
       "<table border=\"1\" class=\"dataframe\">\n",
       "  <thead>\n",
       "    <tr style=\"text-align: right;\">\n",
       "      <th></th>\n",
       "      <th>Country name</th>\n",
       "      <th>Life Ladder</th>\n",
       "      <th>Log GDP per capita</th>\n",
       "      <th>Social support</th>\n",
       "      <th>Healthy life expectancy at birth</th>\n",
       "      <th>Freedom to make life choices</th>\n",
       "      <th>Generosity</th>\n",
       "      <th>Perceptions of corruption</th>\n",
       "      <th>Positive affect</th>\n",
       "      <th>Negative affect</th>\n",
       "      <th>Average alcohol consumption per capita (2000 - 2018)</th>\n",
       "      <th>Average Tobacco Prevalence</th>\n",
       "    </tr>\n",
       "  </thead>\n",
       "  <tbody>\n",
       "    <tr>\n",
       "      <th>0</th>\n",
       "      <td>Afghanistan</td>\n",
       "      <td>3.703700</td>\n",
       "      <td>7.629900</td>\n",
       "      <td>0.523000</td>\n",
       "      <td>52.165000</td>\n",
       "      <td>0.510600</td>\n",
       "      <td>0.076000</td>\n",
       "      <td>0.831400</td>\n",
       "      <td>0.494300</td>\n",
       "      <td>0.315800</td>\n",
       "      <td>0.210</td>\n",
       "      <td>23.558949</td>\n",
       "    </tr>\n",
       "    <tr>\n",
       "      <th>1</th>\n",
       "      <td>Albania</td>\n",
       "      <td>5.072750</td>\n",
       "      <td>9.416938</td>\n",
       "      <td>0.714250</td>\n",
       "      <td>68.548750</td>\n",
       "      <td>0.694937</td>\n",
       "      <td>-0.068188</td>\n",
       "      <td>0.868688</td>\n",
       "      <td>0.559750</td>\n",
       "      <td>0.294563</td>\n",
       "      <td>7.164</td>\n",
       "      <td>52.200000</td>\n",
       "    </tr>\n",
       "    <tr>\n",
       "      <th>2</th>\n",
       "      <td>Algeria</td>\n",
       "      <td>5.269000</td>\n",
       "      <td>9.334500</td>\n",
       "      <td>0.818750</td>\n",
       "      <td>66.250000</td>\n",
       "      <td>0.511750</td>\n",
       "      <td>-0.122625</td>\n",
       "      <td>0.696875</td>\n",
       "      <td>0.535125</td>\n",
       "      <td>0.263750</td>\n",
       "      <td>0.784</td>\n",
       "      <td>15.116667</td>\n",
       "    </tr>\n",
       "    <tr>\n",
       "      <th>3</th>\n",
       "      <td>Angola</td>\n",
       "      <td>4.420250</td>\n",
       "      <td>8.985750</td>\n",
       "      <td>0.738250</td>\n",
       "      <td>52.150000</td>\n",
       "      <td>0.456250</td>\n",
       "      <td>-0.093250</td>\n",
       "      <td>0.866750</td>\n",
       "      <td>0.625750</td>\n",
       "      <td>0.351250</td>\n",
       "      <td>6.142</td>\n",
       "      <td>23.558949</td>\n",
       "    </tr>\n",
       "    <tr>\n",
       "      <th>4</th>\n",
       "      <td>Argentina</td>\n",
       "      <td>6.289667</td>\n",
       "      <td>10.028833</td>\n",
       "      <td>0.901833</td>\n",
       "      <td>66.700000</td>\n",
       "      <td>0.777722</td>\n",
       "      <td>-0.153222</td>\n",
       "      <td>0.839056</td>\n",
       "      <td>0.737944</td>\n",
       "      <td>0.288333</td>\n",
       "      <td>9.140</td>\n",
       "      <td>25.533333</td>\n",
       "    </tr>\n",
       "    <tr>\n",
       "      <th>5</th>\n",
       "      <td>Armenia</td>\n",
       "      <td>4.635625</td>\n",
       "      <td>9.318250</td>\n",
       "      <td>0.727563</td>\n",
       "      <td>65.737500</td>\n",
       "      <td>0.594125</td>\n",
       "      <td>-0.200937</td>\n",
       "      <td>0.827312</td>\n",
       "      <td>0.500687</td>\n",
       "      <td>0.436125</td>\n",
       "      <td>5.420</td>\n",
       "      <td>28.816667</td>\n",
       "    </tr>\n",
       "    <tr>\n",
       "      <th>6</th>\n",
       "      <td>Australia</td>\n",
       "      <td>7.192778</td>\n",
       "      <td>10.780000</td>\n",
       "      <td>0.933556</td>\n",
       "      <td>70.690000</td>\n",
       "      <td>0.903111</td>\n",
       "      <td>0.234333</td>\n",
       "      <td>0.468889</td>\n",
       "      <td>0.737333</td>\n",
       "      <td>0.221000</td>\n",
       "      <td>11.506</td>\n",
       "      <td>16.533333</td>\n",
       "    </tr>\n",
       "    <tr>\n",
       "      <th>7</th>\n",
       "      <td>Austria</td>\n",
       "      <td>7.179000</td>\n",
       "      <td>10.889313</td>\n",
       "      <td>0.918563</td>\n",
       "      <td>70.487500</td>\n",
       "      <td>0.894063</td>\n",
       "      <td>0.132875</td>\n",
       "      <td>0.560438</td>\n",
       "      <td>0.715750</td>\n",
       "      <td>0.190062</td>\n",
       "      <td>12.428</td>\n",
       "      <td>33.666667</td>\n",
       "    </tr>\n",
       "    <tr>\n",
       "      <th>8</th>\n",
       "      <td>Azerbaijan</td>\n",
       "      <td>4.935250</td>\n",
       "      <td>9.527750</td>\n",
       "      <td>0.760375</td>\n",
       "      <td>62.507813</td>\n",
       "      <td>0.681125</td>\n",
       "      <td>-0.158250</td>\n",
       "      <td>0.693750</td>\n",
       "      <td>0.518250</td>\n",
       "      <td>0.240687</td>\n",
       "      <td>3.444</td>\n",
       "      <td>21.650000</td>\n",
       "    </tr>\n",
       "    <tr>\n",
       "      <th>9</th>\n",
       "      <td>Bahrain</td>\n",
       "      <td>5.819000</td>\n",
       "      <td>10.721000</td>\n",
       "      <td>0.890500</td>\n",
       "      <td>64.880000</td>\n",
       "      <td>0.879000</td>\n",
       "      <td>0.011500</td>\n",
       "      <td>0.610500</td>\n",
       "      <td>0.674000</td>\n",
       "      <td>0.422500</td>\n",
       "      <td>1.516</td>\n",
       "      <td>29.200000</td>\n",
       "    </tr>\n",
       "  </tbody>\n",
       "</table>\n",
       "</div>"
      ],
      "text/plain": [
       "  Country name  Life Ladder  Log GDP per capita  Social support  \\\n",
       "0  Afghanistan     3.703700            7.629900        0.523000   \n",
       "1      Albania     5.072750            9.416938        0.714250   \n",
       "2      Algeria     5.269000            9.334500        0.818750   \n",
       "3       Angola     4.420250            8.985750        0.738250   \n",
       "4    Argentina     6.289667           10.028833        0.901833   \n",
       "5      Armenia     4.635625            9.318250        0.727563   \n",
       "6    Australia     7.192778           10.780000        0.933556   \n",
       "7      Austria     7.179000           10.889313        0.918563   \n",
       "8   Azerbaijan     4.935250            9.527750        0.760375   \n",
       "9      Bahrain     5.819000           10.721000        0.890500   \n",
       "\n",
       "   Healthy life expectancy at birth  Freedom to make life choices  Generosity  \\\n",
       "0                         52.165000                      0.510600    0.076000   \n",
       "1                         68.548750                      0.694937   -0.068188   \n",
       "2                         66.250000                      0.511750   -0.122625   \n",
       "3                         52.150000                      0.456250   -0.093250   \n",
       "4                         66.700000                      0.777722   -0.153222   \n",
       "5                         65.737500                      0.594125   -0.200937   \n",
       "6                         70.690000                      0.903111    0.234333   \n",
       "7                         70.487500                      0.894063    0.132875   \n",
       "8                         62.507813                      0.681125   -0.158250   \n",
       "9                         64.880000                      0.879000    0.011500   \n",
       "\n",
       "   Perceptions of corruption  Positive affect  Negative affect  \\\n",
       "0                   0.831400         0.494300         0.315800   \n",
       "1                   0.868688         0.559750         0.294563   \n",
       "2                   0.696875         0.535125         0.263750   \n",
       "3                   0.866750         0.625750         0.351250   \n",
       "4                   0.839056         0.737944         0.288333   \n",
       "5                   0.827312         0.500687         0.436125   \n",
       "6                   0.468889         0.737333         0.221000   \n",
       "7                   0.560438         0.715750         0.190062   \n",
       "8                   0.693750         0.518250         0.240687   \n",
       "9                   0.610500         0.674000         0.422500   \n",
       "\n",
       "   Average alcohol consumption per capita (2000 - 2018)  \\\n",
       "0                                              0.210      \n",
       "1                                              7.164      \n",
       "2                                              0.784      \n",
       "3                                              6.142      \n",
       "4                                              9.140      \n",
       "5                                              5.420      \n",
       "6                                             11.506      \n",
       "7                                             12.428      \n",
       "8                                              3.444      \n",
       "9                                              1.516      \n",
       "\n",
       "   Average Tobacco Prevalence  \n",
       "0                   23.558949  \n",
       "1                   52.200000  \n",
       "2                   15.116667  \n",
       "3                   23.558949  \n",
       "4                   25.533333  \n",
       "5                   28.816667  \n",
       "6                   16.533333  \n",
       "7                   33.666667  \n",
       "8                   21.650000  \n",
       "9                   29.200000  "
      ]
     },
     "execution_count": 111,
     "metadata": {},
     "output_type": "execute_result"
    }
   ],
   "source": [
    "\n",
    "# Calculamos la media del consumo global de alcohol\n",
    "world_avg_alcohol = df_alcohol['Average alcohol consumption per capita (2000 - 2018)'].mean()\n",
    "\n",
    "# Calculamos la media del consumo global de tabaco\n",
    "world_avg_tobacco = df_smoking['Average Tobacco Prevalence'].mean()\n",
    "\n",
    "# Juntamos df con df_alcohol\n",
    "df_merged_alcohol = df_avg.merge(df_alcohol, on='Country name', how='left')\n",
    "\n",
    "# Juntamos df_smoking\n",
    "df_merged = df_merged_alcohol.merge(df_smoking, on='Country name', how='left')\n",
    "\n",
    "# Llenamos los NaN con las medias globales.\n",
    "df_merged['Average alcohol consumption per capita (2000 - 2018)'].fillna(world_avg_alcohol, inplace=True)\n",
    "df_merged['Average Tobacco Prevalence'].fillna(world_avg_tobacco, inplace=True)\n",
    "\n",
    "# Mostramos el resultado\n",
    "df_merged.head(10)\n"
   ]
  },
  {
   "cell_type": "markdown",
   "metadata": {},
   "source": [
    "## Análisis de Componentes Principales (PCA)"
   ]
  },
  {
   "cell_type": "code",
   "execution_count": 112,
   "metadata": {
    "scrolled": true
   },
   "outputs": [],
   "source": [
    "from sklearn.decomposition import PCA\n",
    "import numpy as np\n",
    "\n",
    "# No nos improta el nombre del país\n",
    "data = df_merged.drop(columns=['Country name'])\n",
    "\n",
    "# Normalizamos los datos\n",
    "data_standardized = (data - data.mean()) / data.std()\n",
    "\n",
    "# Calculamos los componentes principales\n",
    "pca = PCA()\n",
    "pca.fit(data_standardized)\n",
    "data_pca = pca.transform(data_standardized)"
   ]
  },
  {
   "cell_type": "code",
   "execution_count": 113,
   "metadata": {},
   "outputs": [
    {
     "name": "stdout",
     "output_type": "stream",
     "text": [
      "Varianza PC1: 40.76% (Varianza acumulada: 40.76%)\n",
      "\n",
      "Varianza PC2: 18.51% (Varianza acumulada: 59.28%)\n",
      "\n",
      "Varianza PC3: 8.91% (Varianza acumulada: 68.19%)\n",
      "\n",
      "Varianza PC4: 7.09% (Varianza acumulada: 75.28%)\n",
      "\n",
      "Varianza PC5: 6.84% (Varianza acumulada: 82.12%)\n",
      "\n",
      "Varianza PC6: 5.39% (Varianza acumulada: 87.51%)\n",
      "\n",
      "Varianza PC7: 5.16% (Varianza acumulada: 92.67%)\n",
      "\n",
      "Varianza PC8: 3.26% (Varianza acumulada: 95.93%)\n",
      "\n",
      "Varianza PC9: 1.85% (Varianza acumulada: 97.78%)\n",
      "\n",
      "Varianza PC10: 1.18% (Varianza acumulada: 98.96%)\n",
      "\n",
      "Varianza PC11: 1.04% (Varianza acumulada: 100.00%)\n",
      "\n"
     ]
    }
   ],
   "source": [
    "# Creamos df con los resultados\n",
    "pca_df = pd.DataFrame(data_pca, columns=[f'PC{i+1}' for i in range(data_pca.shape[1])])\n",
    "pca_df['Country name'] = df_avg['Country name']\n",
    "\n",
    "# Varianza por cada componente\n",
    "explained_variance = pca.explained_variance_ratio_\n",
    "cumulative_variance = np.cumsum(explained_variance)\n",
    "\n",
    "for i in range(len(explained_variance)):\n",
    "    print(f\"Varianza PC{i+1}: {explained_variance[i]:.2%} (Varianza acumulada: {cumulative_variance[i]:.2%})\" +\"\\n\")\n"
   ]
  },
  {
   "cell_type": "markdown",
   "metadata": {},
   "source": [
    "Podemos ver que con 3 componentes podemos representar el 68% de la varianza del df, pero neceitamos 7 para representar el 90%."
   ]
  },
  {
   "cell_type": "markdown",
   "metadata": {},
   "source": [
    "## Visualización y clustering del PCA usando Kmeans"
   ]
  },
  {
   "cell_type": "code",
   "execution_count": 114,
   "metadata": {},
   "outputs": [
    {
     "data": {
      "image/png": "[encoded data removed]",
      "text/plain": [
       "<Figure size 720x432 with 1 Axes>"
      ]
     },
     "metadata": {
      "needs_background": "light"
     },
     "output_type": "display_data"
    }
   ],
   "source": [
    "import warnings\n",
    "# No queremos que imprima el error \"KMeans is known to have a memory leak on Windows\"\n",
    "warnings.filterwarnings(\"ignore\", message=\"KMeans is known to have a memory leak on Windows\")\n",
    "\n",
    "#Clasificamos usando k-medias\n",
    "from sklearn.cluster import KMeans\n",
    "\n",
    "# Probamos distintos números de clusters\n",
    "num_clusters = [1,2,3,4,5,6,7,8]\n",
    "sum_dist = []\n",
    "\n",
    "for k in num_clusters:\n",
    "    kmeans = KMeans(n_clusters=k, n_init = 'auto')\n",
    "    kmeans.fit(data_standardized)  \n",
    "    sum_dist.append(kmeans.inertia_)\n",
    "\n",
    "# Metodo del codo\n",
    "plt.figure(figsize=(10, 6))\n",
    "plt.plot(num_clusters, sum_dist, marker='o')\n",
    "plt.title('Suma de distancias al cuadrado según el número de clusters')\n",
    "plt.xlabel('Número de clusters (k)')\n",
    "plt.ylabel('Suma de distancias al cuadrado')\n",
    "plt.grid(True)\n",
    "plt.show()\n"
   ]
  },
  {
   "cell_type": "markdown",
   "metadata": {},
   "source": [
    "Utilizando el criterio del codo, está justificada la elección de dos o cinco clusters. "
   ]
  },
  {
   "cell_type": "code",
   "execution_count": 119,
   "metadata": {
    "scrolled": true
   },
   "outputs": [],
   "source": [
    "from sklearn.cluster import KMeans\n",
    "# Creamos cuatro clusters mediante KMeans\n",
    "kmeans = KMeans(n_clusters=5, n_init = 10)  \n",
    "clusters = kmeans.fit_predict(data_pca[:, :3])  # utilizamos los primeros 3 componentes principales\n",
    "\n",
    "# Añadimos los resultados de la clusterización al df\n",
    "pca_df['Cluster'] = clusters\n"
   ]
  },
  {
   "cell_type": "code",
   "execution_count": 120,
   "metadata": {},
   "outputs": [
    {
     "data": {
      "text/html": [
       "        <script type=\"text/javascript\">\n",
       "        window.PlotlyConfig = {MathJaxConfig: 'local'};\n",
       "        if (window.MathJax && window.MathJax.Hub && window.MathJax.Hub.Config) {window.MathJax.Hub.Config({SVG: {font: \"STIX-Web\"}});}\n",
       "        if (typeof require !== 'undefined') {\n",
       "        require.undef(\"plotly\");\n",
       "        requirejs.config({\n",
       "            paths: {\n",
       "                'plotly': ['https://cdn.plot.ly/plotly-2.32.0.min']\n",
       "            }\n",
       "        });\n",
       "        require(['plotly'], function(Plotly) {\n",
       "            window._Plotly = Plotly;\n",
       "        });\n",
       "        }\n",
       "        </script>\n",
       "        "
      ]
     },
     "metadata": {},
     "output_type": "display_data"
    }
   ],
   "source": [
    "#Necesitamos que la librería plotly funcione sin conexión\n",
    "import plotly.offline as pyo\n",
    "import plotly.graph_objs as go\n",
    "\n",
    "pyo.init_notebook_mode(connected=True)"
   ]
  },
  {
   "cell_type": "code",
   "execution_count": 121,
   "metadata": {},
   "outputs": [
    {
     "data": {
      "application/vnd.plotly.v1+json": {
       "config": {
        "plotlyServerURL": "https://plot.ly"
       },
       "data": [
        {
         "hovertemplate": "<b>%{text}</b><extra></extra>",
         "legendgroup": "",
         "marker": {
          "color": [
           4,
           2,
           1,
           1,
           2,
           1,
           3,
           3,
           1,
           0,
           1,
           2,
           3,
           0,
           4,
           0,
           0,
           2,
           2,
           0,
           2,
           4,
           4,
           4,
           4,
           3,
           4,
           2,
           0,
           4,
           1,
           4,
           3,
           2,
           2,
           2,
           4,
           0,
           0,
           1,
           0,
           2,
           4,
           4,
           3,
           1,
           4,
           1,
           3,
           4,
           2,
           0,
           4,
           0,
           4,
           0,
           2,
           3,
           4,
           0,
           1,
           1,
           3,
           0,
           2,
           4,
           0,
           2,
           1,
           2,
           4,
           3,
           0,
           0,
           2,
           1,
           4,
           4,
           1,
           2,
           3,
           4,
           4,
           0,
           4,
           3,
           4,
           0,
           0,
           2,
           2,
           2,
           1,
           4,
           4,
           1,
           3,
           0,
           4,
           4,
           1,
           3,
           1,
           0,
           0,
           0,
           0,
           2,
           2,
           2,
           2,
           0,
           4,
           2,
           4,
           2,
           2,
           4,
           2,
           2,
           2,
           0,
           1,
           0,
           1,
           2,
           4,
           4,
           0,
           4,
           0,
           1,
           1,
           4,
           2,
           3,
           3,
           3,
           0,
           0,
           0,
           1,
           4,
           4
          ],
          "coloraxis": "coloraxis",
          "size": 5,
          "symbol": "circle"
         },
         "mode": "markers",
         "name": "",
         "scene": "scene",
         "showlegend": false,
         "text": [
          "Afghanistan",
          "Albania",
          "Algeria",
          "Angola",
          "Argentina",
          "Armenia",
          "Australia",
          "Austria",
          "Azerbaijan",
          "Bahrain",
          "Bangladesh",
          "Belarus",
          "Belgium",
          "Belize",
          "Benin",
          "Bhutan",
          "Bolivia",
          "Bosnia and Herzegovina",
          "Botswana",
          "Brazil",
          "Bulgaria",
          "Burkina Faso",
          "Burundi",
          "Cambodia",
          "Cameroon",
          "Canada",
          "Chad",
          "Chile",
          "Colombia",
          "Comoros",
          "Congo (Brazzaville)",
          "Congo (Kinshasa)",
          "Costa Rica",
          "Croatia",
          "Cyprus",
          "Czechia",
          "Djibouti",
          "Dominican Republic",
          "Ecuador",
          "Egypt",
          "El Salvador",
          "Estonia",
          "Eswatini",
          "Ethiopia",
          "France",
          "Gabon",
          "Gambia",
          "Georgia",
          "Germany",
          "Ghana",
          "Greece",
          "Guatemala",
          "Guinea",
          "Guyana",
          "Haiti",
          "Honduras",
          "Hungary",
          "Iceland",
          "India",
          "Indonesia",
          "Iran",
          "Iraq",
          "Ireland",
          "Israel",
          "Italy",
          "Ivory Coast",
          "Jamaica",
          "Japan",
          "Jordan",
          "Kazakhstan",
          "Kenya",
          "Kuwait",
          "Kyrgyzstan",
          "Laos",
          "Latvia",
          "Lebanon",
          "Lesotho",
          "Liberia",
          "Libya",
          "Lithuania",
          "Luxembourg",
          "Madagascar",
          "Malawi",
          "Malaysia",
          "Mali",
          "Malta",
          "Mauritania",
          "Mauritius",
          "Mexico",
          "Moldova",
          "Mongolia",
          "Montenegro",
          "Morocco",
          "Mozambique",
          "Namibia",
          "Nepal",
          "Netherlands",
          "Nicaragua",
          "Niger",
          "Nigeria",
          "North Macedonia",
          "Norway",
          "Pakistan",
          "Panama",
          "Paraguay",
          "Peru",
          "Philippines",
          "Poland",
          "Portugal",
          "Romania",
          "Russia",
          "Saudi Arabia",
          "Senegal",
          "Serbia",
          "Sierra Leone",
          "Slovakia",
          "Slovenia",
          "Somalia",
          "South Africa",
          "South Korea",
          "Spain",
          "Sri Lanka",
          "Sudan",
          "Suriname",
          "Syria",
          "Taiwan Province of China",
          "Tajikistan",
          "Tanzania",
          "Thailand",
          "Togo",
          "Trinidad and Tobago",
          "Tunisia",
          "Türkiye",
          "Uganda",
          "Ukraine",
          "United Kingdom",
          "United States",
          "Uruguay",
          "Uzbekistan",
          "Venezuela",
          "Vietnam",
          "Yemen",
          "Zambia",
          "Zimbabwe"
         ],
         "type": "scatter3d",
         "x": [
          4.512663415136062,
          0.15132213580591147,
          0.9736066445407551,
          2.5721491620972685,
          -1.66362203396973,
          1.8525197893732928,
          -4.010277353378442,
          -4.114020623518036,
          0.7693421928345536,
          -1.1670755943425035,
          2.1233685310071113,
          -1.1090376440033292,
          -3.399901348912052,
          -0.937431039518043,
          3.254059326372099,
          -0.4335982598542474,
          0.1245120785126781,
          0.1626143005885091,
          0.5970895807105296,
          -1.3351433865323983,
          -0.6975500277783709,
          2.311826736407225,
          4.010211777431492,
          1.4044489699517138,
          2.1016595242707807,
          -3.8074984748762044,
          3.8264517150299797,
          -2.0681007388298522,
          -1.148207765286816,
          2.806536593600397,
          2.2430603138795853,
          2.9803840157991695,
          -2.4179052489830832,
          -0.6496349764835968,
          -1.701853308237646,
          -2.7095725460119437,
          1.15384676213917,
          -0.8382005589157739,
          -0.7240307415462369,
          2.3102669103045166,
          -0.42690178894880443,
          -2.2402846010858233,
          1.8750002671507628,
          2.2573759948045256,
          -3.265794206308124,
          1.2883821633742911,
          2.1727721587440048,
          1.4993068333079207,
          -3.7159950688116585,
          1.5601466904086916,
          -0.37946366355020933,
          -0.6781529665599833,
          2.9419551184509705,
          0.07119605639322643,
          3.6342781954123806,
          -0.0293205807120343,
          -1.1862584682013289,
          -4.325096000565178,
          2.130744100294715,
          0.47342449665671904,
          1.537567621709795,
          2.4645526857149793,
          -4.3833607164963935,
          -1.9484379402807115,
          -1.3251145922557217,
          1.8924948153927534,
          -0.7751837142024836,
          -2.5320052183271553,
          1.109123589786775,
          -1.7506747952989905,
          1.2888832347658454,
          -2.0314654852644805,
          -0.250810100193933,
          0.11832478877715392,
          -1.2053301775141458,
          1.4251169908884689,
          2.7836527045293464,
          2.9715337074821884,
          -0.01708698117244605,
          -1.2122429750414372,
          -4.387430939155194,
          2.991207238878241,
          2.8931502871273596,
          -1.1687436370464597,
          2.4565707509898664,
          -2.5531841286116697,
          1.4749031838086386,
          -1.1470899945371817,
          -1.627468945552079,
          -0.22572925078086126,
          -0.49394619689859237,
          0.0775913541455694,
          1.8370669148322958,
          2.349903559511588,
          0.7059452051656007,
          1.6066056128630102,
          -4.259185326529742,
          -0.7518073413619498,
          2.377004527606656,
          0.9304747716440853,
          0.5807914704523814,
          -4.379496563613074,
          3.0352952339376027,
          -2.127713965625562,
          -1.5486554193515314,
          -0.22633501864188246,
          -0.739222495432645,
          -2.088196323715461,
          -1.5296558083648806,
          -0.8555206465702772,
          -1.0970823302418284,
          -0.6853979833125474,
          1.5920392936132006,
          -0.021314278288016686,
          3.2496264077730674,
          -1.6811390754005906,
          -2.4090108256295695,
          1.5768652784729527,
          -0.25388870925253887,
          -1.250235020569385,
          -2.356727337175493,
          0.002334813845245004,
          1.7655013334469578,
          -1.267981293622068,
          1.4206945539467102,
          -1.671950199008218,
          1.00770587777179,
          1.185873773550907,
          -2.1565487021065417,
          3.5851525501627535,
          -1.7794704628761917,
          2.00199092794395,
          0.841738684843666,
          1.3482155068369954,
          0.18864234149603368,
          -3.670882537871704,
          -2.948937884436177,
          -2.291509930445139,
          -1.7787099898723095,
          -1.0517567677449342,
          -0.7693831010417804,
          2.880127423753296,
          1.7488708729032088,
          2.4132877012914844
         ],
         "y": [
          0.11191578462389579,
          2.518065762290487,
          0.7912193358739853,
          1.3271961560724423,
          0.8714781460254407,
          2.511990216988898,
          -2.1460777919184943,
          -0.6417333502339578,
          0.72581958642376,
          -0.4232262988954942,
          -0.2993715886779754,
          1.9162891956315702,
          -0.1497152926185792,
          -0.4997313047100774,
          -0.9234180143369004,
          -2.1442752849469016,
          -0.19354714704256937,
          2.092939157338505,
          0.7035989368650984,
          -0.22887835406573143,
          2.9525971140627005,
          -0.45776722209882015,
          -0.7279789271646329,
          -2.196713456218155,
          -0.3076483142284544,
          -2.289480132401461,
          0.20184168354439103,
          0.9288351951391749,
          -0.567780592205797,
          -0.10785333463841244,
          0.23189030601240665,
          0.24251397896279986,
          -1.134512662343711,
          2.7312591289799704,
          1.564516465326805,
          1.6408050078242762,
          -1.6303345196049832,
          -0.866316241622733,
          -0.10658672652973708,
          1.3455617519272527,
          -1.1237310390496966,
          1.1669161040003193,
          -0.15825811206078993,
          -1.7424168593705653,
          0.7821842726893837,
          1.516941690729654,
          -2.204894250975841,
          0.5422174271699429,
          -0.3563884181956058,
          -1.7903127723952674,
          3.8268251525447385,
          -1.2672822203061807,
          -1.0812664861936747,
          -1.415663873369043,
          -1.8018700033544546,
          -1.0170091737001143,
          2.444005865769175,
          -2.0809373508895854,
          -0.8985041238082934,
          -0.9971997851867073,
          0.34340325995923726,
          1.280658117656576,
          -1.6595696653373642,
          0.5587222841036473,
          1.682611458457819,
          -0.33613729664270453,
          0.0032543095670159172,
          0.5937711249092192,
          0.6576146333660436,
          1.2521294385630644,
          -1.825231008719741,
          -1.3257375601145756,
          -0.776330113142984,
          -1.442918169356977,
          2.246180677670724,
          2.0743810447100923,
          -0.2734793655079717,
          -0.6663454668686795,
          0.14025621257285864,
          3.1027926814159463,
          -1.2215260527897196,
          -0.16154624056104175,
          -1.3903739418939063,
          -1.2120086619480819,
          -1.4557173501234577,
          -0.5549441816260668,
          -0.5261980926270261,
          -1.4617386937390875,
          -0.2139659146570156,
          1.8613323901939067,
          1.520997828511228,
          2.163324617251154,
          0.25314037727058186,
          -0.9830282647533669,
          0.33268449831816477,
          0.18745979323889378,
          -2.0290354577177716,
          -1.1673123123216622,
          -2.1182907352947025,
          -1.1529279477075538,
          1.280863082920235,
          -1.5076972048538047,
          0.026217603056650385,
          -1.0074142071154495,
          -0.5966720113516699,
          0.5588433424026158,
          -0.1547486691661446,
          1.0814418338468683,
          1.9413525298049252,
          2.307109104874292,
          2.0258891525428537,
          -0.9482524165649502,
          -1.1360070646286342,
          2.885432598282827,
          0.012082384607700114,
          2.0362047617192762,
          0.7867025251425662,
          -3.660599208753352,
          0.7946915382606736,
          1.442993493126396,
          1.5487930729896044,
          -1.3223516521493939,
          0.3633798015288565,
          -0.572867889058617,
          0.13638057578502438,
          0.42978892264659424,
          -0.6442356128238679,
          -1.1658264410543422,
          -1.600817155294693,
          -0.6203570867343356,
          -0.5449235727794108,
          1.90987337713564,
          2.5131112985121455,
          -0.4378174148753953,
          2.3995449764459407,
          -1.7047435973832576,
          -0.8738094376353626,
          -0.5570887290267867,
          -2.8780090084150625,
          0.21667606104976866,
          -0.4335099487289882,
          1.1623120695622704,
          -0.6829106297972942,
          -0.8201197997953071
         ],
         "z": [
          0.5319448786816735,
          0.27898091741300735,
          1.1838431178380195,
          -0.2453486904424161,
          -0.48150682300630715,
          1.7621803644523029,
          1.0029965176369724,
          0.2443102135608572,
          0.5389244670563048,
          2.5157299221454617,
          1.1790562268109646,
          -0.4528908344938468,
          0.38375927946844784,
          -0.22579921054379104,
          0.2956819939310147,
          0.6970512613164469,
          0.6308008493977124,
          0.29432017237118213,
          -1.6149196562733787,
          0.32774728821598825,
          -1.3540011837919976,
          -0.6305630276551731,
          -0.4250183973436388,
          0.30460435617381043,
          -0.7577757547842013,
          1.5798248401657085,
          -0.18942415487818612,
          0.19008378088365896,
          -0.21897854464312766,
          -0.0005517572130430744,
          0.5701080398411124,
          -0.6777263738742934,
          0.03594270646877006,
          -0.19913794203554366,
          0.46289742648496224,
          -1.115576594620015,
          -0.3394654548896947,
          -0.09392552709250986,
          0.09864627440337659,
          1.5219505855655908,
          0.06957119238397312,
          -0.6900854410494343,
          -0.8437951675010396,
          0.3119072770501053,
          0.30260593394083196,
          0.08777343484793579,
          0.42367181373481644,
          0.8023148656646377,
          0.13325925323648308,
          -0.9491289131636231,
          0.13460574534364406,
          -0.3439013289218442,
          0.5284872820148688,
          -0.6921448597796969,
          0.9724909379756992,
          -0.6063920942545155,
          -1.0733133952461476,
          -0.23562850241596292,
          0.4579108924785305,
          -0.6532384002245083,
          2.7195169470026266,
          1.9655575152465237,
          0.3500770298900434,
          1.421063527299466,
          0.6140655602265359,
          0.0685312362310314,
          -0.6388476705972247,
          -0.18670361260490662,
          2.203000127476825,
          -1.2446992896565467,
          -1.341870857849808,
          1.45319937663178,
          -1.6428721943704205,
          0.5171585335892589,
          -0.9425855494569653,
          1.214497272009512,
          -2.0625076643312608,
          0.004516894340770142,
          1.9693478856299134,
          -0.9543169313934257,
          1.1489005921033686,
          -0.56259686588419,
          -0.48709422163197774,
          -0.1355861166299275,
          -0.8551186800820855,
          1.9339453048447708,
          -0.4786528523311086,
          -0.7828316153273279,
          -0.29139005855896355,
          -1.0525856590953564,
          -1.2084572113211005,
          0.9247429720760072,
          0.7225574312796172,
          0.0353974240457848,
          -1.2102744990441079,
          0.5981180126778977,
          1.229285809784961,
          0.2542900848334843,
          -0.8667538444660364,
          -2.091520279525902,
          0.573748812472359,
          0.25265548194121173,
          1.4517018672024107,
          -1.0034000054498078,
          -1.1960132754326966,
          0.26348338933356674,
          -0.27584789758362566,
          -0.6502337480229482,
          -0.3553126900766106,
          -0.7732542317838437,
          -1.8420097527525574,
          1.8734842799396119,
          -1.0141195096414406,
          0.5551140614202588,
          0.08590349674507483,
          -0.6985144199221504,
          -0.006040542476706216,
          -0.30688231200073063,
          -2.041134473212242,
          0.26746411909597434,
          0.5093710928394451,
          -0.46404049013476145,
          0.18582955020886796,
          -0.26647154142992485,
          1.815253207498179,
          -0.926598059173684,
          -0.3451556943752411,
          -1.6048695655995229,
          -1.0256043784334021,
          1.3927329799781543,
          -1.2215284182731307,
          1.187593959257036,
          1.8837145849807622,
          -1.2211212782579102,
          -1.171455761537016,
          1.0156306851865244,
          0.40889519530444324,
          0.40827669640684705,
          0.0431202011686308,
          -1.0553905761653068,
          -0.5535289408429984,
          0.32095461847768925,
          -0.8437329653845144,
          -1.688917693372741
         ]
        }
       ],
       "layout": {
        "coloraxis": {
         "colorbar": {
          "title": {
           "text": "Cluster"
          }
         },
         "colorscale": [
          [
           0,
           "#0d0887"
          ],
          [
           0.1111111111111111,
           "#46039f"
          ],
          [
           0.2222222222222222,
           "#7201a8"
          ],
          [
           0.3333333333333333,
           "#9c179e"
          ],
          [
           0.4444444444444444,
           "#bd3786"
          ],
          [
           0.5555555555555556,
           "#d8576b"
          ],
          [
           0.6666666666666666,
           "#ed7953"
          ],
          [
           0.7777777777777778,
           "#fb9f3a"
          ],
          [
           0.8888888888888888,
           "#fdca26"
          ],
          [
           1,
           "#f0f921"
          ]
         ]
        },
        "legend": {
         "tracegroupgap": 0
        },
        "scene": {
         "domain": {
          "x": [
           0,
           1
          ],
          "y": [
           0,
           1
          ]
         },
         "xaxis": {
          "title": {
           "text": "Componente Principal 1"
          }
         },
         "yaxis": {
          "title": {
           "text": "Componente Principal 2"
          }
         },
         "zaxis": {
          "title": {
           "text": "Componente Principal 3"
          }
         }
        },
        "template": {
         "data": {
          "bar": [
           {
            "error_x": {
             "color": "#2a3f5f"
            },
            "error_y": {
             "color": "#2a3f5f"
            },
            "marker": {
             "line": {
              "color": "#E5ECF6",
              "width": 0.5
             },
             "pattern": {
              "fillmode": "overlay",
              "size": 10,
              "solidity": 0.2
             }
            },
            "type": "bar"
           }
          ],
          "barpolar": [
           {
            "marker": {
             "line": {
              "color": "#E5ECF6",
              "width": 0.5
             },
             "pattern": {
              "fillmode": "overlay",
              "size": 10,
              "solidity": 0.2
             }
            },
            "type": "barpolar"
           }
          ],
          "carpet": [
           {
            "aaxis": {
             "endlinecolor": "#2a3f5f",
             "gridcolor": "white",
             "linecolor": "white",
             "minorgridcolor": "white",
             "startlinecolor": "#2a3f5f"
            },
            "baxis": {
             "endlinecolor": "#2a3f5f",
             "gridcolor": "white",
             "linecolor": "white",
             "minorgridcolor": "white",
             "startlinecolor": "#2a3f5f"
            },
            "type": "carpet"
           }
          ],
          "choropleth": [
           {
            "colorbar": {
             "outlinewidth": 0,
             "ticks": ""
            },
            "type": "choropleth"
           }
          ],
          "contour": [
           {
            "colorbar": {
             "outlinewidth": 0,
             "ticks": ""
            },
            "colorscale": [
             [
              0,
              "#0d0887"
             ],
             [
              0.1111111111111111,
              "#46039f"
             ],
             [
              0.2222222222222222,
              "#7201a8"
             ],
             [
              0.3333333333333333,
              "#9c179e"
             ],
             [
              0.4444444444444444,
              "#bd3786"
             ],
             [
              0.5555555555555556,
              "#d8576b"
             ],
             [
              0.6666666666666666,
              "#ed7953"
             ],
             [
              0.7777777777777778,
              "#fb9f3a"
             ],
             [
              0.8888888888888888,
              "#fdca26"
             ],
             [
              1,
              "#f0f921"
             ]
            ],
            "type": "contour"
           }
          ],
          "contourcarpet": [
           {
            "colorbar": {
             "outlinewidth": 0,
             "ticks": ""
            },
            "type": "contourcarpet"
           }
          ],
          "heatmap": [
           {
            "colorbar": {
             "outlinewidth": 0,
             "ticks": ""
            },
            "colorscale": [
             [
              0,
              "#0d0887"
             ],
             [
              0.1111111111111111,
              "#46039f"
             ],
             [
              0.2222222222222222,
              "#7201a8"
             ],
             [
              0.3333333333333333,
              "#9c179e"
             ],
             [
              0.4444444444444444,
              "#bd3786"
             ],
             [
              0.5555555555555556,
              "#d8576b"
             ],
             [
              0.6666666666666666,
              "#ed7953"
             ],
             [
              0.7777777777777778,
              "#fb9f3a"
             ],
             [
              0.8888888888888888,
              "#fdca26"
             ],
             [
              1,
              "#f0f921"
             ]
            ],
            "type": "heatmap"
           }
          ],
          "heatmapgl": [
           {
            "colorbar": {
             "outlinewidth": 0,
             "ticks": ""
            },
            "colorscale": [
             [
              0,
              "#0d0887"
             ],
             [
              0.1111111111111111,
              "#46039f"
             ],
             [
              0.2222222222222222,
              "#7201a8"
             ],
             [
              0.3333333333333333,
              "#9c179e"
             ],
             [
              0.4444444444444444,
              "#bd3786"
             ],
             [
              0.5555555555555556,
              "#d8576b"
             ],
             [
              0.6666666666666666,
              "#ed7953"
             ],
             [
              0.7777777777777778,
              "#fb9f3a"
             ],
             [
              0.8888888888888888,
              "#fdca26"
             ],
             [
              1,
              "#f0f921"
             ]
            ],
            "type": "heatmapgl"
           }
          ],
          "histogram": [
           {
            "marker": {
             "pattern": {
              "fillmode": "overlay",
              "size": 10,
              "solidity": 0.2
             }
            },
            "type": "histogram"
           }
          ],
          "histogram2d": [
           {
            "colorbar": {
             "outlinewidth": 0,
             "ticks": ""
            },
            "colorscale": [
             [
              0,
              "#0d0887"
             ],
             [
              0.1111111111111111,
              "#46039f"
             ],
             [
              0.2222222222222222,
              "#7201a8"
             ],
             [
              0.3333333333333333,
              "#9c179e"
             ],
             [
              0.4444444444444444,
              "#bd3786"
             ],
             [
              0.5555555555555556,
              "#d8576b"
             ],
             [
              0.6666666666666666,
              "#ed7953"
             ],
             [
              0.7777777777777778,
              "#fb9f3a"
             ],
             [
              0.8888888888888888,
              "#fdca26"
             ],
             [
              1,
              "#f0f921"
             ]
            ],
            "type": "histogram2d"
           }
          ],
          "histogram2dcontour": [
           {
            "colorbar": {
             "outlinewidth": 0,
             "ticks": ""
            },
            "colorscale": [
             [
              0,
              "#0d0887"
             ],
             [
              0.1111111111111111,
              "#46039f"
             ],
             [
              0.2222222222222222,
              "#7201a8"
             ],
             [
              0.3333333333333333,
              "#9c179e"
             ],
             [
              0.4444444444444444,
              "#bd3786"
             ],
             [
              0.5555555555555556,
              "#d8576b"
             ],
             [
              0.6666666666666666,
              "#ed7953"
             ],
             [
              0.7777777777777778,
              "#fb9f3a"
             ],
             [
              0.8888888888888888,
              "#fdca26"
             ],
             [
              1,
              "#f0f921"
             ]
            ],
            "type": "histogram2dcontour"
           }
          ],
          "mesh3d": [
           {
            "colorbar": {
             "outlinewidth": 0,
             "ticks": ""
            },
            "type": "mesh3d"
           }
          ],
          "parcoords": [
           {
            "line": {
             "colorbar": {
              "outlinewidth": 0,
              "ticks": ""
             }
            },
            "type": "parcoords"
           }
          ],
          "pie": [
           {
            "automargin": true,
            "type": "pie"
           }
          ],
          "scatter": [
           {
            "fillpattern": {
             "fillmode": "overlay",
             "size": 10,
             "solidity": 0.2
            },
            "type": "scatter"
           }
          ],
          "scatter3d": [
           {
            "line": {
             "colorbar": {
              "outlinewidth": 0,
              "ticks": ""
             }
            },
            "marker": {
             "colorbar": {
              "outlinewidth": 0,
              "ticks": ""
             }
            },
            "type": "scatter3d"
           }
          ],
          "scattercarpet": [
           {
            "marker": {
             "colorbar": {
              "outlinewidth": 0,
              "ticks": ""
             }
            },
            "type": "scattercarpet"
           }
          ],
          "scattergeo": [
           {
            "marker": {
             "colorbar": {
              "outlinewidth": 0,
              "ticks": ""
             }
            },
            "type": "scattergeo"
           }
          ],
          "scattergl": [
           {
            "marker": {
             "colorbar": {
              "outlinewidth": 0,
              "ticks": ""
             }
            },
            "type": "scattergl"
           }
          ],
          "scattermapbox": [
           {
            "marker": {
             "colorbar": {
              "outlinewidth": 0,
              "ticks": ""
             }
            },
            "type": "scattermapbox"
           }
          ],
          "scatterpolar": [
           {
            "marker": {
             "colorbar": {
              "outlinewidth": 0,
              "ticks": ""
             }
            },
            "type": "scatterpolar"
           }
          ],
          "scatterpolargl": [
           {
            "marker": {
             "colorbar": {
              "outlinewidth": 0,
              "ticks": ""
             }
            },
            "type": "scatterpolargl"
           }
          ],
          "scatterternary": [
           {
            "marker": {
             "colorbar": {
              "outlinewidth": 0,
              "ticks": ""
             }
            },
            "type": "scatterternary"
           }
          ],
          "surface": [
           {
            "colorbar": {
             "outlinewidth": 0,
             "ticks": ""
            },
            "colorscale": [
             [
              0,
              "#0d0887"
             ],
             [
              0.1111111111111111,
              "#46039f"
             ],
             [
              0.2222222222222222,
              "#7201a8"
             ],
             [
              0.3333333333333333,
              "#9c179e"
             ],
             [
              0.4444444444444444,
              "#bd3786"
             ],
             [
              0.5555555555555556,
              "#d8576b"
             ],
             [
              0.6666666666666666,
              "#ed7953"
             ],
             [
              0.7777777777777778,
              "#fb9f3a"
             ],
             [
              0.8888888888888888,
              "#fdca26"
             ],
             [
              1,
              "#f0f921"
             ]
            ],
            "type": "surface"
           }
          ],
          "table": [
           {
            "cells": {
             "fill": {
              "color": "#EBF0F8"
             },
             "line": {
              "color": "white"
             }
            },
            "header": {
             "fill": {
              "color": "#C8D4E3"
             },
             "line": {
              "color": "white"
             }
            },
            "type": "table"
           }
          ]
         },
         "layout": {
          "annotationdefaults": {
           "arrowcolor": "#2a3f5f",
           "arrowhead": 0,
           "arrowwidth": 1
          },
          "autotypenumbers": "strict",
          "coloraxis": {
           "colorbar": {
            "outlinewidth": 0,
            "ticks": ""
           }
          },
          "colorscale": {
           "diverging": [
            [
             0,
             "#8e0152"
            ],
            [
             0.1,
             "#c51b7d"
            ],
            [
             0.2,
             "#de77ae"
            ],
            [
             0.3,
             "#f1b6da"
            ],
            [
             0.4,
             "#fde0ef"
            ],
            [
             0.5,
             "#f7f7f7"
            ],
            [
             0.6,
             "#e6f5d0"
            ],
            [
             0.7,
             "#b8e186"
            ],
            [
             0.8,
             "#7fbc41"
            ],
            [
             0.9,
             "#4d9221"
            ],
            [
             1,
             "#276419"
            ]
           ],
           "sequential": [
            [
             0,
             "#0d0887"
            ],
            [
             0.1111111111111111,
             "#46039f"
            ],
            [
             0.2222222222222222,
             "#7201a8"
            ],
            [
             0.3333333333333333,
             "#9c179e"
            ],
            [
             0.4444444444444444,
             "#bd3786"
            ],
            [
             0.5555555555555556,
             "#d8576b"
            ],
            [
             0.6666666666666666,
             "#ed7953"
            ],
            [
             0.7777777777777778,
             "#fb9f3a"
            ],
            [
             0.8888888888888888,
             "#fdca26"
            ],
            [
             1,
             "#f0f921"
            ]
           ],
           "sequentialminus": [
            [
             0,
             "#0d0887"
            ],
            [
             0.1111111111111111,
             "#46039f"
            ],
            [
             0.2222222222222222,
             "#7201a8"
            ],
            [
             0.3333333333333333,
             "#9c179e"
            ],
            [
             0.4444444444444444,
             "#bd3786"
            ],
            [
             0.5555555555555556,
             "#d8576b"
            ],
            [
             0.6666666666666666,
             "#ed7953"
            ],
            [
             0.7777777777777778,
             "#fb9f3a"
            ],
            [
             0.8888888888888888,
             "#fdca26"
            ],
            [
             1,
             "#f0f921"
            ]
           ]
          },
          "colorway": [
           "#636efa",
           "#EF553B",
           "#00cc96",
           "#ab63fa",
           "#FFA15A",
           "#19d3f3",
           "#FF6692",
           "#B6E880",
           "#FF97FF",
           "#FECB52"
          ],
          "font": {
           "color": "#2a3f5f"
          },
          "geo": {
           "bgcolor": "white",
           "lakecolor": "white",
           "landcolor": "#E5ECF6",
           "showlakes": true,
           "showland": true,
           "subunitcolor": "white"
          },
          "hoverlabel": {
           "align": "left"
          },
          "hovermode": "closest",
          "mapbox": {
           "style": "light"
          },
          "paper_bgcolor": "white",
          "plot_bgcolor": "#E5ECF6",
          "polar": {
           "angularaxis": {
            "gridcolor": "white",
            "linecolor": "white",
            "ticks": ""
           },
           "bgcolor": "#E5ECF6",
           "radialaxis": {
            "gridcolor": "white",
            "linecolor": "white",
            "ticks": ""
           }
          },
          "scene": {
           "xaxis": {
            "backgroundcolor": "#E5ECF6",
            "gridcolor": "white",
            "gridwidth": 2,
            "linecolor": "white",
            "showbackground": true,
            "ticks": "",
            "zerolinecolor": "white"
           },
           "yaxis": {
            "backgroundcolor": "#E5ECF6",
            "gridcolor": "white",
            "gridwidth": 2,
            "linecolor": "white",
            "showbackground": true,
            "ticks": "",
            "zerolinecolor": "white"
           },
           "zaxis": {
            "backgroundcolor": "#E5ECF6",
            "gridcolor": "white",
            "gridwidth": 2,
            "linecolor": "white",
            "showbackground": true,
            "ticks": "",
            "zerolinecolor": "white"
           }
          },
          "shapedefaults": {
           "line": {
            "color": "#2a3f5f"
           }
          },
          "ternary": {
           "aaxis": {
            "gridcolor": "white",
            "linecolor": "white",
            "ticks": ""
           },
           "baxis": {
            "gridcolor": "white",
            "linecolor": "white",
            "ticks": ""
           },
           "bgcolor": "#E5ECF6",
           "caxis": {
            "gridcolor": "white",
            "linecolor": "white",
            "ticks": ""
           }
          },
          "title": {
           "x": 0.05
          },
          "xaxis": {
           "automargin": true,
           "gridcolor": "white",
           "linecolor": "white",
           "ticks": "",
           "title": {
            "standoff": 15
           },
           "zerolinecolor": "white",
           "zerolinewidth": 2
          },
          "yaxis": {
           "automargin": true,
           "gridcolor": "white",
           "linecolor": "white",
           "ticks": "",
           "title": {
            "standoff": 15
           },
           "zerolinecolor": "white",
           "zerolinewidth": 2
          }
         }
        },
        "title": {
         "text": "Clusterización del PCA usando Kmeans"
        }
       }
      },
      "text/html": [
       "<div>                            <div id=\"ebdf6740-72eb-4b05-a791-ea1d9e3fbfea\" class=\"plotly-graph-div\" style=\"height:525px; width:100%;\"></div>            <script type=\"text/javascript\">                require([\"plotly\"], function(Plotly) {                    window.PLOTLYENV=window.PLOTLYENV || {};                                    if (document.getElementById(\"ebdf6740-72eb-4b05-a791-ea1d9e3fbfea\")) {                    Plotly.newPlot(                        \"ebdf6740-72eb-4b05-a791-ea1d9e3fbfea\",                        [{\"hovertemplate\":\"\\u003cb\\u003e%{text}\\u003c\\u002fb\\u003e\\u003cextra\\u003e\\u003c\\u002fextra\\u003e\",\"legendgroup\":\"\",\"marker\":{\"color\":[4,2,1,1,2,1,3,3,1,0,1,2,3,0,4,0,0,2,2,0,2,4,4,4,4,3,4,2,0,4,1,4,3,2,2,2,4,0,0,1,0,2,4,4,3,1,4,1,3,4,2,0,4,0,4,0,2,3,4,0,1,1,3,0,2,4,0,2,1,2,4,3,0,0,2,1,4,4,1,2,3,4,4,0,4,3,4,0,0,2,2,2,1,4,4,1,3,0,4,4,1,3,1,0,0,0,0,2,2,2,2,0,4,2,4,2,2,4,2,2,2,0,1,0,1,2,4,4,0,4,0,1,1,4,2,3,3,3,0,0,0,1,4,4],\"coloraxis\":\"coloraxis\",\"symbol\":\"circle\",\"size\":5},\"mode\":\"markers\",\"name\":\"\",\"scene\":\"scene\",\"showlegend\":false,\"x\":[4.512663415136062,0.15132213580591147,0.9736066445407551,2.5721491620972685,-1.66362203396973,1.8525197893732928,-4.010277353378442,-4.114020623518036,0.7693421928345536,-1.1670755943425035,2.1233685310071113,-1.1090376440033292,-3.399901348912052,-0.937431039518043,3.254059326372099,-0.4335982598542474,0.1245120785126781,0.1626143005885091,0.5970895807105296,-1.3351433865323983,-0.6975500277783709,2.311826736407225,4.010211777431492,1.4044489699517138,2.1016595242707807,-3.8074984748762044,3.8264517150299797,-2.0681007388298522,-1.148207765286816,2.806536593600397,2.2430603138795853,2.9803840157991695,-2.4179052489830832,-0.6496349764835968,-1.701853308237646,-2.7095725460119437,1.15384676213917,-0.8382005589157739,-0.7240307415462369,2.3102669103045166,-0.42690178894880443,-2.2402846010858233,1.8750002671507628,2.2573759948045256,-3.265794206308124,1.2883821633742911,2.1727721587440048,1.4993068333079207,-3.7159950688116585,1.5601466904086916,-0.37946366355020933,-0.6781529665599833,2.9419551184509705,0.07119605639322643,3.6342781954123806,-0.0293205807120343,-1.1862584682013289,-4.325096000565178,2.130744100294715,0.47342449665671904,1.537567621709795,2.4645526857149793,-4.3833607164963935,-1.9484379402807115,-1.3251145922557217,1.8924948153927534,-0.7751837142024836,-2.5320052183271553,1.109123589786775,-1.7506747952989905,1.2888832347658454,-2.0314654852644805,-0.250810100193933,0.11832478877715392,-1.2053301775141458,1.4251169908884689,2.7836527045293464,2.9715337074821884,-0.01708698117244605,-1.2122429750414372,-4.387430939155194,2.991207238878241,2.8931502871273596,-1.1687436370464597,2.4565707509898664,-2.5531841286116697,1.4749031838086386,-1.1470899945371817,-1.627468945552079,-0.22572925078086126,-0.49394619689859237,0.0775913541455694,1.8370669148322958,2.349903559511588,0.7059452051656007,1.6066056128630102,-4.259185326529742,-0.7518073413619498,2.377004527606656,0.9304747716440853,0.5807914704523814,-4.379496563613074,3.0352952339376027,-2.127713965625562,-1.5486554193515314,-0.22633501864188246,-0.739222495432645,-2.088196323715461,-1.5296558083648806,-0.8555206465702772,-1.0970823302418284,-0.6853979833125474,1.5920392936132006,-0.021314278288016686,3.2496264077730674,-1.6811390754005906,-2.4090108256295695,1.5768652784729527,-0.25388870925253887,-1.250235020569385,-2.356727337175493,0.002334813845245004,1.7655013334469578,-1.267981293622068,1.4206945539467102,-1.671950199008218,1.00770587777179,1.185873773550907,-2.1565487021065417,3.5851525501627535,-1.7794704628761917,2.00199092794395,0.841738684843666,1.3482155068369954,0.18864234149603368,-3.670882537871704,-2.948937884436177,-2.291509930445139,-1.7787099898723095,-1.0517567677449342,-0.7693831010417804,2.880127423753296,1.7488708729032088,2.4132877012914844],\"y\":[0.11191578462389579,2.518065762290487,0.7912193358739853,1.3271961560724423,0.8714781460254407,2.511990216988898,-2.1460777919184943,-0.6417333502339578,0.72581958642376,-0.4232262988954942,-0.2993715886779754,1.9162891956315702,-0.1497152926185792,-0.4997313047100774,-0.9234180143369004,-2.1442752849469016,-0.19354714704256937,2.092939157338505,0.7035989368650984,-0.22887835406573143,2.9525971140627005,-0.45776722209882015,-0.7279789271646329,-2.196713456218155,-0.3076483142284544,-2.289480132401461,0.20184168354439103,0.9288351951391749,-0.567780592205797,-0.10785333463841244,0.23189030601240665,0.24251397896279986,-1.134512662343711,2.7312591289799704,1.564516465326805,1.6408050078242762,-1.6303345196049832,-0.866316241622733,-0.10658672652973708,1.3455617519272527,-1.1237310390496966,1.1669161040003193,-0.15825811206078993,-1.7424168593705653,0.7821842726893837,1.516941690729654,-2.204894250975841,0.5422174271699429,-0.3563884181956058,-1.7903127723952674,3.8268251525447385,-1.2672822203061807,-1.0812664861936747,-1.415663873369043,-1.8018700033544546,-1.0170091737001143,2.444005865769175,-2.0809373508895854,-0.8985041238082934,-0.9971997851867073,0.34340325995923726,1.280658117656576,-1.6595696653373642,0.5587222841036473,1.682611458457819,-0.33613729664270453,0.0032543095670159172,0.5937711249092192,0.6576146333660436,1.2521294385630644,-1.825231008719741,-1.3257375601145756,-0.776330113142984,-1.442918169356977,2.246180677670724,2.0743810447100923,-0.2734793655079717,-0.6663454668686795,0.14025621257285864,3.1027926814159463,-1.2215260527897196,-0.16154624056104175,-1.3903739418939063,-1.2120086619480819,-1.4557173501234577,-0.5549441816260668,-0.5261980926270261,-1.4617386937390875,-0.2139659146570156,1.8613323901939067,1.520997828511228,2.163324617251154,0.25314037727058186,-0.9830282647533669,0.33268449831816477,0.18745979323889378,-2.0290354577177716,-1.1673123123216622,-2.1182907352947025,-1.1529279477075538,1.280863082920235,-1.5076972048538047,0.026217603056650385,-1.0074142071154495,-0.5966720113516699,0.5588433424026158,-0.1547486691661446,1.0814418338468683,1.9413525298049252,2.307109104874292,2.0258891525428537,-0.9482524165649502,-1.1360070646286342,2.885432598282827,0.012082384607700114,2.0362047617192762,0.7867025251425662,-3.660599208753352,0.7946915382606736,1.442993493126396,1.5487930729896044,-1.3223516521493939,0.3633798015288565,-0.572867889058617,0.13638057578502438,0.42978892264659424,-0.6442356128238679,-1.1658264410543422,-1.600817155294693,-0.6203570867343356,-0.5449235727794108,1.90987337713564,2.5131112985121455,-0.4378174148753953,2.3995449764459407,-1.7047435973832576,-0.8738094376353626,-0.5570887290267867,-2.8780090084150625,0.21667606104976866,-0.4335099487289882,1.1623120695622704,-0.6829106297972942,-0.8201197997953071],\"z\":[0.5319448786816735,0.27898091741300735,1.1838431178380195,-0.2453486904424161,-0.48150682300630715,1.7621803644523029,1.0029965176369724,0.2443102135608572,0.5389244670563048,2.5157299221454617,1.1790562268109646,-0.4528908344938468,0.38375927946844784,-0.22579921054379104,0.2956819939310147,0.6970512613164469,0.6308008493977124,0.29432017237118213,-1.6149196562733787,0.32774728821598825,-1.3540011837919976,-0.6305630276551731,-0.4250183973436388,0.30460435617381043,-0.7577757547842013,1.5798248401657085,-0.18942415487818612,0.19008378088365896,-0.21897854464312766,-0.0005517572130430744,0.5701080398411124,-0.6777263738742934,0.03594270646877006,-0.19913794203554366,0.46289742648496224,-1.115576594620015,-0.3394654548896947,-0.09392552709250986,0.09864627440337659,1.5219505855655908,0.06957119238397312,-0.6900854410494343,-0.8437951675010396,0.3119072770501053,0.30260593394083196,0.08777343484793579,0.42367181373481644,0.8023148656646377,0.13325925323648308,-0.9491289131636231,0.13460574534364406,-0.3439013289218442,0.5284872820148688,-0.6921448597796969,0.9724909379756992,-0.6063920942545155,-1.0733133952461476,-0.23562850241596292,0.4579108924785305,-0.6532384002245083,2.7195169470026266,1.9655575152465237,0.3500770298900434,1.421063527299466,0.6140655602265359,0.0685312362310314,-0.6388476705972247,-0.18670361260490662,2.203000127476825,-1.2446992896565467,-1.341870857849808,1.45319937663178,-1.6428721943704205,0.5171585335892589,-0.9425855494569653,1.214497272009512,-2.0625076643312608,0.004516894340770142,1.9693478856299134,-0.9543169313934257,1.1489005921033686,-0.56259686588419,-0.48709422163197774,-0.1355861166299275,-0.8551186800820855,1.9339453048447708,-0.4786528523311086,-0.7828316153273279,-0.29139005855896355,-1.0525856590953564,-1.2084572113211005,0.9247429720760072,0.7225574312796172,0.0353974240457848,-1.2102744990441079,0.5981180126778977,1.229285809784961,0.2542900848334843,-0.8667538444660364,-2.091520279525902,0.573748812472359,0.25265548194121173,1.4517018672024107,-1.0034000054498078,-1.1960132754326966,0.26348338933356674,-0.27584789758362566,-0.6502337480229482,-0.3553126900766106,-0.7732542317838437,-1.8420097527525574,1.8734842799396119,-1.0141195096414406,0.5551140614202588,0.08590349674507483,-0.6985144199221504,-0.006040542476706216,-0.30688231200073063,-2.041134473212242,0.26746411909597434,0.5093710928394451,-0.46404049013476145,0.18582955020886796,-0.26647154142992485,1.815253207498179,-0.926598059173684,-0.3451556943752411,-1.6048695655995229,-1.0256043784334021,1.3927329799781543,-1.2215284182731307,1.187593959257036,1.8837145849807622,-1.2211212782579102,-1.171455761537016,1.0156306851865244,0.40889519530444324,0.40827669640684705,0.0431202011686308,-1.0553905761653068,-0.5535289408429984,0.32095461847768925,-0.8437329653845144,-1.688917693372741],\"type\":\"scatter3d\",\"text\":[\"Afghanistan\",\"Albania\",\"Algeria\",\"Angola\",\"Argentina\",\"Armenia\",\"Australia\",\"Austria\",\"Azerbaijan\",\"Bahrain\",\"Bangladesh\",\"Belarus\",\"Belgium\",\"Belize\",\"Benin\",\"Bhutan\",\"Bolivia\",\"Bosnia and Herzegovina\",\"Botswana\",\"Brazil\",\"Bulgaria\",\"Burkina Faso\",\"Burundi\",\"Cambodia\",\"Cameroon\",\"Canada\",\"Chad\",\"Chile\",\"Colombia\",\"Comoros\",\"Congo (Brazzaville)\",\"Congo (Kinshasa)\",\"Costa Rica\",\"Croatia\",\"Cyprus\",\"Czechia\",\"Djibouti\",\"Dominican Republic\",\"Ecuador\",\"Egypt\",\"El Salvador\",\"Estonia\",\"Eswatini\",\"Ethiopia\",\"France\",\"Gabon\",\"Gambia\",\"Georgia\",\"Germany\",\"Ghana\",\"Greece\",\"Guatemala\",\"Guinea\",\"Guyana\",\"Haiti\",\"Honduras\",\"Hungary\",\"Iceland\",\"India\",\"Indonesia\",\"Iran\",\"Iraq\",\"Ireland\",\"Israel\",\"Italy\",\"Ivory Coast\",\"Jamaica\",\"Japan\",\"Jordan\",\"Kazakhstan\",\"Kenya\",\"Kuwait\",\"Kyrgyzstan\",\"Laos\",\"Latvia\",\"Lebanon\",\"Lesotho\",\"Liberia\",\"Libya\",\"Lithuania\",\"Luxembourg\",\"Madagascar\",\"Malawi\",\"Malaysia\",\"Mali\",\"Malta\",\"Mauritania\",\"Mauritius\",\"Mexico\",\"Moldova\",\"Mongolia\",\"Montenegro\",\"Morocco\",\"Mozambique\",\"Namibia\",\"Nepal\",\"Netherlands\",\"Nicaragua\",\"Niger\",\"Nigeria\",\"North Macedonia\",\"Norway\",\"Pakistan\",\"Panama\",\"Paraguay\",\"Peru\",\"Philippines\",\"Poland\",\"Portugal\",\"Romania\",\"Russia\",\"Saudi Arabia\",\"Senegal\",\"Serbia\",\"Sierra Leone\",\"Slovakia\",\"Slovenia\",\"Somalia\",\"South Africa\",\"South Korea\",\"Spain\",\"Sri Lanka\",\"Sudan\",\"Suriname\",\"Syria\",\"Taiwan Province of China\",\"Tajikistan\",\"Tanzania\",\"Thailand\",\"Togo\",\"Trinidad and Tobago\",\"Tunisia\",\"T\\u00fcrkiye\",\"Uganda\",\"Ukraine\",\"United Kingdom\",\"United States\",\"Uruguay\",\"Uzbekistan\",\"Venezuela\",\"Vietnam\",\"Yemen\",\"Zambia\",\"Zimbabwe\"]}],                        {\"template\":{\"data\":{\"histogram2dcontour\":[{\"type\":\"histogram2dcontour\",\"colorbar\":{\"outlinewidth\":0,\"ticks\":\"\"},\"colorscale\":[[0.0,\"#0d0887\"],[0.1111111111111111,\"#46039f\"],[0.2222222222222222,\"#7201a8\"],[0.3333333333333333,\"#9c179e\"],[0.4444444444444444,\"#bd3786\"],[0.5555555555555556,\"#d8576b\"],[0.6666666666666666,\"#ed7953\"],[0.7777777777777778,\"#fb9f3a\"],[0.8888888888888888,\"#fdca26\"],[1.0,\"#f0f921\"]]}],\"choropleth\":[{\"type\":\"choropleth\",\"colorbar\":{\"outlinewidth\":0,\"ticks\":\"\"}}],\"histogram2d\":[{\"type\":\"histogram2d\",\"colorbar\":{\"outlinewidth\":0,\"ticks\":\"\"},\"colorscale\":[[0.0,\"#0d0887\"],[0.1111111111111111,\"#46039f\"],[0.2222222222222222,\"#7201a8\"],[0.3333333333333333,\"#9c179e\"],[0.4444444444444444,\"#bd3786\"],[0.5555555555555556,\"#d8576b\"],[0.6666666666666666,\"#ed7953\"],[0.7777777777777778,\"#fb9f3a\"],[0.8888888888888888,\"#fdca26\"],[1.0,\"#f0f921\"]]}],\"heatmap\":[{\"type\":\"heatmap\",\"colorbar\":{\"outlinewidth\":0,\"ticks\":\"\"},\"colorscale\":[[0.0,\"#0d0887\"],[0.1111111111111111,\"#46039f\"],[0.2222222222222222,\"#7201a8\"],[0.3333333333333333,\"#9c179e\"],[0.4444444444444444,\"#bd3786\"],[0.5555555555555556,\"#d8576b\"],[0.6666666666666666,\"#ed7953\"],[0.7777777777777778,\"#fb9f3a\"],[0.8888888888888888,\"#fdca26\"],[1.0,\"#f0f921\"]]}],\"heatmapgl\":[{\"type\":\"heatmapgl\",\"colorbar\":{\"outlinewidth\":0,\"ticks\":\"\"},\"colorscale\":[[0.0,\"#0d0887\"],[0.1111111111111111,\"#46039f\"],[0.2222222222222222,\"#7201a8\"],[0.3333333333333333,\"#9c179e\"],[0.4444444444444444,\"#bd3786\"],[0.5555555555555556,\"#d8576b\"],[0.6666666666666666,\"#ed7953\"],[0.7777777777777778,\"#fb9f3a\"],[0.8888888888888888,\"#fdca26\"],[1.0,\"#f0f921\"]]}],\"contourcarpet\":[{\"type\":\"contourcarpet\",\"colorbar\":{\"outlinewidth\":0,\"ticks\":\"\"}}],\"contour\":[{\"type\":\"contour\",\"colorbar\":{\"outlinewidth\":0,\"ticks\":\"\"},\"colorscale\":[[0.0,\"#0d0887\"],[0.1111111111111111,\"#46039f\"],[0.2222222222222222,\"#7201a8\"],[0.3333333333333333,\"#9c179e\"],[0.4444444444444444,\"#bd3786\"],[0.5555555555555556,\"#d8576b\"],[0.6666666666666666,\"#ed7953\"],[0.7777777777777778,\"#fb9f3a\"],[0.8888888888888888,\"#fdca26\"],[1.0,\"#f0f921\"]]}],\"surface\":[{\"type\":\"surface\",\"colorbar\":{\"outlinewidth\":0,\"ticks\":\"\"},\"colorscale\":[[0.0,\"#0d0887\"],[0.1111111111111111,\"#46039f\"],[0.2222222222222222,\"#7201a8\"],[0.3333333333333333,\"#9c179e\"],[0.4444444444444444,\"#bd3786\"],[0.5555555555555556,\"#d8576b\"],[0.6666666666666666,\"#ed7953\"],[0.7777777777777778,\"#fb9f3a\"],[0.8888888888888888,\"#fdca26\"],[1.0,\"#f0f921\"]]}],\"mesh3d\":[{\"type\":\"mesh3d\",\"colorbar\":{\"outlinewidth\":0,\"ticks\":\"\"}}],\"scatter\":[{\"fillpattern\":{\"fillmode\":\"overlay\",\"size\":10,\"solidity\":0.2},\"type\":\"scatter\"}],\"parcoords\":[{\"type\":\"parcoords\",\"line\":{\"colorbar\":{\"outlinewidth\":0,\"ticks\":\"\"}}}],\"scatterpolargl\":[{\"type\":\"scatterpolargl\",\"marker\":{\"colorbar\":{\"outlinewidth\":0,\"ticks\":\"\"}}}],\"bar\":[{\"error_x\":{\"color\":\"#2a3f5f\"},\"error_y\":{\"color\":\"#2a3f5f\"},\"marker\":{\"line\":{\"color\":\"#E5ECF6\",\"width\":0.5},\"pattern\":{\"fillmode\":\"overlay\",\"size\":10,\"solidity\":0.2}},\"type\":\"bar\"}],\"scattergeo\":[{\"type\":\"scattergeo\",\"marker\":{\"colorbar\":{\"outlinewidth\":0,\"ticks\":\"\"}}}],\"scatterpolar\":[{\"type\":\"scatterpolar\",\"marker\":{\"colorbar\":{\"outlinewidth\":0,\"ticks\":\"\"}}}],\"histogram\":[{\"marker\":{\"pattern\":{\"fillmode\":\"overlay\",\"size\":10,\"solidity\":0.2}},\"type\":\"histogram\"}],\"scattergl\":[{\"type\":\"scattergl\",\"marker\":{\"colorbar\":{\"outlinewidth\":0,\"ticks\":\"\"}}}],\"scatter3d\":[{\"type\":\"scatter3d\",\"line\":{\"colorbar\":{\"outlinewidth\":0,\"ticks\":\"\"}},\"marker\":{\"colorbar\":{\"outlinewidth\":0,\"ticks\":\"\"}}}],\"scattermapbox\":[{\"type\":\"scattermapbox\",\"marker\":{\"colorbar\":{\"outlinewidth\":0,\"ticks\":\"\"}}}],\"scatterternary\":[{\"type\":\"scatterternary\",\"marker\":{\"colorbar\":{\"outlinewidth\":0,\"ticks\":\"\"}}}],\"scattercarpet\":[{\"type\":\"scattercarpet\",\"marker\":{\"colorbar\":{\"outlinewidth\":0,\"ticks\":\"\"}}}],\"carpet\":[{\"aaxis\":{\"endlinecolor\":\"#2a3f5f\",\"gridcolor\":\"white\",\"linecolor\":\"white\",\"minorgridcolor\":\"white\",\"startlinecolor\":\"#2a3f5f\"},\"baxis\":{\"endlinecolor\":\"#2a3f5f\",\"gridcolor\":\"white\",\"linecolor\":\"white\",\"minorgridcolor\":\"white\",\"startlinecolor\":\"#2a3f5f\"},\"type\":\"carpet\"}],\"table\":[{\"cells\":{\"fill\":{\"color\":\"#EBF0F8\"},\"line\":{\"color\":\"white\"}},\"header\":{\"fill\":{\"color\":\"#C8D4E3\"},\"line\":{\"color\":\"white\"}},\"type\":\"table\"}],\"barpolar\":[{\"marker\":{\"line\":{\"color\":\"#E5ECF6\",\"width\":0.5},\"pattern\":{\"fillmode\":\"overlay\",\"size\":10,\"solidity\":0.2}},\"type\":\"barpolar\"}],\"pie\":[{\"automargin\":true,\"type\":\"pie\"}]},\"layout\":{\"autotypenumbers\":\"strict\",\"colorway\":[\"#636efa\",\"#EF553B\",\"#00cc96\",\"#ab63fa\",\"#FFA15A\",\"#19d3f3\",\"#FF6692\",\"#B6E880\",\"#FF97FF\",\"#FECB52\"],\"font\":{\"color\":\"#2a3f5f\"},\"hovermode\":\"closest\",\"hoverlabel\":{\"align\":\"left\"},\"paper_bgcolor\":\"white\",\"plot_bgcolor\":\"#E5ECF6\",\"polar\":{\"bgcolor\":\"#E5ECF6\",\"angularaxis\":{\"gridcolor\":\"white\",\"linecolor\":\"white\",\"ticks\":\"\"},\"radialaxis\":{\"gridcolor\":\"white\",\"linecolor\":\"white\",\"ticks\":\"\"}},\"ternary\":{\"bgcolor\":\"#E5ECF6\",\"aaxis\":{\"gridcolor\":\"white\",\"linecolor\":\"white\",\"ticks\":\"\"},\"baxis\":{\"gridcolor\":\"white\",\"linecolor\":\"white\",\"ticks\":\"\"},\"caxis\":{\"gridcolor\":\"white\",\"linecolor\":\"white\",\"ticks\":\"\"}},\"coloraxis\":{\"colorbar\":{\"outlinewidth\":0,\"ticks\":\"\"}},\"colorscale\":{\"sequential\":[[0.0,\"#0d0887\"],[0.1111111111111111,\"#46039f\"],[0.2222222222222222,\"#7201a8\"],[0.3333333333333333,\"#9c179e\"],[0.4444444444444444,\"#bd3786\"],[0.5555555555555556,\"#d8576b\"],[0.6666666666666666,\"#ed7953\"],[0.7777777777777778,\"#fb9f3a\"],[0.8888888888888888,\"#fdca26\"],[1.0,\"#f0f921\"]],\"sequentialminus\":[[0.0,\"#0d0887\"],[0.1111111111111111,\"#46039f\"],[0.2222222222222222,\"#7201a8\"],[0.3333333333333333,\"#9c179e\"],[0.4444444444444444,\"#bd3786\"],[0.5555555555555556,\"#d8576b\"],[0.6666666666666666,\"#ed7953\"],[0.7777777777777778,\"#fb9f3a\"],[0.8888888888888888,\"#fdca26\"],[1.0,\"#f0f921\"]],\"diverging\":[[0,\"#8e0152\"],[0.1,\"#c51b7d\"],[0.2,\"#de77ae\"],[0.3,\"#f1b6da\"],[0.4,\"#fde0ef\"],[0.5,\"#f7f7f7\"],[0.6,\"#e6f5d0\"],[0.7,\"#b8e186\"],[0.8,\"#7fbc41\"],[0.9,\"#4d9221\"],[1,\"#276419\"]]},\"xaxis\":{\"gridcolor\":\"white\",\"linecolor\":\"white\",\"ticks\":\"\",\"title\":{\"standoff\":15},\"zerolinecolor\":\"white\",\"automargin\":true,\"zerolinewidth\":2},\"yaxis\":{\"gridcolor\":\"white\",\"linecolor\":\"white\",\"ticks\":\"\",\"title\":{\"standoff\":15},\"zerolinecolor\":\"white\",\"automargin\":true,\"zerolinewidth\":2},\"scene\":{\"xaxis\":{\"backgroundcolor\":\"#E5ECF6\",\"gridcolor\":\"white\",\"linecolor\":\"white\",\"showbackground\":true,\"ticks\":\"\",\"zerolinecolor\":\"white\",\"gridwidth\":2},\"yaxis\":{\"backgroundcolor\":\"#E5ECF6\",\"gridcolor\":\"white\",\"linecolor\":\"white\",\"showbackground\":true,\"ticks\":\"\",\"zerolinecolor\":\"white\",\"gridwidth\":2},\"zaxis\":{\"backgroundcolor\":\"#E5ECF6\",\"gridcolor\":\"white\",\"linecolor\":\"white\",\"showbackground\":true,\"ticks\":\"\",\"zerolinecolor\":\"white\",\"gridwidth\":2}},\"shapedefaults\":{\"line\":{\"color\":\"#2a3f5f\"}},\"annotationdefaults\":{\"arrowcolor\":\"#2a3f5f\",\"arrowhead\":0,\"arrowwidth\":1},\"geo\":{\"bgcolor\":\"white\",\"landcolor\":\"#E5ECF6\",\"subunitcolor\":\"white\",\"showland\":true,\"showlakes\":true,\"lakecolor\":\"white\"},\"title\":{\"x\":0.05},\"mapbox\":{\"style\":\"light\"}}},\"scene\":{\"domain\":{\"x\":[0.0,1.0],\"y\":[0.0,1.0]},\"xaxis\":{\"title\":{\"text\":\"Componente Principal 1\"}},\"yaxis\":{\"title\":{\"text\":\"Componente Principal 2\"}},\"zaxis\":{\"title\":{\"text\":\"Componente Principal 3\"}}},\"coloraxis\":{\"colorbar\":{\"title\":{\"text\":\"Cluster\"}},\"colorscale\":[[0.0,\"#0d0887\"],[0.1111111111111111,\"#46039f\"],[0.2222222222222222,\"#7201a8\"],[0.3333333333333333,\"#9c179e\"],[0.4444444444444444,\"#bd3786\"],[0.5555555555555556,\"#d8576b\"],[0.6666666666666666,\"#ed7953\"],[0.7777777777777778,\"#fb9f3a\"],[0.8888888888888888,\"#fdca26\"],[1.0,\"#f0f921\"]]},\"legend\":{\"tracegroupgap\":0},\"title\":{\"text\":\"Clusterizaci\\u00f3n del PCA usando Kmeans\"}},                        {\"responsive\": true}                    ).then(function(){\n",
       "                            \n",
       "var gd = document.getElementById('ebdf6740-72eb-4b05-a791-ea1d9e3fbfea');\n",
       "var x = new MutationObserver(function (mutations, observer) {{\n",
       "        var display = window.getComputedStyle(gd).display;\n",
       "        if (!display || display === 'none') {{\n",
       "            console.log([gd, 'removed!']);\n",
       "            Plotly.purge(gd);\n",
       "            observer.disconnect();\n",
       "        }}\n",
       "}});\n",
       "\n",
       "// Listen for the removal of the full notebook cells\n",
       "var notebookContainer = gd.closest('#notebook-container');\n",
       "if (notebookContainer) {{\n",
       "    x.observe(notebookContainer, {childList: true});\n",
       "}}\n",
       "\n",
       "// Listen for the clearing of the current output cell\n",
       "var outputEl = gd.closest('.output');\n",
       "if (outputEl) {{\n",
       "    x.observe(outputEl, {childList: true});\n",
       "}}\n",
       "\n",
       "                        })                };                });            </script>        </div>"
      ]
     },
     "metadata": {},
     "output_type": "display_data"
    }
   ],
   "source": [
    "import plotly.express as px\n",
    "# Visualizamos los tres primeros componentes en 3D usando \n",
    "fig = px.scatter_3d(pca_df, x='PC1', y='PC2', z='PC3', color='Cluster',\n",
    "                    title='Clusterización del PCA usando Kmeans',\n",
    "                    labels={'PC1': 'Componente Principal 1', 'PC2': 'Componente Principal 2', 'PC3': 'Componente Principal 3'})\n",
    "\n",
    "# Hacemos que se pueda ver el país al poner el ratón por encima\n",
    "fig.update_traces(marker=dict(size=5),\n",
    "                  selector=dict(mode='markers'),\n",
    "                  hovertemplate=\"<b>%{text}</b><extra></extra>\",\n",
    "                  text=pca_df['Country name'])\n",
    "\n",
    "fig.show()"
   ]
  },
  {
   "cell_type": "markdown",
   "metadata": {},
   "source": [
    "Podemos observar como el componente 1 parece tener más valor cuanto mejor sea el PIB del país. Los otros dos componentes no muestran un significado fácilmente interpretable. Los resultados de la clusterización no son particularmente claros, pero podemos identificar como el cluster 3(naranja) incluye a los paises tradicionalmente desarrollados y 'felices' mientras que el cluster 4(amarillo) parece tener muchos paises africanos donde la calidad de vida es peor. El cluster 0 (azul) incluye muchos paises de America del Sur mientras que el 2(rosa) incluye muchos de Europa del Este y Oriente medio.\n"
   ]
  },
  {
   "cell_type": "markdown",
   "metadata": {},
   "source": [
    "## Analisis de Clasificación\n",
    "Habiendo terminado la investigación de los datos, seguimos con modelos de clasificación de árboles para determinar que factor/facotres influyen en la felicidad de un pais."
   ]
  },
  {
   "cell_type": "code",
   "execution_count": 122,
   "metadata": {},
   "outputs": [
    {
     "data": {
      "text/html": [
       "<div>\n",
       "<style scoped>\n",
       "    .dataframe tbody tr th:only-of-type {\n",
       "        vertical-align: middle;\n",
       "    }\n",
       "\n",
       "    .dataframe tbody tr th {\n",
       "        vertical-align: top;\n",
       "    }\n",
       "\n",
       "    .dataframe thead th {\n",
       "        text-align: right;\n",
       "    }\n",
       "</style>\n",
       "<table border=\"1\" class=\"dataframe\">\n",
       "  <thead>\n",
       "    <tr style=\"text-align: right;\">\n",
       "      <th></th>\n",
       "      <th>Country name</th>\n",
       "      <th>Life Ladder</th>\n",
       "      <th>Log GDP per capita</th>\n",
       "      <th>Social support</th>\n",
       "      <th>Healthy life expectancy at birth</th>\n",
       "      <th>Freedom to make life choices</th>\n",
       "      <th>Generosity</th>\n",
       "      <th>Perceptions of corruption</th>\n",
       "      <th>Positive affect</th>\n",
       "      <th>Negative affect</th>\n",
       "      <th>Average alcohol consumption per capita (2000 - 2018)</th>\n",
       "      <th>Average Tobacco Prevalence</th>\n",
       "    </tr>\n",
       "  </thead>\n",
       "  <tbody>\n",
       "    <tr>\n",
       "      <th>0</th>\n",
       "      <td>Afghanistan</td>\n",
       "      <td>3.703700</td>\n",
       "      <td>7.629900</td>\n",
       "      <td>0.523000</td>\n",
       "      <td>52.16500</td>\n",
       "      <td>0.510600</td>\n",
       "      <td>0.076000</td>\n",
       "      <td>0.831400</td>\n",
       "      <td>0.494300</td>\n",
       "      <td>0.315800</td>\n",
       "      <td>0.210</td>\n",
       "      <td>23.558949</td>\n",
       "    </tr>\n",
       "    <tr>\n",
       "      <th>1</th>\n",
       "      <td>Albania</td>\n",
       "      <td>5.072750</td>\n",
       "      <td>9.416938</td>\n",
       "      <td>0.714250</td>\n",
       "      <td>68.54875</td>\n",
       "      <td>0.694937</td>\n",
       "      <td>-0.068188</td>\n",
       "      <td>0.868688</td>\n",
       "      <td>0.559750</td>\n",
       "      <td>0.294563</td>\n",
       "      <td>7.164</td>\n",
       "      <td>52.200000</td>\n",
       "    </tr>\n",
       "    <tr>\n",
       "      <th>2</th>\n",
       "      <td>Algeria</td>\n",
       "      <td>5.269000</td>\n",
       "      <td>9.334500</td>\n",
       "      <td>0.818750</td>\n",
       "      <td>66.25000</td>\n",
       "      <td>0.511750</td>\n",
       "      <td>-0.122625</td>\n",
       "      <td>0.696875</td>\n",
       "      <td>0.535125</td>\n",
       "      <td>0.263750</td>\n",
       "      <td>0.784</td>\n",
       "      <td>15.116667</td>\n",
       "    </tr>\n",
       "    <tr>\n",
       "      <th>3</th>\n",
       "      <td>Angola</td>\n",
       "      <td>4.420250</td>\n",
       "      <td>8.985750</td>\n",
       "      <td>0.738250</td>\n",
       "      <td>52.15000</td>\n",
       "      <td>0.456250</td>\n",
       "      <td>-0.093250</td>\n",
       "      <td>0.866750</td>\n",
       "      <td>0.625750</td>\n",
       "      <td>0.351250</td>\n",
       "      <td>6.142</td>\n",
       "      <td>23.558949</td>\n",
       "    </tr>\n",
       "    <tr>\n",
       "      <th>4</th>\n",
       "      <td>Argentina</td>\n",
       "      <td>6.289667</td>\n",
       "      <td>10.028833</td>\n",
       "      <td>0.901833</td>\n",
       "      <td>66.70000</td>\n",
       "      <td>0.777722</td>\n",
       "      <td>-0.153222</td>\n",
       "      <td>0.839056</td>\n",
       "      <td>0.737944</td>\n",
       "      <td>0.288333</td>\n",
       "      <td>9.140</td>\n",
       "      <td>25.533333</td>\n",
       "    </tr>\n",
       "  </tbody>\n",
       "</table>\n",
       "</div>"
      ],
      "text/plain": [
       "  Country name  Life Ladder  Log GDP per capita  Social support  \\\n",
       "0  Afghanistan     3.703700            7.629900        0.523000   \n",
       "1      Albania     5.072750            9.416938        0.714250   \n",
       "2      Algeria     5.269000            9.334500        0.818750   \n",
       "3       Angola     4.420250            8.985750        0.738250   \n",
       "4    Argentina     6.289667           10.028833        0.901833   \n",
       "\n",
       "   Healthy life expectancy at birth  Freedom to make life choices  Generosity  \\\n",
       "0                          52.16500                      0.510600    0.076000   \n",
       "1                          68.54875                      0.694937   -0.068188   \n",
       "2                          66.25000                      0.511750   -0.122625   \n",
       "3                          52.15000                      0.456250   -0.093250   \n",
       "4                          66.70000                      0.777722   -0.153222   \n",
       "\n",
       "   Perceptions of corruption  Positive affect  Negative affect  \\\n",
       "0                   0.831400         0.494300         0.315800   \n",
       "1                   0.868688         0.559750         0.294563   \n",
       "2                   0.696875         0.535125         0.263750   \n",
       "3                   0.866750         0.625750         0.351250   \n",
       "4                   0.839056         0.737944         0.288333   \n",
       "\n",
       "   Average alcohol consumption per capita (2000 - 2018)  \\\n",
       "0                                              0.210      \n",
       "1                                              7.164      \n",
       "2                                              0.784      \n",
       "3                                              6.142      \n",
       "4                                              9.140      \n",
       "\n",
       "   Average Tobacco Prevalence  \n",
       "0                   23.558949  \n",
       "1                   52.200000  \n",
       "2                   15.116667  \n",
       "3                   23.558949  \n",
       "4                   25.533333  "
      ]
     },
     "execution_count": 122,
     "metadata": {},
     "output_type": "execute_result"
    }
   ],
   "source": [
    "df_merged.head(5)"
   ]
  },
  {
   "cell_type": "code",
   "execution_count": 123,
   "metadata": {},
   "outputs": [
    {
     "data": {
      "text/html": [
       "<style  type=\"text/css\" >\n",
       "    #T_e90320ad_2f3f_11ef_ae7a_f8a2d6847b90row0_col0 {\n",
       "            background-color:  #b40426;\n",
       "            color:  #f1f1f1;\n",
       "        }    #T_e90320ad_2f3f_11ef_ae7a_f8a2d6847b90row0_col1 {\n",
       "            background-color:  #ec7f63;\n",
       "            color:  #000000;\n",
       "        }    #T_e90320ad_2f3f_11ef_ae7a_f8a2d6847b90row0_col2 {\n",
       "            background-color:  #f18f71;\n",
       "            color:  #000000;\n",
       "        }    #T_e90320ad_2f3f_11ef_ae7a_f8a2d6847b90row0_col3 {\n",
       "            background-color:  #f08b6e;\n",
       "            color:  #000000;\n",
       "        }    #T_e90320ad_2f3f_11ef_ae7a_f8a2d6847b90row0_col4 {\n",
       "            background-color:  #e6d7cf;\n",
       "            color:  #000000;\n",
       "        }    #T_e90320ad_2f3f_11ef_ae7a_f8a2d6847b90row0_col5 {\n",
       "            background-color:  #7093f3;\n",
       "            color:  #000000;\n",
       "        }    #T_e90320ad_2f3f_11ef_ae7a_f8a2d6847b90row0_col6 {\n",
       "            background-color:  #a5c3fe;\n",
       "            color:  #000000;\n",
       "        }    #T_e90320ad_2f3f_11ef_ae7a_f8a2d6847b90row0_col7 {\n",
       "            background-color:  #bfd3f6;\n",
       "            color:  #000000;\n",
       "        }    #T_e90320ad_2f3f_11ef_ae7a_f8a2d6847b90row0_col8 {\n",
       "            background-color:  #9ebeff;\n",
       "            color:  #000000;\n",
       "        }    #T_e90320ad_2f3f_11ef_ae7a_f8a2d6847b90row0_col9 {\n",
       "            background-color:  #c1d4f4;\n",
       "            color:  #000000;\n",
       "        }    #T_e90320ad_2f3f_11ef_ae7a_f8a2d6847b90row0_col10 {\n",
       "            background-color:  #6f92f3;\n",
       "            color:  #000000;\n",
       "        }    #T_e90320ad_2f3f_11ef_ae7a_f8a2d6847b90row1_col0 {\n",
       "            background-color:  #f08b6e;\n",
       "            color:  #000000;\n",
       "        }    #T_e90320ad_2f3f_11ef_ae7a_f8a2d6847b90row1_col1 {\n",
       "            background-color:  #b40426;\n",
       "            color:  #f1f1f1;\n",
       "        }    #T_e90320ad_2f3f_11ef_ae7a_f8a2d6847b90row1_col2 {\n",
       "            background-color:  #f29274;\n",
       "            color:  #000000;\n",
       "        }    #T_e90320ad_2f3f_11ef_ae7a_f8a2d6847b90row1_col3 {\n",
       "            background-color:  #e57058;\n",
       "            color:  #000000;\n",
       "        }    #T_e90320ad_2f3f_11ef_ae7a_f8a2d6847b90row1_col4 {\n",
       "            background-color:  #a2c1ff;\n",
       "            color:  #000000;\n",
       "        }    #T_e90320ad_2f3f_11ef_ae7a_f8a2d6847b90row1_col5 {\n",
       "            background-color:  #4a63d3;\n",
       "            color:  #f1f1f1;\n",
       "        }    #T_e90320ad_2f3f_11ef_ae7a_f8a2d6847b90row1_col6 {\n",
       "            background-color:  #7093f3;\n",
       "            color:  #000000;\n",
       "        }    #T_e90320ad_2f3f_11ef_ae7a_f8a2d6847b90row1_col7 {\n",
       "            background-color:  #516ddb;\n",
       "            color:  #000000;\n",
       "        }    #T_e90320ad_2f3f_11ef_ae7a_f8a2d6847b90row1_col8 {\n",
       "            background-color:  #84a7fc;\n",
       "            color:  #000000;\n",
       "        }    #T_e90320ad_2f3f_11ef_ae7a_f8a2d6847b90row1_col9 {\n",
       "            background-color:  #d9dce1;\n",
       "            color:  #000000;\n",
       "        }    #T_e90320ad_2f3f_11ef_ae7a_f8a2d6847b90row1_col10 {\n",
       "            background-color:  #a3c2fe;\n",
       "            color:  #000000;\n",
       "        }    #T_e90320ad_2f3f_11ef_ae7a_f8a2d6847b90row2_col0 {\n",
       "            background-color:  #f59d7e;\n",
       "            color:  #000000;\n",
       "        }    #T_e90320ad_2f3f_11ef_ae7a_f8a2d6847b90row2_col1 {\n",
       "            background-color:  #f39475;\n",
       "            color:  #000000;\n",
       "        }    #T_e90320ad_2f3f_11ef_ae7a_f8a2d6847b90row2_col2 {\n",
       "            background-color:  #b40426;\n",
       "            color:  #f1f1f1;\n",
       "        }    #T_e90320ad_2f3f_11ef_ae7a_f8a2d6847b90row2_col3 {\n",
       "            background-color:  #f7b194;\n",
       "            color:  #000000;\n",
       "        }    #T_e90320ad_2f3f_11ef_ae7a_f8a2d6847b90row2_col4 {\n",
       "            background-color:  #bfd3f6;\n",
       "            color:  #000000;\n",
       "        }    #T_e90320ad_2f3f_11ef_ae7a_f8a2d6847b90row2_col5 {\n",
       "            background-color:  #485fd1;\n",
       "            color:  #f1f1f1;\n",
       "        }    #T_e90320ad_2f3f_11ef_ae7a_f8a2d6847b90row2_col6 {\n",
       "            background-color:  #5977e3;\n",
       "            color:  #000000;\n",
       "        }    #T_e90320ad_2f3f_11ef_ae7a_f8a2d6847b90row2_col7 {\n",
       "            background-color:  #a1c0ff;\n",
       "            color:  #000000;\n",
       "        }    #T_e90320ad_2f3f_11ef_ae7a_f8a2d6847b90row2_col8 {\n",
       "            background-color:  #c4d5f3;\n",
       "            color:  #000000;\n",
       "        }    #T_e90320ad_2f3f_11ef_ae7a_f8a2d6847b90row2_col9 {\n",
       "            background-color:  #e2dad5;\n",
       "            color:  #000000;\n",
       "        }    #T_e90320ad_2f3f_11ef_ae7a_f8a2d6847b90row2_col10 {\n",
       "            background-color:  #93b5fe;\n",
       "            color:  #000000;\n",
       "        }    #T_e90320ad_2f3f_11ef_ae7a_f8a2d6847b90row3_col0 {\n",
       "            background-color:  #f59d7e;\n",
       "            color:  #000000;\n",
       "        }    #T_e90320ad_2f3f_11ef_ae7a_f8a2d6847b90row3_col1 {\n",
       "            background-color:  #e7745b;\n",
       "            color:  #000000;\n",
       "        }    #T_e90320ad_2f3f_11ef_ae7a_f8a2d6847b90row3_col2 {\n",
       "            background-color:  #f7b79b;\n",
       "            color:  #000000;\n",
       "        }    #T_e90320ad_2f3f_11ef_ae7a_f8a2d6847b90row3_col3 {\n",
       "            background-color:  #b40426;\n",
       "            color:  #f1f1f1;\n",
       "        }    #T_e90320ad_2f3f_11ef_ae7a_f8a2d6847b90row3_col4 {\n",
       "            background-color:  #a3c2fe;\n",
       "            color:  #000000;\n",
       "        }    #T_e90320ad_2f3f_11ef_ae7a_f8a2d6847b90row3_col5 {\n",
       "            background-color:  #3b4cc0;\n",
       "            color:  #f1f1f1;\n",
       "        }    #T_e90320ad_2f3f_11ef_ae7a_f8a2d6847b90row3_col6 {\n",
       "            background-color:  #5f7fe8;\n",
       "            color:  #000000;\n",
       "        }    #T_e90320ad_2f3f_11ef_ae7a_f8a2d6847b90row3_col7 {\n",
       "            background-color:  #4055c8;\n",
       "            color:  #f1f1f1;\n",
       "        }    #T_e90320ad_2f3f_11ef_ae7a_f8a2d6847b90row3_col8 {\n",
       "            background-color:  #6485ec;\n",
       "            color:  #000000;\n",
       "        }    #T_e90320ad_2f3f_11ef_ae7a_f8a2d6847b90row3_col9 {\n",
       "            background-color:  #b3cdfb;\n",
       "            color:  #000000;\n",
       "        }    #T_e90320ad_2f3f_11ef_ae7a_f8a2d6847b90row3_col10 {\n",
       "            background-color:  #94b6ff;\n",
       "            color:  #000000;\n",
       "        }    #T_e90320ad_2f3f_11ef_ae7a_f8a2d6847b90row4_col0 {\n",
       "            background-color:  #d2dbe8;\n",
       "            color:  #000000;\n",
       "        }    #T_e90320ad_2f3f_11ef_ae7a_f8a2d6847b90row4_col1 {\n",
       "            background-color:  #9dbdff;\n",
       "            color:  #000000;\n",
       "        }    #T_e90320ad_2f3f_11ef_ae7a_f8a2d6847b90row4_col2 {\n",
       "            background-color:  #bbd1f8;\n",
       "            color:  #000000;\n",
       "        }    #T_e90320ad_2f3f_11ef_ae7a_f8a2d6847b90row4_col3 {\n",
       "            background-color:  #abc8fd;\n",
       "            color:  #000000;\n",
       "        }    #T_e90320ad_2f3f_11ef_ae7a_f8a2d6847b90row4_col4 {\n",
       "            background-color:  #b40426;\n",
       "            color:  #f1f1f1;\n",
       "        }    #T_e90320ad_2f3f_11ef_ae7a_f8a2d6847b90row4_col5 {\n",
       "            background-color:  #abc8fd;\n",
       "            color:  #000000;\n",
       "        }    #T_e90320ad_2f3f_11ef_ae7a_f8a2d6847b90row4_col6 {\n",
       "            background-color:  #b2ccfb;\n",
       "            color:  #000000;\n",
       "        }    #T_e90320ad_2f3f_11ef_ae7a_f8a2d6847b90row4_col7 {\n",
       "            background-color:  #ead4c8;\n",
       "            color:  #000000;\n",
       "        }    #T_e90320ad_2f3f_11ef_ae7a_f8a2d6847b90row4_col8 {\n",
       "            background-color:  #92b4fe;\n",
       "            color:  #000000;\n",
       "        }    #T_e90320ad_2f3f_11ef_ae7a_f8a2d6847b90row4_col9 {\n",
       "            background-color:  #7396f5;\n",
       "            color:  #000000;\n",
       "        }    #T_e90320ad_2f3f_11ef_ae7a_f8a2d6847b90row4_col10 {\n",
       "            background-color:  #3b4cc0;\n",
       "            color:  #f1f1f1;\n",
       "        }    #T_e90320ad_2f3f_11ef_ae7a_f8a2d6847b90row5_col0 {\n",
       "            background-color:  #3b4cc0;\n",
       "            color:  #f1f1f1;\n",
       "        }    #T_e90320ad_2f3f_11ef_ae7a_f8a2d6847b90row5_col1 {\n",
       "            background-color:  #3b4cc0;\n",
       "            color:  #f1f1f1;\n",
       "        }    #T_e90320ad_2f3f_11ef_ae7a_f8a2d6847b90row5_col2 {\n",
       "            background-color:  #3b4cc0;\n",
       "            color:  #f1f1f1;\n",
       "        }    #T_e90320ad_2f3f_11ef_ae7a_f8a2d6847b90row5_col3 {\n",
       "            background-color:  #3b4cc0;\n",
       "            color:  #f1f1f1;\n",
       "        }    #T_e90320ad_2f3f_11ef_ae7a_f8a2d6847b90row5_col4 {\n",
       "            background-color:  #a3c2fe;\n",
       "            color:  #000000;\n",
       "        }    #T_e90320ad_2f3f_11ef_ae7a_f8a2d6847b90row5_col5 {\n",
       "            background-color:  #b40426;\n",
       "            color:  #f1f1f1;\n",
       "        }    #T_e90320ad_2f3f_11ef_ae7a_f8a2d6847b90row5_col6 {\n",
       "            background-color:  #8caffe;\n",
       "            color:  #000000;\n",
       "        }    #T_e90320ad_2f3f_11ef_ae7a_f8a2d6847b90row5_col7 {\n",
       "            background-color:  #81a4fb;\n",
       "            color:  #000000;\n",
       "        }    #T_e90320ad_2f3f_11ef_ae7a_f8a2d6847b90row5_col8 {\n",
       "            background-color:  #4b64d5;\n",
       "            color:  #f1f1f1;\n",
       "        }    #T_e90320ad_2f3f_11ef_ae7a_f8a2d6847b90row5_col9 {\n",
       "            background-color:  #4f69d9;\n",
       "            color:  #000000;\n",
       "        }    #T_e90320ad_2f3f_11ef_ae7a_f8a2d6847b90row5_col10 {\n",
       "            background-color:  #6282ea;\n",
       "            color:  #000000;\n",
       "        }    #T_e90320ad_2f3f_11ef_ae7a_f8a2d6847b90row6_col0 {\n",
       "            background-color:  #82a6fb;\n",
       "            color:  #000000;\n",
       "        }    #T_e90320ad_2f3f_11ef_ae7a_f8a2d6847b90row6_col1 {\n",
       "            background-color:  #6f92f3;\n",
       "            color:  #000000;\n",
       "        }    #T_e90320ad_2f3f_11ef_ae7a_f8a2d6847b90row6_col2 {\n",
       "            background-color:  #5977e3;\n",
       "            color:  #000000;\n",
       "        }    #T_e90320ad_2f3f_11ef_ae7a_f8a2d6847b90row6_col3 {\n",
       "            background-color:  #6c8ff1;\n",
       "            color:  #000000;\n",
       "        }    #T_e90320ad_2f3f_11ef_ae7a_f8a2d6847b90row6_col4 {\n",
       "            background-color:  #b5cdfa;\n",
       "            color:  #000000;\n",
       "        }    #T_e90320ad_2f3f_11ef_ae7a_f8a2d6847b90row6_col5 {\n",
       "            background-color:  #98b9ff;\n",
       "            color:  #000000;\n",
       "        }    #T_e90320ad_2f3f_11ef_ae7a_f8a2d6847b90row6_col6 {\n",
       "            background-color:  #b40426;\n",
       "            color:  #f1f1f1;\n",
       "        }    #T_e90320ad_2f3f_11ef_ae7a_f8a2d6847b90row6_col7 {\n",
       "            background-color:  #6282ea;\n",
       "            color:  #000000;\n",
       "        }    #T_e90320ad_2f3f_11ef_ae7a_f8a2d6847b90row6_col8 {\n",
       "            background-color:  #6b8df0;\n",
       "            color:  #000000;\n",
       "        }    #T_e90320ad_2f3f_11ef_ae7a_f8a2d6847b90row6_col9 {\n",
       "            background-color:  #3b4cc0;\n",
       "            color:  #f1f1f1;\n",
       "        }    #T_e90320ad_2f3f_11ef_ae7a_f8a2d6847b90row6_col10 {\n",
       "            background-color:  #6180e9;\n",
       "            color:  #000000;\n",
       "        }    #T_e90320ad_2f3f_11ef_ae7a_f8a2d6847b90row7_col0 {\n",
       "            background-color:  #b3cdfb;\n",
       "            color:  #000000;\n",
       "        }    #T_e90320ad_2f3f_11ef_ae7a_f8a2d6847b90row7_col1 {\n",
       "            background-color:  #688aef;\n",
       "            color:  #000000;\n",
       "        }    #T_e90320ad_2f3f_11ef_ae7a_f8a2d6847b90row7_col2 {\n",
       "            background-color:  #b3cdfb;\n",
       "            color:  #000000;\n",
       "        }    #T_e90320ad_2f3f_11ef_ae7a_f8a2d6847b90row7_col3 {\n",
       "            background-color:  #6788ee;\n",
       "            color:  #000000;\n",
       "        }    #T_e90320ad_2f3f_11ef_ae7a_f8a2d6847b90row7_col4 {\n",
       "            background-color:  #f2cbb7;\n",
       "            color:  #000000;\n",
       "        }    #T_e90320ad_2f3f_11ef_ae7a_f8a2d6847b90row7_col5 {\n",
       "            background-color:  #a3c2fe;\n",
       "            color:  #000000;\n",
       "        }    #T_e90320ad_2f3f_11ef_ae7a_f8a2d6847b90row7_col6 {\n",
       "            background-color:  #7a9df8;\n",
       "            color:  #000000;\n",
       "        }    #T_e90320ad_2f3f_11ef_ae7a_f8a2d6847b90row7_col7 {\n",
       "            background-color:  #b40426;\n",
       "            color:  #f1f1f1;\n",
       "        }    #T_e90320ad_2f3f_11ef_ae7a_f8a2d6847b90row7_col8 {\n",
       "            background-color:  #9ebeff;\n",
       "            color:  #000000;\n",
       "        }    #T_e90320ad_2f3f_11ef_ae7a_f8a2d6847b90row7_col9 {\n",
       "            background-color:  #536edd;\n",
       "            color:  #000000;\n",
       "        }    #T_e90320ad_2f3f_11ef_ae7a_f8a2d6847b90row7_col10 {\n",
       "            background-color:  #6384eb;\n",
       "            color:  #000000;\n",
       "        }    #T_e90320ad_2f3f_11ef_ae7a_f8a2d6847b90row8_col0 {\n",
       "            background-color:  #7b9ff9;\n",
       "            color:  #000000;\n",
       "        }    #T_e90320ad_2f3f_11ef_ae7a_f8a2d6847b90row8_col1 {\n",
       "            background-color:  #84a7fc;\n",
       "            color:  #000000;\n",
       "        }    #T_e90320ad_2f3f_11ef_ae7a_f8a2d6847b90row8_col2 {\n",
       "            background-color:  #c5d6f2;\n",
       "            color:  #000000;\n",
       "        }    #T_e90320ad_2f3f_11ef_ae7a_f8a2d6847b90row8_col3 {\n",
       "            background-color:  #7597f6;\n",
       "            color:  #000000;\n",
       "        }    #T_e90320ad_2f3f_11ef_ae7a_f8a2d6847b90row8_col4 {\n",
       "            background-color:  #97b8ff;\n",
       "            color:  #000000;\n",
       "        }    #T_e90320ad_2f3f_11ef_ae7a_f8a2d6847b90row8_col5 {\n",
       "            background-color:  #5a78e4;\n",
       "            color:  #000000;\n",
       "        }    #T_e90320ad_2f3f_11ef_ae7a_f8a2d6847b90row8_col6 {\n",
       "            background-color:  #6c8ff1;\n",
       "            color:  #000000;\n",
       "        }    #T_e90320ad_2f3f_11ef_ae7a_f8a2d6847b90row8_col7 {\n",
       "            background-color:  #89acfd;\n",
       "            color:  #000000;\n",
       "        }    #T_e90320ad_2f3f_11ef_ae7a_f8a2d6847b90row8_col8 {\n",
       "            background-color:  #b40426;\n",
       "            color:  #f1f1f1;\n",
       "        }    #T_e90320ad_2f3f_11ef_ae7a_f8a2d6847b90row8_col9 {\n",
       "            background-color:  #81a4fb;\n",
       "            color:  #000000;\n",
       "        }    #T_e90320ad_2f3f_11ef_ae7a_f8a2d6847b90row8_col10 {\n",
       "            background-color:  #4055c8;\n",
       "            color:  #f1f1f1;\n",
       "        }    #T_e90320ad_2f3f_11ef_ae7a_f8a2d6847b90row9_col0 {\n",
       "            background-color:  #a3c2fe;\n",
       "            color:  #000000;\n",
       "        }    #T_e90320ad_2f3f_11ef_ae7a_f8a2d6847b90row9_col1 {\n",
       "            background-color:  #d8dce2;\n",
       "            color:  #000000;\n",
       "        }    #T_e90320ad_2f3f_11ef_ae7a_f8a2d6847b90row9_col2 {\n",
       "            background-color:  #e2dad5;\n",
       "            color:  #000000;\n",
       "        }    #T_e90320ad_2f3f_11ef_ae7a_f8a2d6847b90row9_col3 {\n",
       "            background-color:  #bcd2f7;\n",
       "            color:  #000000;\n",
       "        }    #T_e90320ad_2f3f_11ef_ae7a_f8a2d6847b90row9_col4 {\n",
       "            background-color:  #799cf8;\n",
       "            color:  #000000;\n",
       "        }    #T_e90320ad_2f3f_11ef_ae7a_f8a2d6847b90row9_col5 {\n",
       "            background-color:  #5d7ce6;\n",
       "            color:  #000000;\n",
       "        }    #T_e90320ad_2f3f_11ef_ae7a_f8a2d6847b90row9_col6 {\n",
       "            background-color:  #3b4cc0;\n",
       "            color:  #f1f1f1;\n",
       "        }    #T_e90320ad_2f3f_11ef_ae7a_f8a2d6847b90row9_col7 {\n",
       "            background-color:  #3b4cc0;\n",
       "            color:  #f1f1f1;\n",
       "        }    #T_e90320ad_2f3f_11ef_ae7a_f8a2d6847b90row9_col8 {\n",
       "            background-color:  #80a3fa;\n",
       "            color:  #000000;\n",
       "        }    #T_e90320ad_2f3f_11ef_ae7a_f8a2d6847b90row9_col9 {\n",
       "            background-color:  #b40426;\n",
       "            color:  #f1f1f1;\n",
       "        }    #T_e90320ad_2f3f_11ef_ae7a_f8a2d6847b90row9_col10 {\n",
       "            background-color:  #9abbff;\n",
       "            color:  #000000;\n",
       "        }    #T_e90320ad_2f3f_11ef_ae7a_f8a2d6847b90row10_col0 {\n",
       "            background-color:  #4358cb;\n",
       "            color:  #f1f1f1;\n",
       "        }    #T_e90320ad_2f3f_11ef_ae7a_f8a2d6847b90row10_col1 {\n",
       "            background-color:  #9ebeff;\n",
       "            color:  #000000;\n",
       "        }    #T_e90320ad_2f3f_11ef_ae7a_f8a2d6847b90row10_col2 {\n",
       "            background-color:  #8fb1fe;\n",
       "            color:  #000000;\n",
       "        }    #T_e90320ad_2f3f_11ef_ae7a_f8a2d6847b90row10_col3 {\n",
       "            background-color:  #9bbcff;\n",
       "            color:  #000000;\n",
       "        }    #T_e90320ad_2f3f_11ef_ae7a_f8a2d6847b90row10_col4 {\n",
       "            background-color:  #3b4cc0;\n",
       "            color:  #f1f1f1;\n",
       "        }    #T_e90320ad_2f3f_11ef_ae7a_f8a2d6847b90row10_col5 {\n",
       "            background-color:  #6b8df0;\n",
       "            color:  #000000;\n",
       "        }    #T_e90320ad_2f3f_11ef_ae7a_f8a2d6847b90row10_col6 {\n",
       "            background-color:  #5b7ae5;\n",
       "            color:  #000000;\n",
       "        }    #T_e90320ad_2f3f_11ef_ae7a_f8a2d6847b90row10_col7 {\n",
       "            background-color:  #455cce;\n",
       "            color:  #f1f1f1;\n",
       "        }    #T_e90320ad_2f3f_11ef_ae7a_f8a2d6847b90row10_col8 {\n",
       "            background-color:  #3b4cc0;\n",
       "            color:  #f1f1f1;\n",
       "        }    #T_e90320ad_2f3f_11ef_ae7a_f8a2d6847b90row10_col9 {\n",
       "            background-color:  #96b7ff;\n",
       "            color:  #000000;\n",
       "        }    #T_e90320ad_2f3f_11ef_ae7a_f8a2d6847b90row10_col10 {\n",
       "            background-color:  #b40426;\n",
       "            color:  #f1f1f1;\n",
       "        }</style><table id=\"T_e90320ad_2f3f_11ef_ae7a_f8a2d6847b90\" ><thead>    <tr>        <th class=\"blank level0\" ></th>        <th class=\"col_heading level0 col0\" >Life Ladder</th>        <th class=\"col_heading level0 col1\" >Log GDP per capita</th>        <th class=\"col_heading level0 col2\" >Social support</th>        <th class=\"col_heading level0 col3\" >Healthy life expectancy at birth</th>        <th class=\"col_heading level0 col4\" >Freedom to make life choices</th>        <th class=\"col_heading level0 col5\" >Generosity</th>        <th class=\"col_heading level0 col6\" >Perceptions of corruption</th>        <th class=\"col_heading level0 col7\" >Positive affect</th>        <th class=\"col_heading level0 col8\" >Negative affect</th>        <th class=\"col_heading level0 col9\" >Average alcohol consumption per capita (2000 - 2018)</th>        <th class=\"col_heading level0 col10\" >Average Tobacco Prevalence</th>    </tr></thead><tbody>\n",
       "                <tr>\n",
       "                        <th id=\"T_e90320ad_2f3f_11ef_ae7a_f8a2d6847b90level0_row0\" class=\"row_heading level0 row0\" >Life Ladder</th>\n",
       "                        <td id=\"T_e90320ad_2f3f_11ef_ae7a_f8a2d6847b90row0_col0\" class=\"data row0 col0\" >1.000000</td>\n",
       "                        <td id=\"T_e90320ad_2f3f_11ef_ae7a_f8a2d6847b90row0_col1\" class=\"data row0 col1\" >0.820357</td>\n",
       "                        <td id=\"T_e90320ad_2f3f_11ef_ae7a_f8a2d6847b90row0_col2\" class=\"data row0 col2\" >0.785644</td>\n",
       "                        <td id=\"T_e90320ad_2f3f_11ef_ae7a_f8a2d6847b90row0_col3\" class=\"data row0 col3\" >0.784537</td>\n",
       "                        <td id=\"T_e90320ad_2f3f_11ef_ae7a_f8a2d6847b90row0_col4\" class=\"data row0 col4\" >0.551433</td>\n",
       "                        <td id=\"T_e90320ad_2f3f_11ef_ae7a_f8a2d6847b90row0_col5\" class=\"data row0 col5\" >0.169495</td>\n",
       "                        <td id=\"T_e90320ad_2f3f_11ef_ae7a_f8a2d6847b90row0_col6\" class=\"data row0 col6\" >0.351260</td>\n",
       "                        <td id=\"T_e90320ad_2f3f_11ef_ae7a_f8a2d6847b90row0_col7\" class=\"data row0 col7\" >0.470288</td>\n",
       "                        <td id=\"T_e90320ad_2f3f_11ef_ae7a_f8a2d6847b90row0_col8\" class=\"data row0 col8\" >0.335085</td>\n",
       "                        <td id=\"T_e90320ad_2f3f_11ef_ae7a_f8a2d6847b90row0_col9\" class=\"data row0 col9\" >0.431962</td>\n",
       "                        <td id=\"T_e90320ad_2f3f_11ef_ae7a_f8a2d6847b90row0_col10\" class=\"data row0 col10\" >0.192902</td>\n",
       "            </tr>\n",
       "            <tr>\n",
       "                        <th id=\"T_e90320ad_2f3f_11ef_ae7a_f8a2d6847b90level0_row1\" class=\"row_heading level0 row1\" >Log GDP per capita</th>\n",
       "                        <td id=\"T_e90320ad_2f3f_11ef_ae7a_f8a2d6847b90row1_col0\" class=\"data row1 col0\" >0.820357</td>\n",
       "                        <td id=\"T_e90320ad_2f3f_11ef_ae7a_f8a2d6847b90row1_col1\" class=\"data row1 col1\" >1.000000</td>\n",
       "                        <td id=\"T_e90320ad_2f3f_11ef_ae7a_f8a2d6847b90row1_col2\" class=\"data row1 col2\" >0.776769</td>\n",
       "                        <td id=\"T_e90320ad_2f3f_11ef_ae7a_f8a2d6847b90row1_col3\" class=\"data row1 col3\" >0.841158</td>\n",
       "                        <td id=\"T_e90320ad_2f3f_11ef_ae7a_f8a2d6847b90row1_col4\" class=\"data row1 col4\" >0.332008</td>\n",
       "                        <td id=\"T_e90320ad_2f3f_11ef_ae7a_f8a2d6847b90row1_col5\" class=\"data row1 col5\" >0.052938</td>\n",
       "                        <td id=\"T_e90320ad_2f3f_11ef_ae7a_f8a2d6847b90row1_col6\" class=\"data row1 col6\" >0.209964</td>\n",
       "                        <td id=\"T_e90320ad_2f3f_11ef_ae7a_f8a2d6847b90row1_col7\" class=\"data row1 col7\" >0.190851</td>\n",
       "                        <td id=\"T_e90320ad_2f3f_11ef_ae7a_f8a2d6847b90row1_col8\" class=\"data row1 col8\" >0.264184</td>\n",
       "                        <td id=\"T_e90320ad_2f3f_11ef_ae7a_f8a2d6847b90row1_col9\" class=\"data row1 col9\" >0.511021</td>\n",
       "                        <td id=\"T_e90320ad_2f3f_11ef_ae7a_f8a2d6847b90row1_col10\" class=\"data row1 col10\" >0.334143</td>\n",
       "            </tr>\n",
       "            <tr>\n",
       "                        <th id=\"T_e90320ad_2f3f_11ef_ae7a_f8a2d6847b90level0_row2\" class=\"row_heading level0 row2\" >Social support</th>\n",
       "                        <td id=\"T_e90320ad_2f3f_11ef_ae7a_f8a2d6847b90row2_col0\" class=\"data row2 col0\" >0.785644</td>\n",
       "                        <td id=\"T_e90320ad_2f3f_11ef_ae7a_f8a2d6847b90row2_col1\" class=\"data row2 col1\" >0.776769</td>\n",
       "                        <td id=\"T_e90320ad_2f3f_11ef_ae7a_f8a2d6847b90row2_col2\" class=\"data row2 col2\" >1.000000</td>\n",
       "                        <td id=\"T_e90320ad_2f3f_11ef_ae7a_f8a2d6847b90row2_col3\" class=\"data row2 col3\" >0.687057</td>\n",
       "                        <td id=\"T_e90320ad_2f3f_11ef_ae7a_f8a2d6847b90row2_col4\" class=\"data row2 col4\" >0.413479</td>\n",
       "                        <td id=\"T_e90320ad_2f3f_11ef_ae7a_f8a2d6847b90row2_col5\" class=\"data row2 col5\" >0.046574</td>\n",
       "                        <td id=\"T_e90320ad_2f3f_11ef_ae7a_f8a2d6847b90row2_col6\" class=\"data row2 col6\" >0.140706</td>\n",
       "                        <td id=\"T_e90320ad_2f3f_11ef_ae7a_f8a2d6847b90row2_col7\" class=\"data row2 col7\" >0.391514</td>\n",
       "                        <td id=\"T_e90320ad_2f3f_11ef_ae7a_f8a2d6847b90row2_col8\" class=\"data row2 col8\" >0.441885</td>\n",
       "                        <td id=\"T_e90320ad_2f3f_11ef_ae7a_f8a2d6847b90row2_col9\" class=\"data row2 col9\" >0.545421</td>\n",
       "                        <td id=\"T_e90320ad_2f3f_11ef_ae7a_f8a2d6847b90row2_col10\" class=\"data row2 col10\" >0.291093</td>\n",
       "            </tr>\n",
       "            <tr>\n",
       "                        <th id=\"T_e90320ad_2f3f_11ef_ae7a_f8a2d6847b90level0_row3\" class=\"row_heading level0 row3\" >Healthy life expectancy at birth</th>\n",
       "                        <td id=\"T_e90320ad_2f3f_11ef_ae7a_f8a2d6847b90row3_col0\" class=\"data row3 col0\" >0.784537</td>\n",
       "                        <td id=\"T_e90320ad_2f3f_11ef_ae7a_f8a2d6847b90row3_col1\" class=\"data row3 col1\" >0.841158</td>\n",
       "                        <td id=\"T_e90320ad_2f3f_11ef_ae7a_f8a2d6847b90row3_col2\" class=\"data row3 col2\" >0.687057</td>\n",
       "                        <td id=\"T_e90320ad_2f3f_11ef_ae7a_f8a2d6847b90row3_col3\" class=\"data row3 col3\" >1.000000</td>\n",
       "                        <td id=\"T_e90320ad_2f3f_11ef_ae7a_f8a2d6847b90row3_col4\" class=\"data row3 col4\" >0.336698</td>\n",
       "                        <td id=\"T_e90320ad_2f3f_11ef_ae7a_f8a2d6847b90row3_col5\" class=\"data row3 col5\" >0.000947</td>\n",
       "                        <td id=\"T_e90320ad_2f3f_11ef_ae7a_f8a2d6847b90row3_col6\" class=\"data row3 col6\" >0.160685</td>\n",
       "                        <td id=\"T_e90320ad_2f3f_11ef_ae7a_f8a2d6847b90row3_col7\" class=\"data row3 col7\" >0.143683</td>\n",
       "                        <td id=\"T_e90320ad_2f3f_11ef_ae7a_f8a2d6847b90row3_col8\" class=\"data row3 col8\" >0.181443</td>\n",
       "                        <td id=\"T_e90320ad_2f3f_11ef_ae7a_f8a2d6847b90row3_col9\" class=\"data row3 col9\" >0.390521</td>\n",
       "                        <td id=\"T_e90320ad_2f3f_11ef_ae7a_f8a2d6847b90row3_col10\" class=\"data row3 col10\" >0.293393</td>\n",
       "            </tr>\n",
       "            <tr>\n",
       "                        <th id=\"T_e90320ad_2f3f_11ef_ae7a_f8a2d6847b90level0_row4\" class=\"row_heading level0 row4\" >Freedom to make life choices</th>\n",
       "                        <td id=\"T_e90320ad_2f3f_11ef_ae7a_f8a2d6847b90row4_col0\" class=\"data row4 col0\" >0.551433</td>\n",
       "                        <td id=\"T_e90320ad_2f3f_11ef_ae7a_f8a2d6847b90row4_col1\" class=\"data row4 col1\" >0.332008</td>\n",
       "                        <td id=\"T_e90320ad_2f3f_11ef_ae7a_f8a2d6847b90row4_col2\" class=\"data row4 col2\" >0.413479</td>\n",
       "                        <td id=\"T_e90320ad_2f3f_11ef_ae7a_f8a2d6847b90row4_col3\" class=\"data row4 col3\" >0.336698</td>\n",
       "                        <td id=\"T_e90320ad_2f3f_11ef_ae7a_f8a2d6847b90row4_col4\" class=\"data row4 col4\" >1.000000</td>\n",
       "                        <td id=\"T_e90320ad_2f3f_11ef_ae7a_f8a2d6847b90row4_col5\" class=\"data row4 col5\" >0.336639</td>\n",
       "                        <td id=\"T_e90320ad_2f3f_11ef_ae7a_f8a2d6847b90row4_col6\" class=\"data row4 col6\" >0.386771</td>\n",
       "                        <td id=\"T_e90320ad_2f3f_11ef_ae7a_f8a2d6847b90row4_col7\" class=\"data row4 col7\" >0.612797</td>\n",
       "                        <td id=\"T_e90320ad_2f3f_11ef_ae7a_f8a2d6847b90row4_col8\" class=\"data row4 col8\" >0.301750</td>\n",
       "                        <td id=\"T_e90320ad_2f3f_11ef_ae7a_f8a2d6847b90row4_col9\" class=\"data row4 col9\" >0.218185</td>\n",
       "                        <td id=\"T_e90320ad_2f3f_11ef_ae7a_f8a2d6847b90row4_col10\" class=\"data row4 col10\" >0.031151</td>\n",
       "            </tr>\n",
       "            <tr>\n",
       "                        <th id=\"T_e90320ad_2f3f_11ef_ae7a_f8a2d6847b90level0_row5\" class=\"row_heading level0 row5\" >Generosity</th>\n",
       "                        <td id=\"T_e90320ad_2f3f_11ef_ae7a_f8a2d6847b90row5_col0\" class=\"data row5 col0\" >0.169495</td>\n",
       "                        <td id=\"T_e90320ad_2f3f_11ef_ae7a_f8a2d6847b90row5_col1\" class=\"data row5 col1\" >0.052938</td>\n",
       "                        <td id=\"T_e90320ad_2f3f_11ef_ae7a_f8a2d6847b90row5_col2\" class=\"data row5 col2\" >0.046574</td>\n",
       "                        <td id=\"T_e90320ad_2f3f_11ef_ae7a_f8a2d6847b90row5_col3\" class=\"data row5 col3\" >0.000947</td>\n",
       "                        <td id=\"T_e90320ad_2f3f_11ef_ae7a_f8a2d6847b90row5_col4\" class=\"data row5 col4\" >0.336639</td>\n",
       "                        <td id=\"T_e90320ad_2f3f_11ef_ae7a_f8a2d6847b90row5_col5\" class=\"data row5 col5\" >1.000000</td>\n",
       "                        <td id=\"T_e90320ad_2f3f_11ef_ae7a_f8a2d6847b90row5_col6\" class=\"data row5 col6\" >0.284921</td>\n",
       "                        <td id=\"T_e90320ad_2f3f_11ef_ae7a_f8a2d6847b90row5_col7\" class=\"data row5 col7\" >0.313261</td>\n",
       "                        <td id=\"T_e90320ad_2f3f_11ef_ae7a_f8a2d6847b90row5_col8\" class=\"data row5 col8\" >0.104927</td>\n",
       "                        <td id=\"T_e90320ad_2f3f_11ef_ae7a_f8a2d6847b90row5_col9\" class=\"data row5 col9\" >0.113664</td>\n",
       "                        <td id=\"T_e90320ad_2f3f_11ef_ae7a_f8a2d6847b90row5_col10\" class=\"data row5 col10\" >0.155339</td>\n",
       "            </tr>\n",
       "            <tr>\n",
       "                        <th id=\"T_e90320ad_2f3f_11ef_ae7a_f8a2d6847b90level0_row6\" class=\"row_heading level0 row6\" >Perceptions of corruption</th>\n",
       "                        <td id=\"T_e90320ad_2f3f_11ef_ae7a_f8a2d6847b90row6_col0\" class=\"data row6 col0\" >0.351260</td>\n",
       "                        <td id=\"T_e90320ad_2f3f_11ef_ae7a_f8a2d6847b90row6_col1\" class=\"data row6 col1\" >0.209964</td>\n",
       "                        <td id=\"T_e90320ad_2f3f_11ef_ae7a_f8a2d6847b90row6_col2\" class=\"data row6 col2\" >0.140706</td>\n",
       "                        <td id=\"T_e90320ad_2f3f_11ef_ae7a_f8a2d6847b90row6_col3\" class=\"data row6 col3\" >0.160685</td>\n",
       "                        <td id=\"T_e90320ad_2f3f_11ef_ae7a_f8a2d6847b90row6_col4\" class=\"data row6 col4\" >0.386771</td>\n",
       "                        <td id=\"T_e90320ad_2f3f_11ef_ae7a_f8a2d6847b90row6_col5\" class=\"data row6 col5\" >0.284921</td>\n",
       "                        <td id=\"T_e90320ad_2f3f_11ef_ae7a_f8a2d6847b90row6_col6\" class=\"data row6 col6\" >1.000000</td>\n",
       "                        <td id=\"T_e90320ad_2f3f_11ef_ae7a_f8a2d6847b90row6_col7\" class=\"data row6 col7\" >0.235476</td>\n",
       "                        <td id=\"T_e90320ad_2f3f_11ef_ae7a_f8a2d6847b90row6_col8\" class=\"data row6 col8\" >0.198717</td>\n",
       "                        <td id=\"T_e90320ad_2f3f_11ef_ae7a_f8a2d6847b90row6_col9\" class=\"data row6 col9\" >0.047224</td>\n",
       "                        <td id=\"T_e90320ad_2f3f_11ef_ae7a_f8a2d6847b90row6_col10\" class=\"data row6 col10\" >0.148736</td>\n",
       "            </tr>\n",
       "            <tr>\n",
       "                        <th id=\"T_e90320ad_2f3f_11ef_ae7a_f8a2d6847b90level0_row7\" class=\"row_heading level0 row7\" >Positive affect</th>\n",
       "                        <td id=\"T_e90320ad_2f3f_11ef_ae7a_f8a2d6847b90row7_col0\" class=\"data row7 col0\" >0.470288</td>\n",
       "                        <td id=\"T_e90320ad_2f3f_11ef_ae7a_f8a2d6847b90row7_col1\" class=\"data row7 col1\" >0.190851</td>\n",
       "                        <td id=\"T_e90320ad_2f3f_11ef_ae7a_f8a2d6847b90row7_col2\" class=\"data row7 col2\" >0.391514</td>\n",
       "                        <td id=\"T_e90320ad_2f3f_11ef_ae7a_f8a2d6847b90row7_col3\" class=\"data row7 col3\" >0.143683</td>\n",
       "                        <td id=\"T_e90320ad_2f3f_11ef_ae7a_f8a2d6847b90row7_col4\" class=\"data row7 col4\" >0.612797</td>\n",
       "                        <td id=\"T_e90320ad_2f3f_11ef_ae7a_f8a2d6847b90row7_col5\" class=\"data row7 col5\" >0.313261</td>\n",
       "                        <td id=\"T_e90320ad_2f3f_11ef_ae7a_f8a2d6847b90row7_col6\" class=\"data row7 col6\" >0.235476</td>\n",
       "                        <td id=\"T_e90320ad_2f3f_11ef_ae7a_f8a2d6847b90row7_col7\" class=\"data row7 col7\" >1.000000</td>\n",
       "                        <td id=\"T_e90320ad_2f3f_11ef_ae7a_f8a2d6847b90row7_col8\" class=\"data row7 col8\" >0.333883</td>\n",
       "                        <td id=\"T_e90320ad_2f3f_11ef_ae7a_f8a2d6847b90row7_col9\" class=\"data row7 col9\" >0.123963</td>\n",
       "                        <td id=\"T_e90320ad_2f3f_11ef_ae7a_f8a2d6847b90row7_col10\" class=\"data row7 col10\" >0.157827</td>\n",
       "            </tr>\n",
       "            <tr>\n",
       "                        <th id=\"T_e90320ad_2f3f_11ef_ae7a_f8a2d6847b90level0_row8\" class=\"row_heading level0 row8\" >Negative affect</th>\n",
       "                        <td id=\"T_e90320ad_2f3f_11ef_ae7a_f8a2d6847b90row8_col0\" class=\"data row8 col0\" >0.335085</td>\n",
       "                        <td id=\"T_e90320ad_2f3f_11ef_ae7a_f8a2d6847b90row8_col1\" class=\"data row8 col1\" >0.264184</td>\n",
       "                        <td id=\"T_e90320ad_2f3f_11ef_ae7a_f8a2d6847b90row8_col2\" class=\"data row8 col2\" >0.441885</td>\n",
       "                        <td id=\"T_e90320ad_2f3f_11ef_ae7a_f8a2d6847b90row8_col3\" class=\"data row8 col3\" >0.181443</td>\n",
       "                        <td id=\"T_e90320ad_2f3f_11ef_ae7a_f8a2d6847b90row8_col4\" class=\"data row8 col4\" >0.301750</td>\n",
       "                        <td id=\"T_e90320ad_2f3f_11ef_ae7a_f8a2d6847b90row8_col5\" class=\"data row8 col5\" >0.104927</td>\n",
       "                        <td id=\"T_e90320ad_2f3f_11ef_ae7a_f8a2d6847b90row8_col6\" class=\"data row8 col6\" >0.198717</td>\n",
       "                        <td id=\"T_e90320ad_2f3f_11ef_ae7a_f8a2d6847b90row8_col7\" class=\"data row8 col7\" >0.333883</td>\n",
       "                        <td id=\"T_e90320ad_2f3f_11ef_ae7a_f8a2d6847b90row8_col8\" class=\"data row8 col8\" >1.000000</td>\n",
       "                        <td id=\"T_e90320ad_2f3f_11ef_ae7a_f8a2d6847b90row8_col9\" class=\"data row8 col9\" >0.252800</td>\n",
       "                        <td id=\"T_e90320ad_2f3f_11ef_ae7a_f8a2d6847b90row8_col10\" class=\"data row8 col10\" >0.051835</td>\n",
       "            </tr>\n",
       "            <tr>\n",
       "                        <th id=\"T_e90320ad_2f3f_11ef_ae7a_f8a2d6847b90level0_row9\" class=\"row_heading level0 row9\" >Average alcohol consumption per capita (2000 - 2018)</th>\n",
       "                        <td id=\"T_e90320ad_2f3f_11ef_ae7a_f8a2d6847b90row9_col0\" class=\"data row9 col0\" >0.431962</td>\n",
       "                        <td id=\"T_e90320ad_2f3f_11ef_ae7a_f8a2d6847b90row9_col1\" class=\"data row9 col1\" >0.511021</td>\n",
       "                        <td id=\"T_e90320ad_2f3f_11ef_ae7a_f8a2d6847b90row9_col2\" class=\"data row9 col2\" >0.545421</td>\n",
       "                        <td id=\"T_e90320ad_2f3f_11ef_ae7a_f8a2d6847b90row9_col3\" class=\"data row9 col3\" >0.390521</td>\n",
       "                        <td id=\"T_e90320ad_2f3f_11ef_ae7a_f8a2d6847b90row9_col4\" class=\"data row9 col4\" >0.218185</td>\n",
       "                        <td id=\"T_e90320ad_2f3f_11ef_ae7a_f8a2d6847b90row9_col5\" class=\"data row9 col5\" >0.113664</td>\n",
       "                        <td id=\"T_e90320ad_2f3f_11ef_ae7a_f8a2d6847b90row9_col6\" class=\"data row9 col6\" >0.047224</td>\n",
       "                        <td id=\"T_e90320ad_2f3f_11ef_ae7a_f8a2d6847b90row9_col7\" class=\"data row9 col7\" >0.123963</td>\n",
       "                        <td id=\"T_e90320ad_2f3f_11ef_ae7a_f8a2d6847b90row9_col8\" class=\"data row9 col8\" >0.252800</td>\n",
       "                        <td id=\"T_e90320ad_2f3f_11ef_ae7a_f8a2d6847b90row9_col9\" class=\"data row9 col9\" >1.000000</td>\n",
       "                        <td id=\"T_e90320ad_2f3f_11ef_ae7a_f8a2d6847b90row9_col10\" class=\"data row9 col10\" >0.308314</td>\n",
       "            </tr>\n",
       "            <tr>\n",
       "                        <th id=\"T_e90320ad_2f3f_11ef_ae7a_f8a2d6847b90level0_row10\" class=\"row_heading level0 row10\" >Average Tobacco Prevalence</th>\n",
       "                        <td id=\"T_e90320ad_2f3f_11ef_ae7a_f8a2d6847b90row10_col0\" class=\"data row10 col0\" >0.192902</td>\n",
       "                        <td id=\"T_e90320ad_2f3f_11ef_ae7a_f8a2d6847b90row10_col1\" class=\"data row10 col1\" >0.334143</td>\n",
       "                        <td id=\"T_e90320ad_2f3f_11ef_ae7a_f8a2d6847b90row10_col2\" class=\"data row10 col2\" >0.291093</td>\n",
       "                        <td id=\"T_e90320ad_2f3f_11ef_ae7a_f8a2d6847b90row10_col3\" class=\"data row10 col3\" >0.293393</td>\n",
       "                        <td id=\"T_e90320ad_2f3f_11ef_ae7a_f8a2d6847b90row10_col4\" class=\"data row10 col4\" >0.031151</td>\n",
       "                        <td id=\"T_e90320ad_2f3f_11ef_ae7a_f8a2d6847b90row10_col5\" class=\"data row10 col5\" >0.155339</td>\n",
       "                        <td id=\"T_e90320ad_2f3f_11ef_ae7a_f8a2d6847b90row10_col6\" class=\"data row10 col6\" >0.148736</td>\n",
       "                        <td id=\"T_e90320ad_2f3f_11ef_ae7a_f8a2d6847b90row10_col7\" class=\"data row10 col7\" >0.157827</td>\n",
       "                        <td id=\"T_e90320ad_2f3f_11ef_ae7a_f8a2d6847b90row10_col8\" class=\"data row10 col8\" >0.051835</td>\n",
       "                        <td id=\"T_e90320ad_2f3f_11ef_ae7a_f8a2d6847b90row10_col9\" class=\"data row10 col9\" >0.308314</td>\n",
       "                        <td id=\"T_e90320ad_2f3f_11ef_ae7a_f8a2d6847b90row10_col10\" class=\"data row10 col10\" >1.000000</td>\n",
       "            </tr>\n",
       "    </tbody></table>"
      ],
      "text/plain": [
       "<pandas.io.formats.style.Styler at 0x1e1f8d42fd0>"
      ]
     },
     "execution_count": 123,
     "metadata": {},
     "output_type": "execute_result"
    }
   ],
   "source": [
    "df = df_merged\n",
    "# Analizamos correlaciones\n",
    "corr_matrix = df.corr().abs()\n",
    "corr_matrix.style.background_gradient(cmap='coolwarm')"
   ]
  },
  {
   "cell_type": "code",
   "execution_count": 124,
   "metadata": {},
   "outputs": [],
   "source": [
    "#Nos quitamos el GDP ya que tiene correlación alta con otras dos variables\n",
    "df.drop(['Log GDP per capita'], axis=1, inplace = True)"
   ]
  },
  {
   "cell_type": "markdown",
   "metadata": {},
   "source": [
    "Comprobamos que no existan variables con correlaciones de valor absoluto mayores a 0.8"
   ]
  },
  {
   "cell_type": "code",
   "execution_count": 125,
   "metadata": {},
   "outputs": [
    {
     "data": {
      "text/plain": [
       "Life Ladder                                             True\n",
       "Social support                                          True\n",
       "Healthy life expectancy at birth                        True\n",
       "Freedom to make life choices                            True\n",
       "Generosity                                              True\n",
       "Perceptions of corruption                               True\n",
       "Positive affect                                         True\n",
       "Negative affect                                         True\n",
       "Average alcohol consumption per capita (2000 - 2018)    True\n",
       "Average Tobacco Prevalence                              True\n",
       "dtype: bool"
      ]
     },
     "execution_count": 125,
     "metadata": {},
     "output_type": "execute_result"
    }
   ],
   "source": [
    "corr_matrix = df.corr()\n",
    "m = ~(corr_matrix.mask(np.eye(len(corr_matrix), dtype=bool)).abs() > 0.8).any()\n",
    "m"
   ]
  },
  {
   "cell_type": "markdown",
   "metadata": {},
   "source": [
    "Categorizamos las variables numéricas en base a los cuantiles 25 y 75 de froma que los valores debajo del 25% serán considerados bajos, por encima del 75% altos y entre media serán medianos. Estos criterios se pueden cambiar en base a la distribución de los datos. Nota: No categorizaremos todas las variables sabiendo que la descripción de la práctica indica que se categoricen solo las del area, diámetro y compacidad. Se incluye el código parala categorización de todas las variables."
   ]
  },
  {
   "cell_type": "code",
   "execution_count": 126,
   "metadata": {},
   "outputs": [],
   "source": [
    "#Obtenemos los nombres de las variables numéricas\n",
    "cols = df.select_dtypes([np.number]).columns"
   ]
  },
  {
   "cell_type": "code",
   "execution_count": 127,
   "metadata": {},
   "outputs": [
    {
     "data": {
      "text/html": [
       "<div>\n",
       "<style scoped>\n",
       "    .dataframe tbody tr th:only-of-type {\n",
       "        vertical-align: middle;\n",
       "    }\n",
       "\n",
       "    .dataframe tbody tr th {\n",
       "        vertical-align: top;\n",
       "    }\n",
       "\n",
       "    .dataframe thead th {\n",
       "        text-align: right;\n",
       "    }\n",
       "</style>\n",
       "<table border=\"1\" class=\"dataframe\">\n",
       "  <thead>\n",
       "    <tr style=\"text-align: right;\">\n",
       "      <th></th>\n",
       "      <th>Country name</th>\n",
       "      <th>Life Ladder</th>\n",
       "      <th>Social support</th>\n",
       "      <th>Healthy life expectancy at birth</th>\n",
       "      <th>Freedom to make life choices</th>\n",
       "      <th>Generosity</th>\n",
       "      <th>Perceptions of corruption</th>\n",
       "      <th>Positive affect</th>\n",
       "      <th>Negative affect</th>\n",
       "      <th>Average alcohol consumption per capita (2000 - 2018)</th>\n",
       "      <th>Average Tobacco Prevalence</th>\n",
       "    </tr>\n",
       "  </thead>\n",
       "  <tbody>\n",
       "    <tr>\n",
       "      <th>0</th>\n",
       "      <td>Afghanistan</td>\n",
       "      <td>3.703700</td>\n",
       "      <td>0.523000</td>\n",
       "      <td>52.16500</td>\n",
       "      <td>0.510600</td>\n",
       "      <td>0.076000</td>\n",
       "      <td>0.831400</td>\n",
       "      <td>0.494300</td>\n",
       "      <td>0.315800</td>\n",
       "      <td>0.210</td>\n",
       "      <td>23.558949</td>\n",
       "    </tr>\n",
       "    <tr>\n",
       "      <th>1</th>\n",
       "      <td>Albania</td>\n",
       "      <td>5.072750</td>\n",
       "      <td>0.714250</td>\n",
       "      <td>68.54875</td>\n",
       "      <td>0.694937</td>\n",
       "      <td>-0.068188</td>\n",
       "      <td>0.868688</td>\n",
       "      <td>0.559750</td>\n",
       "      <td>0.294563</td>\n",
       "      <td>7.164</td>\n",
       "      <td>52.200000</td>\n",
       "    </tr>\n",
       "    <tr>\n",
       "      <th>2</th>\n",
       "      <td>Algeria</td>\n",
       "      <td>5.269000</td>\n",
       "      <td>0.818750</td>\n",
       "      <td>66.25000</td>\n",
       "      <td>0.511750</td>\n",
       "      <td>-0.122625</td>\n",
       "      <td>0.696875</td>\n",
       "      <td>0.535125</td>\n",
       "      <td>0.263750</td>\n",
       "      <td>0.784</td>\n",
       "      <td>15.116667</td>\n",
       "    </tr>\n",
       "    <tr>\n",
       "      <th>3</th>\n",
       "      <td>Angola</td>\n",
       "      <td>4.420250</td>\n",
       "      <td>0.738250</td>\n",
       "      <td>52.15000</td>\n",
       "      <td>0.456250</td>\n",
       "      <td>-0.093250</td>\n",
       "      <td>0.866750</td>\n",
       "      <td>0.625750</td>\n",
       "      <td>0.351250</td>\n",
       "      <td>6.142</td>\n",
       "      <td>23.558949</td>\n",
       "    </tr>\n",
       "    <tr>\n",
       "      <th>4</th>\n",
       "      <td>Argentina</td>\n",
       "      <td>6.289667</td>\n",
       "      <td>0.901833</td>\n",
       "      <td>66.70000</td>\n",
       "      <td>0.777722</td>\n",
       "      <td>-0.153222</td>\n",
       "      <td>0.839056</td>\n",
       "      <td>0.737944</td>\n",
       "      <td>0.288333</td>\n",
       "      <td>9.140</td>\n",
       "      <td>25.533333</td>\n",
       "    </tr>\n",
       "  </tbody>\n",
       "</table>\n",
       "</div>"
      ],
      "text/plain": [
       "  Country name  Life Ladder  Social support  Healthy life expectancy at birth  \\\n",
       "0  Afghanistan     3.703700        0.523000                          52.16500   \n",
       "1      Albania     5.072750        0.714250                          68.54875   \n",
       "2      Algeria     5.269000        0.818750                          66.25000   \n",
       "3       Angola     4.420250        0.738250                          52.15000   \n",
       "4    Argentina     6.289667        0.901833                          66.70000   \n",
       "\n",
       "   Freedom to make life choices  Generosity  Perceptions of corruption  \\\n",
       "0                      0.510600    0.076000                   0.831400   \n",
       "1                      0.694937   -0.068188                   0.868688   \n",
       "2                      0.511750   -0.122625                   0.696875   \n",
       "3                      0.456250   -0.093250                   0.866750   \n",
       "4                      0.777722   -0.153222                   0.839056   \n",
       "\n",
       "   Positive affect  Negative affect  \\\n",
       "0         0.494300         0.315800   \n",
       "1         0.559750         0.294563   \n",
       "2         0.535125         0.263750   \n",
       "3         0.625750         0.351250   \n",
       "4         0.737944         0.288333   \n",
       "\n",
       "   Average alcohol consumption per capita (2000 - 2018)  \\\n",
       "0                                              0.210      \n",
       "1                                              7.164      \n",
       "2                                              0.784      \n",
       "3                                              6.142      \n",
       "4                                              9.140      \n",
       "\n",
       "   Average Tobacco Prevalence  \n",
       "0                   23.558949  \n",
       "1                   52.200000  \n",
       "2                   15.116667  \n",
       "3                   23.558949  \n",
       "4                   25.533333  "
      ]
     },
     "execution_count": 127,
     "metadata": {},
     "output_type": "execute_result"
    }
   ],
   "source": [
    "df.head()"
   ]
  },
  {
   "cell_type": "code",
   "execution_count": 128,
   "metadata": {},
   "outputs": [
    {
     "data": {
      "text/html": [
       "<div>\n",
       "<style scoped>\n",
       "    .dataframe tbody tr th:only-of-type {\n",
       "        vertical-align: middle;\n",
       "    }\n",
       "\n",
       "    .dataframe tbody tr th {\n",
       "        vertical-align: top;\n",
       "    }\n",
       "\n",
       "    .dataframe thead th {\n",
       "        text-align: right;\n",
       "    }\n",
       "</style>\n",
       "<table border=\"1\" class=\"dataframe\">\n",
       "  <thead>\n",
       "    <tr style=\"text-align: right;\">\n",
       "      <th></th>\n",
       "      <th>Country name</th>\n",
       "      <th>Life Ladder</th>\n",
       "      <th>Social support</th>\n",
       "      <th>Healthy life expectancy at birth</th>\n",
       "      <th>Freedom to make life choices</th>\n",
       "      <th>Generosity</th>\n",
       "      <th>Perceptions of corruption</th>\n",
       "      <th>Positive affect</th>\n",
       "      <th>Negative affect</th>\n",
       "      <th>Average alcohol consumption per capita (2000 - 2018)</th>\n",
       "      <th>Average Tobacco Prevalence</th>\n",
       "    </tr>\n",
       "  </thead>\n",
       "  <tbody>\n",
       "    <tr>\n",
       "      <th>0</th>\n",
       "      <td>Afghanistan</td>\n",
       "      <td>0</td>\n",
       "      <td>0</td>\n",
       "      <td>0</td>\n",
       "      <td>0</td>\n",
       "      <td>2</td>\n",
       "      <td>1</td>\n",
       "      <td>0</td>\n",
       "      <td>1</td>\n",
       "      <td>0</td>\n",
       "      <td>1</td>\n",
       "    </tr>\n",
       "    <tr>\n",
       "      <th>1</th>\n",
       "      <td>Albania</td>\n",
       "      <td>1</td>\n",
       "      <td>0</td>\n",
       "      <td>2</td>\n",
       "      <td>1</td>\n",
       "      <td>1</td>\n",
       "      <td>2</td>\n",
       "      <td>0</td>\n",
       "      <td>1</td>\n",
       "      <td>1</td>\n",
       "      <td>2</td>\n",
       "    </tr>\n",
       "    <tr>\n",
       "      <th>2</th>\n",
       "      <td>Algeria</td>\n",
       "      <td>1</td>\n",
       "      <td>1</td>\n",
       "      <td>1</td>\n",
       "      <td>0</td>\n",
       "      <td>0</td>\n",
       "      <td>0</td>\n",
       "      <td>0</td>\n",
       "      <td>1</td>\n",
       "      <td>0</td>\n",
       "      <td>0</td>\n",
       "    </tr>\n",
       "    <tr>\n",
       "      <th>3</th>\n",
       "      <td>Angola</td>\n",
       "      <td>0</td>\n",
       "      <td>1</td>\n",
       "      <td>0</td>\n",
       "      <td>0</td>\n",
       "      <td>1</td>\n",
       "      <td>2</td>\n",
       "      <td>1</td>\n",
       "      <td>2</td>\n",
       "      <td>1</td>\n",
       "      <td>1</td>\n",
       "    </tr>\n",
       "    <tr>\n",
       "      <th>4</th>\n",
       "      <td>Argentina</td>\n",
       "      <td>2</td>\n",
       "      <td>2</td>\n",
       "      <td>1</td>\n",
       "      <td>1</td>\n",
       "      <td>0</td>\n",
       "      <td>1</td>\n",
       "      <td>2</td>\n",
       "      <td>1</td>\n",
       "      <td>1</td>\n",
       "      <td>1</td>\n",
       "    </tr>\n",
       "  </tbody>\n",
       "</table>\n",
       "</div>"
      ],
      "text/plain": [
       "  Country name  Life Ladder  Social support  Healthy life expectancy at birth  \\\n",
       "0  Afghanistan            0               0                                 0   \n",
       "1      Albania            1               0                                 2   \n",
       "2      Algeria            1               1                                 1   \n",
       "3       Angola            0               1                                 0   \n",
       "4    Argentina            2               2                                 1   \n",
       "\n",
       "   Freedom to make life choices  Generosity  Perceptions of corruption  \\\n",
       "0                             0           2                          1   \n",
       "1                             1           1                          2   \n",
       "2                             0           0                          0   \n",
       "3                             0           1                          2   \n",
       "4                             1           0                          1   \n",
       "\n",
       "   Positive affect  Negative affect  \\\n",
       "0                0                1   \n",
       "1                0                1   \n",
       "2                0                1   \n",
       "3                1                2   \n",
       "4                2                1   \n",
       "\n",
       "   Average alcohol consumption per capita (2000 - 2018)  \\\n",
       "0                                                  0      \n",
       "1                                                  1      \n",
       "2                                                  0      \n",
       "3                                                  1      \n",
       "4                                                  1      \n",
       "\n",
       "   Average Tobacco Prevalence  \n",
       "0                           1  \n",
       "1                           2  \n",
       "2                           0  \n",
       "3                           1  \n",
       "4                           1  "
      ]
     },
     "execution_count": 128,
     "metadata": {},
     "output_type": "execute_result"
    }
   ],
   "source": [
    "#Para utlizar el clasificador de arboles tendremos que utilizar valores numéricos para las categorías de bajo, medio y alto (0, 1 y 2)\n",
    "#Guardamos primero el df original\n",
    "df_original = df\n",
    "def replace_func(x, low, high):\n",
    "    \n",
    "    if x < low:\n",
    "        return 0\n",
    "        #return 'Bajo' \n",
    "    elif x > high:\n",
    "        return 2\n",
    "        #return 'alto'\n",
    "    else:\n",
    "        return 1\n",
    "        #return 'medio'\n",
    "\n",
    "for i in cols:\n",
    "    low = df[i].quantile(.25)\n",
    "    high = df[i].quantile(.75)\n",
    "    df[i] = df.apply(lambda x: replace_func(x[i],low,high ),axis = 1)\n",
    "    \n",
    "df.head()"
   ]
  },
  {
   "cell_type": "code",
   "execution_count": 129,
   "metadata": {},
   "outputs": [],
   "source": [
    "# Dividir el conjunto de datos en características (X) y variable objetivo (y)\n",
    "X = df.drop(['Country name','Life Ladder', 'Social support'], axis=1)\n",
    "y = df['Life Ladder']"
   ]
  },
  {
   "cell_type": "code",
   "execution_count": 130,
   "metadata": {},
   "outputs": [],
   "source": [
    "from sklearn.model_selection import train_test_split\n",
    "# Dividir el conjunto de datos en entrenamiento y prueba (80% entrenamiento, 20% prueba)\n",
    "X_train, X_test, y_train, y_test = train_test_split(X, y, test_size=0.3, random_state=42)\n"
   ]
  },
  {
   "cell_type": "code",
   "execution_count": 131,
   "metadata": {},
   "outputs": [],
   "source": [
    "from sklearn.tree import DecisionTreeClassifier\n",
    "# Crear y entrenar los clasificadores de árbol de decisión\n",
    "clf_gini = DecisionTreeClassifier(criterion='gini', random_state=42,\n",
    "                                  max_depth=3,              \n",
    "                                  min_samples_split=2,      \n",
    "                                  min_samples_leaf=2,   \n",
    "                                  ccp_alpha=0.01)            \n",
    "\n",
    "clf_entropy = DecisionTreeClassifier(criterion='entropy', random_state=42,\n",
    "                                     max_depth=3,\n",
    "                                     min_samples_split=2,\n",
    "                                     min_samples_leaf=2,\n",
    "                                     ccp_alpha=0.01)        "
   ]
  },
  {
   "cell_type": "code",
   "execution_count": 132,
   "metadata": {},
   "outputs": [
    {
     "data": {
      "text/html": [
       "<style>#sk-container-id-7 {color: black;}#sk-container-id-7 pre{padding: 0;}#sk-container-id-7 div.sk-toggleable {background-color: white;}#sk-container-id-7 label.sk-toggleable__label {cursor: pointer;display: block;width: 100%;margin-bottom: 0;padding: 0.3em;box-sizing: border-box;text-align: center;}#sk-container-id-7 label.sk-toggleable__label-arrow:before {content: \"▸\";float: left;margin-right: 0.25em;color: #696969;}#sk-container-id-7 label.sk-toggleable__label-arrow:hover:before {color: black;}#sk-container-id-7 div.sk-estimator:hover label.sk-toggleable__label-arrow:before {color: black;}#sk-container-id-7 div.sk-toggleable__content {max-height: 0;max-width: 0;overflow: hidden;text-align: left;background-color: #f0f8ff;}#sk-container-id-7 div.sk-toggleable__content pre {margin: 0.2em;color: black;border-radius: 0.25em;background-color: #f0f8ff;}#sk-container-id-7 input.sk-toggleable__control:checked~div.sk-toggleable__content {max-height: 200px;max-width: 100%;overflow: auto;}#sk-container-id-7 input.sk-toggleable__control:checked~label.sk-toggleable__label-arrow:before {content: \"▾\";}#sk-container-id-7 div.sk-estimator input.sk-toggleable__control:checked~label.sk-toggleable__label {background-color: #d4ebff;}#sk-container-id-7 div.sk-label input.sk-toggleable__control:checked~label.sk-toggleable__label {background-color: #d4ebff;}#sk-container-id-7 input.sk-hidden--visually {border: 0;clip: rect(1px 1px 1px 1px);clip: rect(1px, 1px, 1px, 1px);height: 1px;margin: -1px;overflow: hidden;padding: 0;position: absolute;width: 1px;}#sk-container-id-7 div.sk-estimator {font-family: monospace;background-color: #f0f8ff;border: 1px dotted black;border-radius: 0.25em;box-sizing: border-box;margin-bottom: 0.5em;}#sk-container-id-7 div.sk-estimator:hover {background-color: #d4ebff;}#sk-container-id-7 div.sk-parallel-item::after {content: \"\";width: 100%;border-bottom: 1px solid gray;flex-grow: 1;}#sk-container-id-7 div.sk-label:hover label.sk-toggleable__label {background-color: #d4ebff;}#sk-container-id-7 div.sk-serial::before {content: \"\";position: absolute;border-left: 1px solid gray;box-sizing: border-box;top: 0;bottom: 0;left: 50%;z-index: 0;}#sk-container-id-7 div.sk-serial {display: flex;flex-direction: column;align-items: center;background-color: white;padding-right: 0.2em;padding-left: 0.2em;position: relative;}#sk-container-id-7 div.sk-item {position: relative;z-index: 1;}#sk-container-id-7 div.sk-parallel {display: flex;align-items: stretch;justify-content: center;background-color: white;position: relative;}#sk-container-id-7 div.sk-item::before, #sk-container-id-7 div.sk-parallel-item::before {content: \"\";position: absolute;border-left: 1px solid gray;box-sizing: border-box;top: 0;bottom: 0;left: 50%;z-index: -1;}#sk-container-id-7 div.sk-parallel-item {display: flex;flex-direction: column;z-index: 1;position: relative;background-color: white;}#sk-container-id-7 div.sk-parallel-item:first-child::after {align-self: flex-end;width: 50%;}#sk-container-id-7 div.sk-parallel-item:last-child::after {align-self: flex-start;width: 50%;}#sk-container-id-7 div.sk-parallel-item:only-child::after {width: 0;}#sk-container-id-7 div.sk-dashed-wrapped {border: 1px dashed gray;margin: 0 0.4em 0.5em 0.4em;box-sizing: border-box;padding-bottom: 0.4em;background-color: white;}#sk-container-id-7 div.sk-label label {font-family: monospace;font-weight: bold;display: inline-block;line-height: 1.2em;}#sk-container-id-7 div.sk-label-container {text-align: center;}#sk-container-id-7 div.sk-container {/* jupyter's `normalize.less` sets `[hidden] { display: none; }` but bootstrap.min.css set `[hidden] { display: none !important; }` so we also need the `!important` here to be able to override the default hidden behavior on the sphinx rendered scikit-learn.org. See: https://github.com/scikit-learn/scikit-learn/issues/21755 */display: inline-block !important;position: relative;}#sk-container-id-7 div.sk-text-repr-fallback {display: none;}</style><div id=\"sk-container-id-7\" class=\"sk-top-container\"><div class=\"sk-text-repr-fallback\"><pre>DecisionTreeClassifier(ccp_alpha=0.01, criterion=&#x27;entropy&#x27;, max_depth=3,\n",
       "                       min_samples_leaf=2, random_state=42)</pre><b>In a Jupyter environment, please rerun this cell to show the HTML representation or trust the notebook. <br />On GitHub, the HTML representation is unable to render, please try loading this page with nbviewer.org.</b></div><div class=\"sk-container\" hidden><div class=\"sk-item\"><div class=\"sk-estimator sk-toggleable\"><input class=\"sk-toggleable__control sk-hidden--visually\" id=\"sk-estimator-id-7\" type=\"checkbox\" checked><label for=\"sk-estimator-id-7\" class=\"sk-toggleable__label sk-toggleable__label-arrow\">DecisionTreeClassifier</label><div class=\"sk-toggleable__content\"><pre>DecisionTreeClassifier(ccp_alpha=0.01, criterion=&#x27;entropy&#x27;, max_depth=3,\n",
       "                       min_samples_leaf=2, random_state=42)</pre></div></div></div></div></div>"
      ],
      "text/plain": [
       "DecisionTreeClassifier(ccp_alpha=0.01, criterion='entropy', max_depth=3,\n",
       "                       min_samples_leaf=2, random_state=42)"
      ]
     },
     "execution_count": 132,
     "metadata": {},
     "output_type": "execute_result"
    }
   ],
   "source": [
    "clf_gini.fit(X_train, y_train)\n",
    "clf_entropy.fit(X_train, y_train)"
   ]
  },
  {
   "cell_type": "code",
   "execution_count": 133,
   "metadata": {},
   "outputs": [
    {
     "name": "stdout",
     "output_type": "stream",
     "text": [
      "Accuracy con criterio Gini: 0.7272727272727273\n",
      "Accuracy con criterio Entropy: 0.7272727272727273\n"
     ]
    }
   ],
   "source": [
    "from sklearn.metrics import accuracy_score\n",
    "# Calcular el error de cada clasificador\n",
    "y_pred_gini = clf_gini.predict(X_test)\n",
    "y_pred_entropy = clf_entropy.predict(X_test)\n",
    "\n",
    "accuracy_gini = accuracy_score(y_test, y_pred_gini)\n",
    "accuracy_entropy = accuracy_score(y_test, y_pred_entropy)\n",
    "\n",
    "print(f'Accuracy con criterio Gini: {accuracy_gini}')\n",
    "print(f'Accuracy con criterio Entropy: {accuracy_entropy}')"
   ]
  },
  {
   "cell_type": "markdown",
   "metadata": {},
   "source": [
    "Las reglas generadas usando el criterio Gini tienen el mismo error al clasificar el test, lo que las hace mejor clasificadores. Estas reglas en arbol son las siguientes:"
   ]
  },
  {
   "cell_type": "code",
   "execution_count": 134,
   "metadata": {},
   "outputs": [
    {
     "data": {
      "image/png": "[encoded data removed]",
      "text/plain": [
       "<Figure size 1800x1200 with 1 Axes>"
      ]
     },
     "metadata": {
      "needs_background": "light"
     },
     "output_type": "display_data"
    }
   ],
   "source": [
    "from sklearn import tree\n",
    "from sklearn.preprocessing import LabelEncoder as le\n",
    "# Dibujar el modelo usando criterio Gini\n",
    "plt.figure(figsize=(12, 8), dpi=150)\n",
    "decision_tree = tree.plot_tree(\n",
    "    clf_gini, \n",
    "    filled=True, \n",
    "    feature_names=X_train.columns, \n",
    "    fontsize=8,  \n",
    "    precision=2,  \n",
    "    rounded=True\n",
    ")\n",
    "plt.title('Árbol de decisión con criterio Gini')\n",
    "plt.show()"
   ]
  },
  {
   "cell_type": "markdown",
   "metadata": {},
   "source": [
    "### Conclusión de clasificación: \n",
    "Las reglas más importantes son las siguientes:\n",
    "\n",
    "Soporte social alto y libertad alta - > felicidad alta (gini = 0.1)\n",
    "Soporte social bajo y percepción de corrupción no alta -> felicidad baja\n",
    "Soporte social medio y esperanza de vida no baja -> felicidad media\n",
    "\n",
    "\n",
    "Esto implica que el factor más importante parece ser el soporte, pero no es suficiente para garantizar un nivel de felicidad en particular. \n",
    "\n",
    "Una conclusión que se puede sacar de estos resultados es que el uso de tabaco y alcohol no parece influir en el coeficiente de felicidad de un país."
   ]
  }
 ],
 "metadata": {
  "kernelspec": {
   "display_name": "Python 3",
   "language": "python",
   "name": "python3"
  },
  "language_info": {
   "codemirror_mode": {
    "name": "ipython",
    "version": 3
   },
   "file_extension": ".py",
   "mimetype": "text/x-python",
   "name": "python",
   "nbconvert_exporter": "python",
   "pygments_lexer": "ipython3",
   "version": "3.8.3"
  }
 },
 "nbformat": 4,
 "nbformat_minor": 4
}
